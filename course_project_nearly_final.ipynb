{
  "cells": [
    {
      "cell_type": "markdown",
      "metadata": {
        "id": "view-in-github",
        "colab_type": "text"
      },
      "source": [
        "<a href=\"https://colab.research.google.com/github/gsgol/course_works/blob/main/course_project_nearly_final.ipynb\" target=\"_parent\"><img src=\"https://colab.research.google.com/assets/colab-badge.svg\" alt=\"Open In Colab\"/></a>"
      ]
    },
    {
      "cell_type": "markdown",
      "metadata": {
        "id": "qPgCJXANxOEd"
      },
      "source": [
        "# ***ПРОЕКТ ЭМОЦИОНАЛЬНАЯ ВОВЛЕЧЕННОСТЬ УЧАСТНИКОВ ОНЛАЙН МЕРОПРИЯТИЯ***"
      ]
    },
    {
      "cell_type": "markdown",
      "metadata": {
        "id": "v2RqEKmSxey3"
      },
      "source": [
        "Импорт библиотек"
      ]
    },
    {
      "cell_type": "code",
      "execution_count": 3,
      "metadata": {
        "id": "D4jjksO7K5Dp"
      },
      "outputs": [],
      "source": [
        "import os\n",
        "from PIL import Image\n",
        "import cv2\n",
        "from sklearn.model_selection import train_test_split\n",
        "from sklearn import preprocessing\n",
        "from sklearn import svm\n",
        "from sklearn.ensemble import RandomForestClassifier,RandomForestRegressor\n",
        "from sklearn import svm,metrics,preprocessing\n",
        "from sklearn.neighbors import KNeighborsClassifier\n",
        "from sklearn.decomposition import PCA\n",
        "from sklearn.pipeline import Pipeline\n",
        "from collections import defaultdict\n",
        "import os\n",
        "import random\n",
        "import numpy as np\n",
        "from tqdm import tqdm\n",
        "import time\n",
        "import pickle\n",
        "import pandas as pd\n",
        "import matplotlib.pyplot as plt\n",
        "import pathlib\n",
        "import tensorflow as tf\n",
        "import torch\n",
        "from tensorflow.keras.applications.resnet import preprocess_input\n",
        "from tensorflow.keras.layers import TimeDistributed, GRU, Dense, Dropout, Flatten, LSTM, Activation, MaxPooling2D\n",
        "from tensorflow.keras.regularizers import l2 as L2_reg\n",
        "from tensorflow.keras.layers import Conv2D, BatchNormalization,MaxPool2D, GlobalMaxPool2D, Input, Masking, Conv3D, MaxPooling3D, GlobalMaxPool3D\n",
        "from tensorflow.keras.optimizers import SGD, Adam\n",
        "from tensorflow.compat.v1.keras.backend import set_session\n",
        "import glob\n",
        "from itertools import chain\n",
        "import os\n",
        "import random\n",
        "import zipfile\n",
        "\n",
        "import matplotlib.pyplot as plt\n",
        "import numpy as np\n",
        "import pandas as pd\n",
        "import torch\n",
        "import torch.nn as nn\n",
        "import torch.nn.functional as F\n",
        "import torch.optim as optim\n",
        "from PIL import Image\n",
        "from sklearn.model_selection import train_test_split\n",
        "from torch.optim.lr_scheduler import StepLR\n",
        "from torch.utils.data import DataLoader, Dataset\n",
        "from torchvision import datasets, transforms\n",
        "from tqdm.notebook import tqdm \n",
        "config = tf.compat.v1.ConfigProto()\n",
        "config.gpu_options.allow_growth = True\n",
        "sess=tf.compat.v1.Session(config=config)\n",
        "set_session(sess)"
      ]
    },
    {
      "cell_type": "code",
      "source": [
        "from google.colab import drive\n",
        "drive.mount('/content/drive')"
      ],
      "metadata": {
        "id": "H1N2IITSUNqO",
        "outputId": "78884098-5b3c-431c-eaa9-ca37498cd017",
        "colab": {
          "base_uri": "https://localhost:8080/"
        }
      },
      "execution_count": 4,
      "outputs": [
        {
          "output_type": "stream",
          "name": "stdout",
          "text": [
            "Mounted at /content/drive\n"
          ]
        }
      ]
    },
    {
      "cell_type": "code",
      "execution_count": 5,
      "metadata": {
        "colab": {
          "base_uri": "https://localhost:8080/"
        },
        "id": "XEiiNoX2KYEI",
        "outputId": "0d8c1ccb-8115-44e1-e19e-7fa83b3e96bd"
      },
      "outputs": [
        {
          "output_type": "execute_result",
          "data": {
            "text/plain": [
              "device(type='cuda')"
            ]
          },
          "metadata": {},
          "execution_count": 5
        }
      ],
      "source": [
        "device = torch.device('cuda')\n",
        "device"
      ]
    },
    {
      "cell_type": "code",
      "execution_count": 6,
      "metadata": {
        "id": "tXeRjESPRcsm"
      },
      "outputs": [],
      "source": [
        "DATA_DIR = '/content/drive/MyDrive/course_work'"
      ]
    },
    {
      "cell_type": "markdown",
      "metadata": {
        "id": "ibCjyiqAoQsT"
      },
      "source": [
        "## **Preparing** **data**"
      ]
    },
    {
      "cell_type": "code",
      "execution_count": 5,
      "metadata": {
        "id": "Y8165deSXb8i",
        "outputId": "22a0a3b3-8005-4f34-864f-e8bca8d57719",
        "colab": {
          "base_uri": "https://localhost:8080/",
          "height": 292,
          "referenced_widgets": [
            "5023a9052e62423c8daeaff4780dcb81",
            "7f7423222dde4f0495eefbf9a1ea1868",
            "bad9cb8433b34f4d9fa42874fc352614",
            "66b7c3e73b15464688eaf5794bc15c27",
            "3e58b1974fd544629591d4bc76802cbb",
            "a491c7640c9e446c9618c16eb64429c3",
            "5f32a5f9ba1940a88d3babf95848dbcd",
            "9163ba57693e4803b19efa3c8c9dffca",
            "7098b55a122b43a088414dd06ec28002",
            "1c74dc32c39c4238bf46eba72df952f8",
            "57c8ae70b6114d66a8f208751908dddd"
          ]
        }
      },
      "outputs": [
        {
          "output_type": "stream",
          "name": "stdout",
          "text": [
            "Test\n"
          ]
        },
        {
          "output_type": "display_data",
          "data": {
            "text/plain": [
              "  0%|          | 0/13 [00:00<?, ?it/s]"
            ],
            "application/vnd.jupyter.widget-view+json": {
              "version_major": 2,
              "version_minor": 0,
              "model_id": "5023a9052e62423c8daeaff4780dcb81"
            }
          },
          "metadata": {}
        },
        {
          "output_type": "stream",
          "name": "stdout",
          "text": [
            "ffmpeg -i /content/drive/MyDrive/course_work/Test/3_1.mp4 -r 0.5 '/content/drive/MyDrive/course_work/Test/3_1/%05d.png'\n",
            "ffmpeg -i /content/drive/MyDrive/course_work/Test/3_2.mp4 -r 0.5 '/content/drive/MyDrive/course_work/Test/3_2/%05d.png'\n",
            "ffmpeg -i /content/drive/MyDrive/course_work/Test/3_7.mp4 -r 0.5 '/content/drive/MyDrive/course_work/Test/3_7/%05d.png'\n",
            "ffmpeg -i /content/drive/MyDrive/course_work/Test/1_2.mp4 -r 0.5 '/content/drive/MyDrive/course_work/Test/1_2/%05d.png'\n",
            "ffmpeg -i /content/drive/MyDrive/course_work/Test/1_4.mp4 -r 0.5 '/content/drive/MyDrive/course_work/Test/1_4/%05d.png'\n",
            "ffmpeg -i /content/drive/MyDrive/course_work/Test/1_6_1.mp4 -r 0.5 '/content/drive/MyDrive/course_work/Test/1_6_1/%05d.png'\n",
            "ffmpeg -i /content/drive/MyDrive/course_work/Test/1_7.mp4 -r 0.5 '/content/drive/MyDrive/course_work/Test/1_7/%05d.png'\n",
            "ffmpeg -i /content/drive/MyDrive/course_work/Test/2_6_4.mp4 -r 0.5 '/content/drive/MyDrive/course_work/Test/2_6_4/%05d.png'\n",
            "ffmpeg -i /content/drive/MyDrive/course_work/Test/2_6_2.mp4 -r 0.5 '/content/drive/MyDrive/course_work/Test/2_6_2/%05d.png'\n",
            "ffmpeg -i /content/drive/MyDrive/course_work/Test/2_7_4.mp4 -r 0.5 '/content/drive/MyDrive/course_work/Test/2_7_4/%05d.png'\n",
            "ffmpeg -i /content/drive/MyDrive/course_work/Test/3_4_2.mp4 -r 0.5 '/content/drive/MyDrive/course_work/Test/3_4_2/%05d.png'\n",
            "ffmpeg -i /content/drive/MyDrive/course_work/Test/3_4_5.mp4 -r 0.5 '/content/drive/MyDrive/course_work/Test/3_4_5/%05d.png'\n",
            "ffmpeg -i /content/drive/MyDrive/course_work/Test/3_4_6.mp4 -r 0.5 '/content/drive/MyDrive/course_work/Test/3_4_6/%05d.png'\n"
          ]
        }
      ],
      "source": [
        "def process_dir(dirname):\n",
        "    print(dirname)\n",
        "    d=os.path.join(DATA_DIR,dirname)\n",
        "    for filename in tqdm(os.listdir(d)):\n",
        "        if filename.lower().endswith('ini'):\n",
        "            continue\n",
        "        if os.path.isdir(os.path.join(d,filename)):\n",
        "            videofile=None\n",
        "            for fn in os.listdir(os.path.join(d,filename)):\n",
        "                if fn.lower().endswith('ini'):\n",
        "                    continue\n",
        "                videofile=fn\n",
        "            if videofile is None:\n",
        "                print(filename)\n",
        "                continue\n",
        "            filename=os.path.join(filename,videofile)\n",
        "        fn, ext = os.path.splitext(os.path.basename(filename))\n",
        "        outdir=os.path.join(d,fn)\n",
        "        if not os.path.exists(outdir):\n",
        "            os.makedirs(outdir)\n",
        "        command = \"ffmpeg -i \"+os.path.join(d,filename) + \" -r 0.5 '\"+outdir+\"/%05d.png'\"\n",
        "        print(command)\n",
        "        os.system(command=command)\n",
        "\n",
        "process_dir('Test')"
      ]
    },
    {
      "cell_type": "code",
      "source": [
        "import ffmpeg"
      ],
      "metadata": {
        "id": "kyY5R5qxbYO7"
      },
      "execution_count": 66,
      "outputs": []
    },
    {
      "cell_type": "code",
      "execution_count": 6,
      "metadata": {
        "id": "J8n7bbsyxy9A",
        "outputId": "146a1f81-fb70-44e2-de19-53b1c2e2c266",
        "colab": {
          "base_uri": "https://localhost:8080/",
          "height": 396,
          "referenced_widgets": [
            "9fecdc1395a44b998f238cf6ae991a51",
            "0eb535d9ab5248469dd01f244e5c3c8e",
            "ec311b769551440ab97f9bb1fbaeba5f",
            "89efb2189d694cfda8dc9eaf48eb871c",
            "ff6e8c75ac5b4829b5d8311a73842a5e",
            "164b19ebddc84a6da7d744ad103e276f",
            "863bdfdf63c042a485dc801189caa8d7",
            "1fdd3dd057274fe2a391d02305f31f18",
            "45e709e9c46a418d995a0cc1a5d7ae81",
            "944a2f8163d048c888fc24e62d3ca25e",
            "c84ef6ce7e4d47229f0e5358ff7857c6"
          ]
        }
      },
      "outputs": [
        {
          "output_type": "stream",
          "name": "stdout",
          "text": [
            "Train\n"
          ]
        },
        {
          "output_type": "display_data",
          "data": {
            "text/plain": [
              "  0%|          | 0/19 [00:00<?, ?it/s]"
            ],
            "application/vnd.jupyter.widget-view+json": {
              "version_major": 2,
              "version_minor": 0,
              "model_id": "9fecdc1395a44b998f238cf6ae991a51"
            }
          },
          "metadata": {}
        },
        {
          "output_type": "stream",
          "name": "stdout",
          "text": [
            "ffmpeg -i /content/drive/MyDrive/course_work/Train/1_6.mp4 -r 0.5 '/content/drive/MyDrive/course_work/Train/1_6/%05d.png'\n",
            "ffmpeg -i /content/drive/MyDrive/course_work/Train/2_1.mp4 -r 0.5 '/content/drive/MyDrive/course_work/Train/2_1/%05d.png'\n",
            "ffmpeg -i /content/drive/MyDrive/course_work/Train/0_1.mp4 -r 0.5 '/content/drive/MyDrive/course_work/Train/0_1/%05d.png'\n",
            "ffmpeg -i /content/drive/MyDrive/course_work/Train/1_3.mp4 -r 0.5 '/content/drive/MyDrive/course_work/Train/1_3/%05d.png'\n",
            "ffmpeg -i /content/drive/MyDrive/course_work/Train/2_5.mp4 -r 0.5 '/content/drive/MyDrive/course_work/Train/2_5/%05d.png'\n",
            "ffmpeg -i /content/drive/MyDrive/course_work/Train/0_5.mp4 -r 0.5 '/content/drive/MyDrive/course_work/Train/0_5/%05d.png'\n",
            "ffmpeg -i /content/drive/MyDrive/course_work/Train/1_1.mp4 -r 0.5 '/content/drive/MyDrive/course_work/Train/1_1/%05d.png'\n",
            "ffmpeg -i /content/drive/MyDrive/course_work/Train/2_8.mp4 -r 0.5 '/content/drive/MyDrive/course_work/Train/2_8/%05d.png'\n",
            "ffmpeg -i /content/drive/MyDrive/course_work/Train/0_5_1.mp4 -r 0.5 '/content/drive/MyDrive/course_work/Train/0_5_1/%05d.png'\n",
            "ffmpeg -i /content/drive/MyDrive/course_work/Train/1_4_2.mp4 -r 0.5 '/content/drive/MyDrive/course_work/Train/1_4_2/%05d.png'\n",
            "ffmpeg -i /content/drive/MyDrive/course_work/Train/1_5_1.mp4 -r 0.5 '/content/drive/MyDrive/course_work/Train/1_5_1/%05d.png'\n",
            "ffmpeg -i /content/drive/MyDrive/course_work/Train/1_5_2.mp4 -r 0.5 '/content/drive/MyDrive/course_work/Train/1_5_2/%05d.png'\n",
            "ffmpeg -i /content/drive/MyDrive/course_work/Train/2_4_2.mp4 -r 0.5 '/content/drive/MyDrive/course_work/Train/2_4_2/%05d.png'\n",
            "ffmpeg -i /content/drive/MyDrive/course_work/Train/2_4_3.mp4 -r 0.5 '/content/drive/MyDrive/course_work/Train/2_4_3/%05d.png'\n",
            "ffmpeg -i /content/drive/MyDrive/course_work/Train/2_4_4.mp4 -r 0.5 '/content/drive/MyDrive/course_work/Train/2_4_4/%05d.png'\n",
            "ffmpeg -i /content/drive/MyDrive/course_work/Train/3_2_1.mp4 -r 0.5 '/content/drive/MyDrive/course_work/Train/3_2_1/%05d.png'\n",
            "ffmpeg -i /content/drive/MyDrive/course_work/Train/3_4_3.mp4 -r 0.5 '/content/drive/MyDrive/course_work/Train/3_4_3/%05d.png'\n",
            "ffmpeg -i /content/drive/MyDrive/course_work/Train/3_4_4.mp4 -r 0.5 '/content/drive/MyDrive/course_work/Train/3_4_4/%05d.png'\n",
            "ffmpeg -i /content/drive/MyDrive/course_work/Train/3_4_7.mp4 -r 0.5 '/content/drive/MyDrive/course_work/Train/3_4_7/%05d.png'\n"
          ]
        }
      ],
      "source": [
        "process_dir('Train')"
      ]
    },
    {
      "cell_type": "code",
      "execution_count": 7,
      "metadata": {
        "id": "wYIk_x-FxzM1",
        "outputId": "ceaf7a67-6c29-4e2b-a481-0ef65811a7bf",
        "colab": {
          "base_uri": "https://localhost:8080/",
          "height": 170,
          "referenced_widgets": [
            "a90a366276e141b89959e5360bf9eec5",
            "77ed1041ab1446d1ae6c324187ea019c",
            "9c3c5040861142d58f657bcf9ae6229d",
            "31a78bbdfed3489d96a779718456e82c",
            "89415dd4cdd44f58914b97b72a2f2c1f",
            "28c4c09ab87f40e2bfeca0a03b8ac1de",
            "2033768ac55e4565a75c77dcd5ff0a01",
            "b2d3b271ae56439e8b7d3ae5cb0ae4c2",
            "83c1cafe70b6493a81320ca606df7774",
            "2d4644c4bca24948a0e1bc7af8c71837",
            "edb70a498bfe47da9bffaa41db760de3"
          ]
        }
      },
      "outputs": [
        {
          "output_type": "stream",
          "name": "stdout",
          "text": [
            "Validation\n"
          ]
        },
        {
          "output_type": "display_data",
          "data": {
            "text/plain": [
              "  0%|          | 0/6 [00:00<?, ?it/s]"
            ],
            "application/vnd.jupyter.widget-view+json": {
              "version_major": 2,
              "version_minor": 0,
              "model_id": "a90a366276e141b89959e5360bf9eec5"
            }
          },
          "metadata": {}
        },
        {
          "output_type": "stream",
          "name": "stdout",
          "text": [
            "ffmpeg -i /content/drive/MyDrive/course_work/Validation/1_7_3.mp4 -r 0.5 '/content/drive/MyDrive/course_work/Validation/1_7_3/%05d.png'\n",
            "ffmpeg -i /content/drive/MyDrive/course_work/Validation/1_8.mp4 -r 0.5 '/content/drive/MyDrive/course_work/Validation/1_8/%05d.png'\n",
            "ffmpeg -i /content/drive/MyDrive/course_work/Validation/2_2_1.mp4 -r 0.5 '/content/drive/MyDrive/course_work/Validation/2_2_1/%05d.png'\n",
            "ffmpeg -i /content/drive/MyDrive/course_work/Validation/3_5.mp4 -r 0.5 '/content/drive/MyDrive/course_work/Validation/3_5/%05d.png'\n",
            "ffmpeg -i /content/drive/MyDrive/course_work/Validation/2_7_5.mp4 -r 0.5 '/content/drive/MyDrive/course_work/Validation/2_7_5/%05d.png'\n",
            "ffmpeg -i /content/drive/MyDrive/course_work/Validation/2_7_6.mp4 -r 0.5 '/content/drive/MyDrive/course_work/Validation/2_7_6/%05d.png'\n"
          ]
        }
      ],
      "source": [
        "process_dir('Validation')"
      ]
    },
    {
      "cell_type": "code",
      "execution_count": null,
      "metadata": {
        "id": "6evdtd4RT8TU"
      },
      "outputs": [],
      "source": [
        "def extract_openface_features(dirname,outdir):\n",
        "    print(dirname)\n",
        "    if not os.path.exists(outdir):\n",
        "        os.makedirs(outdir)\n",
        "    os.chdir(dirname)\n",
        "    command='/home/avsavchenko/src/distr/OpenFace/build/bin/FeatureExtraction -pose -aus -gaze -out_dir '+outdir\n",
        "    for filename in os.listdir('.'):\n",
        "        if filename.lower().endswith('ini'):\n",
        "            continue\n",
        "        \n",
        "        if os.path.isdir(filename):\n",
        "            command+=' -fdir '+filename\n",
        "        \n",
        "    print(command)\n",
        "    os.system(command=command)\n",
        "\n",
        "cur_dir=os.getcwd()\n",
        "extract_openface_features(os.path.join(DATA_DIR,'frames/validation/'),os.path.join(DATA_DIR,'frames/faces/openface/validation/'))\n",
        "extract_openface_features(os.path.join(DATA_DIR,'frames/Train/'),os.path.join(DATA_DIR,'frames/faces/openface/Train/'))\n",
        "os.chdir(cur_dir)\n",
        "print(os.getcwd())"
      ]
    },
    {
      "cell_type": "code",
      "execution_count": 7,
      "metadata": {
        "id": "M_RyRkvCOdCX"
      },
      "outputs": [],
      "source": [
        "from __future__ import absolute_import\n",
        "from __future__ import division\n",
        "from __future__ import print_function\n",
        "\n",
        "import sys\n",
        "import os\n",
        "#os.environ['CUDA_VISIBLE_DEVICES'] = ''\n",
        "import argparse\n",
        "import tensorflow as tf\n",
        "import numpy as np\n",
        "import cv2\n",
        "import time\n",
        "\n",
        "import subprocess, re \n",
        "\n",
        "\n",
        "def is_specialfile(path,exts):\n",
        "    _, file_extension = os.path.splitext(path)\n",
        "    return file_extension.lower() in exts\n",
        "\n",
        "img_extensions=['.jpg','.jpeg','.png']\n",
        "def is_image(path):\n",
        "    return is_specialfile(path,img_extensions)\n",
        "\n",
        "video_extensions=['.mov','.avi']\n",
        "def is_video(path):\n",
        "    return is_specialfile(path,video_extensions)\n",
        "    \n",
        "class FacialImageProcessing:\n",
        "    # minsize: minimum of faces' size\n",
        "    def __init__(self, print_stat=False, minsize = 16):\n",
        "        self.print_stat=print_stat\n",
        "        self.minsize=minsize\n",
        "        \n",
        "        models_path = '/content/drive/MyDrive/course_work/Models'\n",
        "        # models_path=os.path.join(models_path,'..','models','pretrained_faces')\n",
        "        model_files={os.path.join(models_path,'mtcnn.pb'):''}\n",
        "\n",
        "        with tf.Graph().as_default() as full_graph:\n",
        "            for model_file in model_files:\n",
        "                tf.import_graph_def(FacialImageProcessing.load_graph_def(model_file), name=model_files[model_file])\n",
        "        self.sess=tf.compat.v1.Session(graph=full_graph)#,config=tf.ConfigProto(device_count={'CPU':1,'GPU':0}))\n",
        "        self.pnet, self.rnet, self.onet = FacialImageProcessing.load_mtcnn(self.sess,full_graph)     \n",
        "\n",
        "    def close(self):\n",
        "        self.sess.close()\n",
        "    \n",
        "    @staticmethod\n",
        "    def load_graph_def(frozen_graph_filename):\n",
        "        graph_def=None\n",
        "        with tf.io.gfile.GFile(frozen_graph_filename, 'rb') as f:\n",
        "            graph_def = tf.compat.v1.GraphDef()\n",
        "            graph_def.ParseFromString(f.read())\n",
        "        return graph_def\n",
        "    \n",
        "    @staticmethod\n",
        "    def load_graph(frozen_graph_filename, prefix=''):\n",
        "        graph_def = FacialImageProcessing.load_graph_def(frozen_graph_filename)\n",
        "        with tf.Graph().as_default() as graph:\n",
        "            tf.import_graph_def(graph_def, name=prefix)\n",
        "        return graph\n",
        "\n",
        "    @staticmethod\n",
        "    def load_mtcnn(sess,graph):\n",
        "        pnet_out_1=graph.get_tensor_by_name('pnet/conv4-2/BiasAdd:0')\n",
        "        pnet_out_2=graph.get_tensor_by_name('pnet/prob1:0')\n",
        "        pnet_in=graph.get_tensor_by_name('pnet/input:0')\n",
        "        \n",
        "        rnet_out_1=graph.get_tensor_by_name('rnet/conv5-2/conv5-2:0')\n",
        "        rnet_out_2=graph.get_tensor_by_name('rnet/prob1:0')\n",
        "        rnet_in=graph.get_tensor_by_name('rnet/input:0')\n",
        "        \n",
        "        onet_out_1=graph.get_tensor_by_name('onet/conv6-2/conv6-2:0')\n",
        "        onet_out_2=graph.get_tensor_by_name('onet/conv6-3/conv6-3:0')\n",
        "        onet_out_3=graph.get_tensor_by_name('onet/prob1:0')\n",
        "        onet_in=graph.get_tensor_by_name('onet/input:0')\n",
        "        \n",
        "        pnet_fun = lambda img : sess.run((pnet_out_1, pnet_out_2), feed_dict={pnet_in:img})\n",
        "        rnet_fun = lambda img : sess.run((rnet_out_1, rnet_out_2), feed_dict={rnet_in:img})\n",
        "        onet_fun = lambda img : sess.run((onet_out_1, onet_out_2, onet_out_3), feed_dict={onet_in:img})\n",
        "        return pnet_fun, rnet_fun, onet_fun\n",
        "        \n",
        "    @staticmethod\n",
        "    def bbreg(boundingbox,reg):\n",
        "        # calibrate bounding boxes\n",
        "        if reg.shape[1]==1:\n",
        "            reg = np.reshape(reg, (reg.shape[2], reg.shape[3]))\n",
        "\n",
        "        w = boundingbox[:,2]-boundingbox[:,0]+1\n",
        "        h = boundingbox[:,3]-boundingbox[:,1]+1\n",
        "        b1 = boundingbox[:,0]+reg[:,0]*w\n",
        "        b2 = boundingbox[:,1]+reg[:,1]*h\n",
        "        b3 = boundingbox[:,2]+reg[:,2]*w\n",
        "        b4 = boundingbox[:,3]+reg[:,3]*h\n",
        "        boundingbox[:,0:4] = np.transpose(np.vstack([b1, b2, b3, b4 ]))\n",
        "        return boundingbox\n",
        "     \n",
        "    @staticmethod\n",
        "    def generateBoundingBox(imap, reg, scale, t):\n",
        "        # use heatmap to generate bounding boxes\n",
        "        stride=2\n",
        "        cellsize=12\n",
        "\n",
        "        imap = np.transpose(imap)\n",
        "        dx1 = np.transpose(reg[:,:,0])\n",
        "        dy1 = np.transpose(reg[:,:,1])\n",
        "        dx2 = np.transpose(reg[:,:,2])\n",
        "        dy2 = np.transpose(reg[:,:,3])\n",
        "        y, x = np.where(imap >= t)\n",
        "        if y.shape[0]==1:\n",
        "            dx1 = np.flipud(dx1)\n",
        "            dy1 = np.flipud(dy1)\n",
        "            dx2 = np.flipud(dx2)\n",
        "            dy2 = np.flipud(dy2)\n",
        "        score = imap[(y,x)]\n",
        "        reg = np.transpose(np.vstack([ dx1[(y,x)], dy1[(y,x)], dx2[(y,x)], dy2[(y,x)] ]))\n",
        "        if reg.size==0:\n",
        "            reg = np.empty((0,3))\n",
        "        bb = np.transpose(np.vstack([y,x]))\n",
        "        q1 = np.fix((stride*bb+1)/scale)\n",
        "        q2 = np.fix((stride*bb+cellsize-1+1)/scale)\n",
        "        boundingbox = np.hstack([q1, q2, np.expand_dims(score,1), reg])\n",
        "        return boundingbox, reg\n",
        "     \n",
        "    # function pick = nms(boxes,threshold,type)\n",
        "    @staticmethod\n",
        "    def nms(boxes, threshold, method):\n",
        "        if boxes.size==0:\n",
        "            return np.empty((0,3))\n",
        "        x1 = boxes[:,0]\n",
        "        y1 = boxes[:,1]\n",
        "        x2 = boxes[:,2]\n",
        "        y2 = boxes[:,3]\n",
        "        s = boxes[:,4]\n",
        "        area = (x2-x1+1) * (y2-y1+1)\n",
        "        I = np.argsort(s)\n",
        "        pick = np.zeros_like(s, dtype=np.int16)\n",
        "        counter = 0\n",
        "        while I.size>0:\n",
        "            i = I[-1]\n",
        "            pick[counter] = i\n",
        "            counter += 1\n",
        "            idx = I[0:-1]\n",
        "            xx1 = np.maximum(x1[i], x1[idx])\n",
        "            yy1 = np.maximum(y1[i], y1[idx])\n",
        "            xx2 = np.minimum(x2[i], x2[idx])\n",
        "            yy2 = np.minimum(y2[i], y2[idx])\n",
        "            w = np.maximum(0.0, xx2-xx1+1)\n",
        "            h = np.maximum(0.0, yy2-yy1+1)\n",
        "            inter = w * h\n",
        "            if method == 'Min':\n",
        "                o = inter / np.minimum(area[i], area[idx])\n",
        "            else:\n",
        "                o = inter / (area[i] + area[idx] - inter)\n",
        "            I = I[np.where(o<=threshold)]\n",
        "        pick = pick[0:counter]\n",
        "        return pick\n",
        "\n",
        "    # function [dy edy dx edx y ey x ex tmpw tmph] = pad(total_boxes,w,h)\n",
        "    @staticmethod\n",
        "    def pad(total_boxes, w, h):\n",
        "        # compute the padding coordinates (pad the bounding boxes to square)\n",
        "        tmpw = (total_boxes[:,2]-total_boxes[:,0]+1).astype(np.int32)\n",
        "        tmph = (total_boxes[:,3]-total_boxes[:,1]+1).astype(np.int32)\n",
        "        numbox = total_boxes.shape[0]\n",
        "\n",
        "        dx = np.ones((numbox), dtype=np.int32)\n",
        "        dy = np.ones((numbox), dtype=np.int32)\n",
        "        edx = tmpw.copy().astype(np.int32)\n",
        "        edy = tmph.copy().astype(np.int32)\n",
        "\n",
        "        x = total_boxes[:,0].copy().astype(np.int32)\n",
        "        y = total_boxes[:,1].copy().astype(np.int32)\n",
        "        ex = total_boxes[:,2].copy().astype(np.int32)\n",
        "        ey = total_boxes[:,3].copy().astype(np.int32)\n",
        "\n",
        "        tmp = np.where(ex>w)\n",
        "        edx.flat[tmp] = np.expand_dims(-ex[tmp]+w+tmpw[tmp],1)\n",
        "        ex[tmp] = w\n",
        "        \n",
        "        tmp = np.where(ey>h)\n",
        "        edy.flat[tmp] = np.expand_dims(-ey[tmp]+h+tmph[tmp],1)\n",
        "        ey[tmp] = h\n",
        "\n",
        "        tmp = np.where(x<1)\n",
        "        dx.flat[tmp] = np.expand_dims(2-x[tmp],1)\n",
        "        x[tmp] = 1\n",
        "\n",
        "        tmp = np.where(y<1)\n",
        "        dy.flat[tmp] = np.expand_dims(2-y[tmp],1)\n",
        "        y[tmp] = 1\n",
        "        \n",
        "        return dy, edy, dx, edx, y, ey, x, ex, tmpw, tmph\n",
        "\n",
        "    # function [bboxA] = rerec(bboxA)\n",
        "    @staticmethod\n",
        "    def rerec(bboxA):\n",
        "        # convert bboxA to square\n",
        "        h = bboxA[:,3]-bboxA[:,1]\n",
        "        w = bboxA[:,2]-bboxA[:,0]\n",
        "        l = np.maximum(w, h)\n",
        "        bboxA[:,0] = bboxA[:,0]+w*0.5-l*0.5\n",
        "        bboxA[:,1] = bboxA[:,1]+h*0.5-l*0.5\n",
        "        bboxA[:,2:4] = bboxA[:,0:2] + np.transpose(np.tile(l,(2,1)))\n",
        "        return bboxA\n",
        "\n",
        "    def detect_faces(self,img):\n",
        "        # im: input image\n",
        "        # threshold: threshold=[th1 th2 th3], th1-3 are three steps's threshold\n",
        "        threshold = [ 0.6, 0.7, 0.9 ]  # three steps's threshold\n",
        "        # fastresize: resize img from last scale (using in high-resolution images) if fastresize==true\n",
        "        factor = 0.709 # scale factor\n",
        "        factor_count=0\n",
        "        total_boxes=np.empty((0,9))\n",
        "        points=np.array([])\n",
        "        h=img.shape[0]\n",
        "        w=img.shape[1]\n",
        "        minl=np.amin([h, w])\n",
        "        m=12.0/self.minsize\n",
        "        minl=minl*m\n",
        "        # creat scale pyramid\n",
        "        scales=[]\n",
        "        while minl>=12:\n",
        "            scales += [m*np.power(factor, factor_count)]\n",
        "            minl = minl*factor\n",
        "            factor_count += 1\n",
        "\n",
        "        # first stage\n",
        "        #t=time.time()\n",
        "        for j in range(len(scales)):\n",
        "            scale=scales[j]\n",
        "            hs=int(np.ceil(h*scale))\n",
        "            ws=int(np.ceil(w*scale))\n",
        "            im_data = cv2.resize(img, (ws,hs), interpolation=cv2.INTER_AREA)\n",
        "            im_data = (im_data-127.5)*0.0078125\n",
        "            img_x = np.expand_dims(im_data, 0)\n",
        "            img_y = np.transpose(img_x, (0,2,1,3))\n",
        "            out = self.pnet(img_y)\n",
        "            out0 = np.transpose(out[0], (0,2,1,3))\n",
        "            out1 = np.transpose(out[1], (0,2,1,3))\n",
        "            \n",
        "            boxes, _ = FacialImageProcessing.generateBoundingBox(out1[0,:,:,1].copy(), out0[0,:,:,:].copy(), scale, threshold[0])\n",
        "            \n",
        "            # inter-scale nms\n",
        "            pick = FacialImageProcessing.nms(boxes.copy(), 0.5, 'Union')\n",
        "            if boxes.size>0 and pick.size>0:\n",
        "                boxes = boxes[pick,:]\n",
        "                total_boxes = np.append(total_boxes, boxes, axis=0)\n",
        "        numbox = total_boxes.shape[0]\n",
        "        #elapsed = time.time() - t\n",
        "        #print('1 phase nb=%d elapsed=%f'%(numbox,elapsed))\n",
        "        if numbox>0:\n",
        "            pick = FacialImageProcessing.nms(total_boxes.copy(), 0.7, 'Union')\n",
        "            total_boxes = total_boxes[pick,:]\n",
        "            regw = total_boxes[:,2]-total_boxes[:,0]\n",
        "            regh = total_boxes[:,3]-total_boxes[:,1]\n",
        "            qq1 = total_boxes[:,0]+total_boxes[:,5]*regw\n",
        "            qq2 = total_boxes[:,1]+total_boxes[:,6]*regh\n",
        "            qq3 = total_boxes[:,2]+total_boxes[:,7]*regw\n",
        "            qq4 = total_boxes[:,3]+total_boxes[:,8]*regh\n",
        "            total_boxes = np.transpose(np.vstack([qq1, qq2, qq3, qq4, total_boxes[:,4]]))\n",
        "            total_boxes = FacialImageProcessing.rerec(total_boxes.copy())\n",
        "            total_boxes[:,0:4] = np.fix(total_boxes[:,0:4]).astype(np.int32)\n",
        "            dy, edy, dx, edx, y, ey, x, ex, tmpw, tmph = FacialImageProcessing.pad(total_boxes.copy(), w, h)\n",
        "\n",
        "        numbox = total_boxes.shape[0]\n",
        "        #elapsed = time.time() - t\n",
        "        #print('2 phase nb=%d elapsed=%f'%(numbox,elapsed))\n",
        "        if numbox>0:\n",
        "            # second stage\n",
        "            tempimg = np.zeros((24,24,3,numbox))\n",
        "            for k in range(0,numbox):\n",
        "                tmp = np.zeros((int(tmph[k]),int(tmpw[k]),3))\n",
        "                tmp[dy[k]-1:edy[k],dx[k]-1:edx[k],:] = img[y[k]-1:ey[k],x[k]-1:ex[k],:]\n",
        "                if tmp.shape[0]>0 and tmp.shape[1]>0 or tmp.shape[0]==0 and tmp.shape[1]==0:\n",
        "                    tempimg[:,:,:,k] = cv2.resize(tmp, (24,24), interpolation=cv2.INTER_AREA)\n",
        "                else:\n",
        "                    return np.empty()\n",
        "            tempimg = (tempimg-127.5)*0.0078125\n",
        "            tempimg1 = np.transpose(tempimg, (3,1,0,2))\n",
        "            out = self.rnet(tempimg1)\n",
        "            out0 = np.transpose(out[0])\n",
        "            out1 = np.transpose(out[1])\n",
        "            score = out1[1,:]\n",
        "            ipass = np.where(score>threshold[1])\n",
        "            total_boxes = np.hstack([total_boxes[ipass[0],0:4].copy(), np.expand_dims(score[ipass].copy(),1)])\n",
        "            mv = out0[:,ipass[0]]\n",
        "            if total_boxes.shape[0]>0:\n",
        "                pick = FacialImageProcessing.nms(total_boxes, 0.7, 'Union')\n",
        "                total_boxes = total_boxes[pick,:]\n",
        "                total_boxes = FacialImageProcessing.bbreg(total_boxes.copy(), np.transpose(mv[:,pick]))\n",
        "                total_boxes = FacialImageProcessing.rerec(total_boxes.copy())\n",
        "\n",
        "        numbox = total_boxes.shape[0]\n",
        "        #elapsed = time.time() - t\n",
        "        #print('3 phase nb=%d elapsed=%f'%(numbox,elapsed))\n",
        "        if numbox>0:\n",
        "            # third stage\n",
        "            total_boxes = np.fix(total_boxes).astype(np.int32)\n",
        "            dy, edy, dx, edx, y, ey, x, ex, tmpw, tmph = FacialImageProcessing.pad(total_boxes.copy(), w, h)\n",
        "            tempimg = np.zeros((48,48,3,numbox))\n",
        "            for k in range(0,numbox):\n",
        "                tmp = np.zeros((int(tmph[k]),int(tmpw[k]),3))\n",
        "                tmp[dy[k]-1:edy[k],dx[k]-1:edx[k],:] = img[y[k]-1:ey[k],x[k]-1:ex[k],:]\n",
        "                if tmp.shape[0]>0 and tmp.shape[1]>0 or tmp.shape[0]==0 and tmp.shape[1]==0:\n",
        "                    tempimg[:,:,:,k] = cv2.resize(tmp, (48,48), interpolation=cv2.INTER_AREA)\n",
        "                else:\n",
        "                    return np.empty()\n",
        "            tempimg = (tempimg-127.5)*0.0078125\n",
        "            tempimg1 = np.transpose(tempimg, (3,1,0,2))\n",
        "            out = self.onet(tempimg1)\n",
        "            out0 = np.transpose(out[0])\n",
        "            out1 = np.transpose(out[1])\n",
        "            out2 = np.transpose(out[2])\n",
        "            score = out2[1,:]\n",
        "            points = out1\n",
        "            ipass = np.where(score>threshold[2])\n",
        "            points = points[:,ipass[0]]\n",
        "            total_boxes = np.hstack([total_boxes[ipass[0],0:4].copy(), np.expand_dims(score[ipass].copy(),1)])\n",
        "            mv = out0[:,ipass[0]]\n",
        "\n",
        "            w = total_boxes[:,2]-total_boxes[:,0]+1\n",
        "            h = total_boxes[:,3]-total_boxes[:,1]+1\n",
        "            points[0:5,:] = np.tile(w,(5, 1))*points[0:5,:] + np.tile(total_boxes[:,0],(5, 1))-1\n",
        "            points[5:10,:] = np.tile(h,(5, 1))*points[5:10,:] + np.tile(total_boxes[:,1],(5, 1))-1\n",
        "            if total_boxes.shape[0]>0:\n",
        "                total_boxes = FacialImageProcessing.bbreg(total_boxes.copy(), np.transpose(mv))\n",
        "                pick = FacialImageProcessing.nms(total_boxes.copy(), 0.7, 'Min')\n",
        "                total_boxes = total_boxes[pick,:]\n",
        "                points = points[:,pick]\n",
        "        #elapsed = time.time() - t\n",
        "        #print('4 phase elapsed=%f'%(elapsed))            \n",
        "        return total_boxes, points"
      ]
    },
    {
      "cell_type": "code",
      "execution_count": 8,
      "metadata": {
        "id": "BQFt63WlMOeM"
      },
      "outputs": [],
      "source": [
        "imgProcessing=FacialImageProcessing(False)"
      ]
    },
    {
      "cell_type": "code",
      "execution_count": 10,
      "metadata": {
        "colab": {
          "base_uri": "https://localhost:8080/",
          "height": 830,
          "referenced_widgets": [
            "b0fcca0022544da9a24be509a0346207",
            "2ba463cf07e949c487c64421e45cf7f4",
            "1624c24bee9d4b41b21c2a4b0464b6d1",
            "45850743d520429ab9568597c585366d",
            "e3c3e16de9af49a2a20fe3cb6427d206",
            "0e69e6c6d2484a31b92bfa36f5a07cf6",
            "96be1210c33e4f35b05b58ae85e6848e",
            "b19848c5b54a46349454cc360de85529",
            "efe9d35760424148bd4625a25a4ee718",
            "b7fea1f43caa47de8cd728b248ad02b5",
            "2fbcca5b79ce4ee295e59bb0c3811af4"
          ]
        },
        "id": "zkP2kjaOMU7l",
        "outputId": "71dcc07d-8714-46f9-934a-708e01a472b1"
      },
      "outputs": [
        {
          "output_type": "display_data",
          "data": {
            "text/plain": [
              "  0%|          | 0/6 [00:00<?, ?it/s]"
            ],
            "application/vnd.jupyter.widget-view+json": {
              "version_major": 2,
              "version_minor": 0,
              "model_id": "b0fcca0022544da9a24be509a0346207"
            }
          },
          "metadata": {}
        },
        {
          "output_type": "stream",
          "name": "stdout",
          "text": [
            "No faces found for  /content/drive/MyDrive/course_work/frames/Validation/2_7_5/00029.png\n",
            "No faces found for  /content/drive/MyDrive/course_work/frames/Validation/2_7_5/00030.png\n",
            "No faces found for  /content/drive/MyDrive/course_work/frames/Validation/2_7_5/00031.png\n",
            "No faces found for  /content/drive/MyDrive/course_work/frames/Validation/2_7_5/00032.png\n",
            "No faces found for  /content/drive/MyDrive/course_work/frames/Validation/2_7_5/00033.png\n",
            "No faces found for  /content/drive/MyDrive/course_work/frames/Validation/2_7_5/00034.png\n",
            "No faces found for  /content/drive/MyDrive/course_work/frames/Validation/2_7_5/00035.png\n",
            "No faces found for  /content/drive/MyDrive/course_work/frames/Validation/2_7_5/00036.png\n",
            "No faces found for  /content/drive/MyDrive/course_work/frames/Validation/2_7_5/00037.png\n",
            "No faces found for  /content/drive/MyDrive/course_work/frames/Validation/2_7_5/00038.png\n",
            "No faces found for  /content/drive/MyDrive/course_work/frames/Validation/2_7_5/00039.png\n",
            "No faces found for  /content/drive/MyDrive/course_work/frames/Validation/2_7_5/00040.png\n",
            "No faces found for  /content/drive/MyDrive/course_work/frames/Validation/2_7_5/00041.png\n",
            "No faces found for  /content/drive/MyDrive/course_work/frames/Validation/2_7_5/00042.png\n",
            "No faces found for  /content/drive/MyDrive/course_work/frames/Validation/2_7_5/00043.png\n",
            "No faces found for  /content/drive/MyDrive/course_work/frames/Validation/2_7_5/00050.png\n",
            "No faces found for  /content/drive/MyDrive/course_work/frames/Validation/2_7_5/00083.png\n",
            "No faces found for  /content/drive/MyDrive/course_work/frames/Validation/2_7_5/00115.png\n",
            "No faces found for  /content/drive/MyDrive/course_work/frames/Validation/2_7_6/00016.png\n",
            "No faces found for  /content/drive/MyDrive/course_work/frames/Validation/2_7_6/00017.png\n",
            "No faces found for  /content/drive/MyDrive/course_work/frames/Validation/2_7_6/00018.png\n",
            "No faces found for  /content/drive/MyDrive/course_work/frames/Validation/2_7_6/00019.png\n",
            "No faces found for  /content/drive/MyDrive/course_work/frames/Validation/2_7_6/00020.png\n",
            "No faces found for  /content/drive/MyDrive/course_work/frames/Validation/2_7_6/00021.png\n",
            "No faces found for  /content/drive/MyDrive/course_work/frames/Validation/2_7_6/00022.png\n",
            "No faces found for  /content/drive/MyDrive/course_work/frames/Validation/2_7_6/00023.png\n",
            "No faces found for  /content/drive/MyDrive/course_work/frames/Validation/2_7_6/00046.png\n",
            "No faces found for  /content/drive/MyDrive/course_work/frames/Validation/2_7_6/00047.png\n",
            "No faces found for  /content/drive/MyDrive/course_work/frames/Validation/2_7_6/00048.png\n",
            "No faces found for  /content/drive/MyDrive/course_work/frames/Validation/2_7_6/00049.png\n",
            "No faces found for  /content/drive/MyDrive/course_work/frames/Validation/2_7_6/00050.png\n",
            "No faces found for  /content/drive/MyDrive/course_work/frames/Validation/2_7_6/00051.png\n",
            "No faces found for  /content/drive/MyDrive/course_work/frames/Validation/2_7_6/00052.png\n",
            "No faces found for  /content/drive/MyDrive/course_work/frames/Validation/2_7_6/00053.png\n",
            "No faces found for  /content/drive/MyDrive/course_work/frames/Validation/2_7_6/00054.png\n",
            "No faces found for  /content/drive/MyDrive/course_work/frames/Validation/2_7_6/00063.png\n",
            "No faces found for  /content/drive/MyDrive/course_work/frames/Validation/2_7_6/00064.png\n",
            "No faces found for  /content/drive/MyDrive/course_work/frames/Validation/2_7_6/00065.png\n",
            "No faces found for  /content/drive/MyDrive/course_work/frames/Validation/2_7_6/00066.png\n",
            "No faces found for  /content/drive/MyDrive/course_work/frames/Validation/2_7_6/00067.png\n",
            "No faces found for  /content/drive/MyDrive/course_work/frames/Validation/2_7_6/00068.png\n",
            "No faces found for  /content/drive/MyDrive/course_work/frames/Validation/2_7_6/00069.png\n",
            "No faces found for  /content/drive/MyDrive/course_work/frames/Validation/2_7_6/00070.png\n",
            "No faces found for  /content/drive/MyDrive/course_work/frames/Validation/2_7_6/00071.png\n",
            "No faces found for  /content/drive/MyDrive/course_work/frames/Validation/2_7_6/00102.png\n"
          ]
        }
      ],
      "source": [
        "INPUT_SIZE = (224,224)\n",
        "def save_faces(source_path,save_path):\n",
        "    if not os.path.exists(save_path):\n",
        "        os.makedirs(save_path)\n",
        "    for folder in tqdm(os.listdir(source_path)):\n",
        "        if not os.path.exists(os.path.join(save_path, folder)):\n",
        "            os.mkdir(os.path.join(save_path, folder))\n",
        "\n",
        "            for image in os.listdir(os.path.join(source_path, folder)):\n",
        "                filename = os.path.join(source_path, folder, image)\n",
        "                frame_bgr = cv2.imread(filename)\n",
        "                frame = cv2.cvtColor(frame_bgr, cv2.COLOR_BGR2RGB)\n",
        "                bounding_boxes, _ = imgProcessing.detect_faces(frame)\n",
        "\n",
        "                if len(bounding_boxes)==0:\n",
        "                    print('No faces found for ',filename)\n",
        "                    face_img = frame_bgr\n",
        "                    faceFound='noface'\n",
        "                else:\n",
        "                    if len(bounding_boxes)>1:\n",
        "                        print('Too many faces (',len(bounding_boxes),') found for ',filename)\n",
        "                        bounding_boxes=bounding_boxes[:1]\n",
        "\n",
        "                    b=[int(bi) for bi in bounding_boxes[0]]\n",
        "                    x1,y1,x2,y2=b[0:4]\n",
        "                    face_img=frame_bgr[y1:y2,x1:x2,:]\n",
        "\n",
        "                    if np.prod(face_img.shape)==0:\n",
        "                        print('Empty face ',b,' found for ',filename)\n",
        "                        continue\n",
        "                    \n",
        "                    faceFound=''\n",
        "\n",
        "                #face_img=cv2.resize(face_img,INPUT_SIZE)\n",
        "                root,ext=os.path.splitext(image)\n",
        "                cv2.imwrite(os.path.join(save_path, folder, root+faceFound+ext), face_img) \n",
        "        else:\n",
        "            print(folder)\n",
        "        \n",
        "save_faces(os.path.join(DATA_DIR,'frames/Validation'),os.path.join(DATA_DIR,'cropped/Validation'))"
      ]
    },
    {
      "cell_type": "code",
      "execution_count": 11,
      "metadata": {
        "colab": {
          "base_uri": "https://localhost:8080/",
          "height": 431,
          "referenced_widgets": [
            "e0f415361351496cbb5f3131bc3d4400",
            "0f9a7f3dcfed49a999bd38a94dc45689",
            "927f5d2a3538489a81e826e079c52d66",
            "68204d9db9654b43b5685fe4ca6ca2ab",
            "16bc6be9ac264f7d9a209ac26e84157d",
            "63a0c036c4ff40c5a3861e9491b280f1",
            "fa72115cea624bcb9ec96956e4f18160",
            "b609444f34374d1abe3c0c7b5c97bc15",
            "1e3801f8af4e40ef9e2560b26d189752",
            "e36ff5ce3c594556b449e360edee8dd2",
            "517b132739084f119d70731f5ff636d6"
          ]
        },
        "id": "HPQb-z-2PnWp",
        "outputId": "6fc16a16-35e3-443a-a4cb-aa25918db971"
      },
      "outputs": [
        {
          "output_type": "display_data",
          "data": {
            "text/plain": [
              "  0%|          | 0/19 [00:00<?, ?it/s]"
            ],
            "application/vnd.jupyter.widget-view+json": {
              "version_major": 2,
              "version_minor": 0,
              "model_id": "e0f415361351496cbb5f3131bc3d4400"
            }
          },
          "metadata": {}
        },
        {
          "output_type": "stream",
          "name": "stdout",
          "text": [
            "No faces found for  /content/drive/MyDrive/course_work/frames/Train/0_1/00014.png\n",
            "No faces found for  /content/drive/MyDrive/course_work/frames/Train/0_1/00015.png\n",
            "No faces found for  /content/drive/MyDrive/course_work/frames/Train/0_1/00016.png\n",
            "No faces found for  /content/drive/MyDrive/course_work/frames/Train/0_1/00048.png\n",
            "No faces found for  /content/drive/MyDrive/course_work/frames/Train/1_3/00009.png\n",
            "Empty face  [-18, 36, 328, 503, 0]  found for  /content/drive/MyDrive/course_work/frames/Train/0_5/00008.png\n",
            "No faces found for  /content/drive/MyDrive/course_work/frames/Train/2_8/00062.png\n",
            "No faces found for  /content/drive/MyDrive/course_work/frames/Train/2_8/00063.png\n",
            "No faces found for  /content/drive/MyDrive/course_work/frames/Train/2_8/00064.png\n",
            "No faces found for  /content/drive/MyDrive/course_work/frames/Train/0_5_1/00040.png\n",
            "No faces found for  /content/drive/MyDrive/course_work/frames/Train/0_5_1/00041.png\n",
            "Too many faces ( 2 ) found for  /content/drive/MyDrive/course_work/frames/Train/1_4_2/00083.png\n",
            "Too many faces ( 2 ) found for  /content/drive/MyDrive/course_work/frames/Train/1_4_2/00111.png\n",
            "Too many faces ( 2 ) found for  /content/drive/MyDrive/course_work/frames/Train/1_4_2/00122.png\n",
            "No faces found for  /content/drive/MyDrive/course_work/frames/Train/1_4_2/00260.png\n",
            "No faces found for  /content/drive/MyDrive/course_work/frames/Train/1_4_2/00261.png\n",
            "Too many faces ( 2 ) found for  /content/drive/MyDrive/course_work/frames/Train/2_4_2/00082.png\n",
            "No faces found for  /content/drive/MyDrive/course_work/frames/Train/2_4_2/00120.png\n",
            "No faces found for  /content/drive/MyDrive/course_work/frames/Train/2_4_3/00079.png\n",
            "Too many faces ( 2 ) found for  /content/drive/MyDrive/course_work/frames/Train/3_4_4/00089.png\n",
            "Too many faces ( 2 ) found for  /content/drive/MyDrive/course_work/frames/Train/3_4_4/00090.png\n",
            "Too many faces ( 2 ) found for  /content/drive/MyDrive/course_work/frames/Train/3_4_4/00093.png\n"
          ]
        }
      ],
      "source": [
        "save_faces(os.path.join(DATA_DIR,'frames/Train'),os.path.join(DATA_DIR,'cropped/Train'))"
      ]
    },
    {
      "cell_type": "code",
      "execution_count": 12,
      "metadata": {
        "colab": {
          "base_uri": "https://localhost:8080/",
          "height": 327,
          "referenced_widgets": [
            "114b77ad844c4a3f828c7be80568004f",
            "2fa3bc68cf784a6b98b123a4022b7b70",
            "cc3b2687d51a489ebc8d1c91a4f53581",
            "e9c41fe7e11f4f5880c77f46588789ab",
            "c735f5d3a277486fb74d98ddbceca455",
            "6079daaa367c483aa3485a46b9861e60",
            "30039b1e3fc84696ad742693e6e43cf6",
            "9292b69c05c74c72b87134a2e651e556",
            "1b49fa3676944e48ba04fb9f7468f174",
            "58cd817bb76f4c0bba89bba6d1159136",
            "83c44966d14b44ff85cd62dadc6af4dd"
          ]
        },
        "id": "Wnjd9IE9W3OM",
        "outputId": "feaac733-dbee-47a9-e041-9d4a2db3f9d3"
      },
      "outputs": [
        {
          "output_type": "display_data",
          "data": {
            "text/plain": [
              "  0%|          | 0/13 [00:00<?, ?it/s]"
            ],
            "application/vnd.jupyter.widget-view+json": {
              "version_major": 2,
              "version_minor": 0,
              "model_id": "114b77ad844c4a3f828c7be80568004f"
            }
          },
          "metadata": {}
        },
        {
          "output_type": "stream",
          "name": "stdout",
          "text": [
            "No faces found for  /content/drive/MyDrive/course_work/frames/Test/3_7/00005.png\n",
            "No faces found for  /content/drive/MyDrive/course_work/frames/Test/3_7/00046.png\n",
            "No faces found for  /content/drive/MyDrive/course_work/frames/Test/3_7/00047.png\n",
            "No faces found for  /content/drive/MyDrive/course_work/frames/Test/3_7/00048.png\n",
            "No faces found for  /content/drive/MyDrive/course_work/frames/Test/3_7/00049.png\n",
            "No faces found for  /content/drive/MyDrive/course_work/frames/Test/3_7/00060.png\n",
            "No faces found for  /content/drive/MyDrive/course_work/frames/Test/1_6_1/00008.png\n",
            "No faces found for  /content/drive/MyDrive/course_work/frames/Test/1_7/00046.png\n",
            "No faces found for  /content/drive/MyDrive/course_work/frames/Test/1_7/00047.png\n",
            "No faces found for  /content/drive/MyDrive/course_work/frames/Test/1_7/00048.png\n",
            "No faces found for  /content/drive/MyDrive/course_work/frames/Test/1_7/00049.png\n",
            "No faces found for  /content/drive/MyDrive/course_work/frames/Test/1_7/00050.png\n",
            "No faces found for  /content/drive/MyDrive/course_work/frames/Test/1_7/00051.png\n",
            "No faces found for  /content/drive/MyDrive/course_work/frames/Test/1_7/00052.png\n",
            "No faces found for  /content/drive/MyDrive/course_work/frames/Test/1_7/00053.png\n",
            "Too many faces ( 2 ) found for  /content/drive/MyDrive/course_work/frames/Test/3_4_2/00052.png\n"
          ]
        }
      ],
      "source": [
        "save_faces(os.path.join(DATA_DIR,'frames/Test'),os.path.join(DATA_DIR,'cropped/Test'))"
      ]
    },
    {
      "cell_type": "code",
      "execution_count": 9,
      "metadata": {
        "id": "gVjUqZIkhXb4"
      },
      "outputs": [],
      "source": [
        "def get_iou(bb1, bb2):\n",
        "    \"\"\"\n",
        "    Calculate the Intersection over Union (IoU) of two bounding boxes.\n",
        "\n",
        "    Parameters\n",
        "    ----------\n",
        "    bb1 : array\n",
        "        order: {'x1', 'y1', 'x2', 'y2'}\n",
        "        The (x1, y1) position is at the top left corner,\n",
        "        the (x2, y2) position is at the bottom right corner\n",
        "    bb2 : array\n",
        "        order: {'x1', 'y1', 'x2', 'y2'}\n",
        "        The (x1, y1) position is at the top left corner,\n",
        "        the (x2, y2) position is at the bottom right corner\n",
        "\n",
        "    Returns\n",
        "    -------\n",
        "    float\n",
        "        in [0, 1]\n",
        "    \"\"\"\n",
        "\n",
        "    # determine the coordinates of the intersection rectangle\n",
        "    x_left = max(bb1[0], bb2[0])\n",
        "    y_top = max(bb1[1], bb2[1])\n",
        "    x_right = min(bb1[2], bb2[2])\n",
        "    y_bottom = min(bb1[3], bb2[3])\n",
        "\n",
        "    if x_right < x_left or y_bottom < y_top:\n",
        "        return 0.0\n",
        "\n",
        "    # The intersection of two axis-aligned bounding boxes is always an\n",
        "    # axis-aligned bounding box\n",
        "    intersection_area = (x_right - x_left) * (y_bottom - y_top)\n",
        "\n",
        "    # compute the area of both AABBs\n",
        "    bb1_area = (bb1[2] - bb1[0]) * (bb1[3] - bb1[1])\n",
        "    bb2_area = (bb2[2] - bb2[0]) * (bb2[3] - bb2[1])\n",
        "\n",
        "    # compute the intersection over union by taking the intersection\n",
        "    # area and dividing it by the sum of prediction + ground-truth\n",
        "    # areas - the interesection area\n",
        "    iou = intersection_area / float(bb1_area + bb2_area - intersection_area)\n",
        "    return iou\n",
        "def preprocess(img, bbox=None, landmark=None, **kwargs):\n",
        "    M = None\n",
        "    image_size = [224,224]\n",
        "    src = np.array([\n",
        "      [30.2946, 51.6963],\n",
        "      [65.5318, 51.5014],\n",
        "      [48.0252, 71.7366],\n",
        "      [33.5493, 92.3655],\n",
        "      [62.7299, 92.2041] ], dtype=np.float32 )\n",
        "    if image_size[1]==224:\n",
        "        src[:,0] += 8.0\n",
        "    src*=2\n",
        "    if landmark is not None:\n",
        "        dst = landmark.astype(np.float32)\n",
        "\n",
        "        tform = trans.SimilarityTransform()\n",
        "        #dst=dst[:3]\n",
        "        #src=src[:3]\n",
        "        #print(dst.shape,src.shape,dst,src)\n",
        "        tform.estimate(dst, src)\n",
        "        M = tform.params[0:2,:]\n",
        "        #M = cv2.estimateRigidTransform( dst.reshape(1,5,2), src.reshape(1,5,2), False)\n",
        "        #print(M)\n",
        "\n",
        "    if M is None:\n",
        "        if bbox is None: #use center crop\n",
        "            det = np.zeros(4, dtype=np.int32)\n",
        "            det[0] = int(img.shape[1]*0.0625)\n",
        "            det[1] = int(img.shape[0]*0.0625)\n",
        "            det[2] = img.shape[1] - det[0]\n",
        "            det[3] = img.shape[0] - det[1]\n",
        "        else:\n",
        "              det = bbox\n",
        "        margin = kwargs.get('margin', 44)\n",
        "        bb = np.zeros(4, dtype=np.int32)\n",
        "        bb[0] = np.maximum(det[0]-margin//2, 0)\n",
        "        bb[1] = np.maximum(det[1]-margin//2, 0)\n",
        "        bb[2] = np.minimum(det[2]+margin//2, img.shape[1])\n",
        "        bb[3] = np.minimum(det[3]+margin//2, img.shape[0])\n",
        "        ret = img[bb[1]:bb[3],bb[0]:bb[2],:]\n",
        "        if len(image_size)>0:\n",
        "              ret = cv2.resize(ret, (image_size[1], image_size[0]))\n",
        "        return ret \n",
        "    else: #do align using landmark\n",
        "        assert len(image_size)==2\n",
        "        warped = cv2.warpAffine(img,M,(image_size[1],image_size[0]), borderValue = 0.0)\n",
        "        return warped"
      ]
    },
    {
      "cell_type": "code",
      "execution_count": 14,
      "metadata": {
        "id": "uX0sHHG6aTXX"
      },
      "outputs": [],
      "source": [
        "def save_aligned_faces(source_path,save_path):\n",
        "    if not os.path.exists(save_path):\n",
        "        os.makedirs(save_path)\n",
        "\n",
        "    for folder in tqdm(os.listdir(source_path)):\n",
        "        if not os.path.exists(os.path.join(save_path, folder)):\n",
        "            os.mkdir(os.path.join(save_path, folder))\n",
        "\n",
        "            prev_b = None\n",
        "            counter = 0\n",
        "\n",
        "            for image in sorted(os.listdir(os.path.join(source_path, folder))):\n",
        "                filename = os.path.join(source_path, folder, image)\n",
        "                frame = cv2.imread(filename)\n",
        "                frame = cv2.cvtColor(frame, cv2.COLOR_BGR2RGB)\n",
        "                bounding_boxes, points = imgProcessing.detect_faces(frame)\n",
        "                points = points.T\n",
        "\n",
        "                best_ind=None\n",
        "                if len(bounding_boxes)==0:\n",
        "                    print('No faces found for ',filename)\n",
        "                    counter+=1\n",
        "                    if prev_b is None or counter>3:\n",
        "                        continue\n",
        "                    else:\n",
        "                        b=prev_b\n",
        "                elif len(bounding_boxes)>1:\n",
        "                    print('Too many faces (',len(bounding_boxes),') found for ',filename)\n",
        "                    if prev_b is None:\n",
        "                        #continue\n",
        "                        best_ind=0\n",
        "                        b=[int(bi) for bi in bounding_boxes[best_ind]]\n",
        "                        counter=0\n",
        "                    else:\n",
        "                        best_iou=0\n",
        "                        for i in range(len(bounding_boxes)):\n",
        "                            iou=get_iou(bounding_boxes[i],prev_b)\n",
        "                            if iou>best_iou:\n",
        "                                best_iou=iou\n",
        "                                best_ind=i\n",
        "                        if best_iou>0:\n",
        "                            b=[int(bi) for bi in bounding_boxes[best_ind]]\n",
        "                            print('best_iou (',best_iou,') best_bb ',bounding_boxes[best_ind])\n",
        "                        else:\n",
        "                            #continue\n",
        "                            best_ind=0\n",
        "                            b=[int(bi) for bi in bounding_boxes[best_ind]]\n",
        "                            counter=0\n",
        "                else:\n",
        "                    best_ind=0\n",
        "                    b=[int(bi) for bi in bounding_boxes[best_ind]]\n",
        "                    counter=0\n",
        "                prev_b=b\n",
        "\n",
        "                if True:\n",
        "                    p=None\n",
        "                    if best_ind is not None:\n",
        "                        p=points[best_ind]\n",
        "                        if True: #not USE_RETINA_FACE:\n",
        "                            p = p.reshape((2,5)).T\n",
        "                    face_img=preprocess(frame,b,None) #p)\n",
        "                else:\n",
        "                    x1,y1,x2,y2=b[0:4]\n",
        "                    face_img=frame[y1:y2,x1:x2,:]\n",
        "                if np.prod(face_img.shape)==0:\n",
        "                    print('Empty face ',b,' found for ',filename)\n",
        "                    continue\n",
        "\n",
        "                cv2.imwrite(os.path.join(save_path, folder, image), cv2.cvtColor(face_img, cv2.COLOR_RGB2BGR)) \n"
      ]
    },
    {
      "cell_type": "code",
      "execution_count": 15,
      "metadata": {
        "colab": {
          "base_uri": "https://localhost:8080/",
          "height": 1000,
          "referenced_widgets": [
            "1bfca825c46a44e8a1dbbddc488909ab",
            "849aec036bf04fc2a1de97bfe941fd54",
            "b5684a37cfac43d49716627dfc87a0dc",
            "4474e860ae4549718d1f251f1237dfdc",
            "f30c3f463a784ebaa5ee0245baceccc3",
            "c268c6b9ff6f4fe599e513bf623c92d4",
            "e25c7c674f10420ea2ecba743587e017",
            "f037195f2e044e1bb97a19391675a9fb",
            "c66a518454764f3ab9e3b579b338fcb2",
            "487f67b4d2854a0eb98b16d589fcf6c2",
            "96e7f1d132ae4e6aa1dd13195c1b4d26",
            "a360c0825ac14386a2a4fd42dbaba8a3",
            "e54efb4cd0764c13bc2127ec9dcccb6e",
            "8e5cd5926a9945df937e8885b5ce90c1",
            "141c26f1dd69470683d0ed7080adfa47",
            "c87541043d4b46588dc168991d4afe15",
            "481ac5d76f314c27b71db697dff762b8",
            "2a71390dc1c94031a783262e437353f4",
            "42e55d827840418ba9d5dfbbb8f24221",
            "bc07204d284a4a1cad7780eed40eed39",
            "a8a6a0c164444975bd31d81f75e7ab5b",
            "5e639d6b067f40fb83deea4d992dc310",
            "50386823d09f4dfa88b9a96afb450412",
            "e0009b031604477d99829feba8aeb68a",
            "93bf5d7dcaa148b396953fd1bed0941c",
            "34b91daea8d74fbe9701e6f44767aa05",
            "bbf83de5571042dd8580a9532e9486ad",
            "f8fa091a62a545c0a61ff6e67a3761dd",
            "d633141b15ff4fc584448c8935ba1786",
            "c07572c617f9409d8be66245aeb76987",
            "2c0d3f8ba0204dcda6d6f243df9a5fa6",
            "767f153140d546c79114b4f267934957",
            "77bdb0219354442b9ffe9556b02c6156"
          ]
        },
        "id": "U03a9njChkPn",
        "outputId": "c886ef31-774c-4e9c-fd5a-8c95fb8cd58c"
      },
      "outputs": [
        {
          "output_type": "display_data",
          "data": {
            "text/plain": [
              "  0%|          | 0/13 [00:00<?, ?it/s]"
            ],
            "application/vnd.jupyter.widget-view+json": {
              "version_major": 2,
              "version_minor": 0,
              "model_id": "1bfca825c46a44e8a1dbbddc488909ab"
            }
          },
          "metadata": {}
        },
        {
          "output_type": "stream",
          "name": "stdout",
          "text": [
            "No faces found for  /content/drive/MyDrive/course_work/frames/Test/3_7/00005.png\n",
            "No faces found for  /content/drive/MyDrive/course_work/frames/Test/3_7/00046.png\n",
            "No faces found for  /content/drive/MyDrive/course_work/frames/Test/3_7/00047.png\n",
            "No faces found for  /content/drive/MyDrive/course_work/frames/Test/3_7/00048.png\n",
            "No faces found for  /content/drive/MyDrive/course_work/frames/Test/3_7/00049.png\n",
            "No faces found for  /content/drive/MyDrive/course_work/frames/Test/3_7/00060.png\n",
            "No faces found for  /content/drive/MyDrive/course_work/frames/Test/1_6_1/00008.png\n",
            "No faces found for  /content/drive/MyDrive/course_work/frames/Test/1_7/00046.png\n",
            "No faces found for  /content/drive/MyDrive/course_work/frames/Test/1_7/00047.png\n",
            "No faces found for  /content/drive/MyDrive/course_work/frames/Test/1_7/00048.png\n",
            "No faces found for  /content/drive/MyDrive/course_work/frames/Test/1_7/00049.png\n",
            "No faces found for  /content/drive/MyDrive/course_work/frames/Test/1_7/00050.png\n",
            "No faces found for  /content/drive/MyDrive/course_work/frames/Test/1_7/00051.png\n",
            "No faces found for  /content/drive/MyDrive/course_work/frames/Test/1_7/00052.png\n",
            "No faces found for  /content/drive/MyDrive/course_work/frames/Test/1_7/00053.png\n",
            "Too many faces ( 2 ) found for  /content/drive/MyDrive/course_work/frames/Test/3_4_2/00052.png\n",
            "best_iou ( 0.935571898930318 ) best_bb  [477.71552487 221.63887826 823.45112161 671.1354278    0.99999356]\n"
          ]
        },
        {
          "output_type": "display_data",
          "data": {
            "text/plain": [
              "  0%|          | 0/19 [00:00<?, ?it/s]"
            ],
            "application/vnd.jupyter.widget-view+json": {
              "version_major": 2,
              "version_minor": 0,
              "model_id": "a360c0825ac14386a2a4fd42dbaba8a3"
            }
          },
          "metadata": {}
        },
        {
          "output_type": "stream",
          "name": "stdout",
          "text": [
            "No faces found for  /content/drive/MyDrive/course_work/frames/Train/0_1/00014.png\n",
            "No faces found for  /content/drive/MyDrive/course_work/frames/Train/0_1/00015.png\n",
            "No faces found for  /content/drive/MyDrive/course_work/frames/Train/0_1/00016.png\n",
            "No faces found for  /content/drive/MyDrive/course_work/frames/Train/0_1/00048.png\n",
            "No faces found for  /content/drive/MyDrive/course_work/frames/Train/1_3/00009.png\n",
            "No faces found for  /content/drive/MyDrive/course_work/frames/Train/2_8/00062.png\n",
            "No faces found for  /content/drive/MyDrive/course_work/frames/Train/2_8/00063.png\n",
            "No faces found for  /content/drive/MyDrive/course_work/frames/Train/2_8/00064.png\n",
            "No faces found for  /content/drive/MyDrive/course_work/frames/Train/0_5_1/00040.png\n",
            "No faces found for  /content/drive/MyDrive/course_work/frames/Train/0_5_1/00041.png\n",
            "Too many faces ( 2 ) found for  /content/drive/MyDrive/course_work/frames/Train/1_4_2/00083.png\n",
            "best_iou ( 0.974300224313131 ) best_bb  [491.08335059 278.55186836 803.50597277 659.00685936   0.99996102]\n",
            "Too many faces ( 2 ) found for  /content/drive/MyDrive/course_work/frames/Train/1_4_2/00111.png\n",
            "best_iou ( 0.9488433000098783 ) best_bb  [544.9724311  296.91688593 847.73392241 690.31637499   0.99997342]\n",
            "Too many faces ( 2 ) found for  /content/drive/MyDrive/course_work/frames/Train/1_4_2/00122.png\n",
            "best_iou ( 0.9735729127158692 ) best_bb  [553.055161   309.07248041 850.88692002 696.90211043   0.99995816]\n",
            "No faces found for  /content/drive/MyDrive/course_work/frames/Train/1_4_2/00260.png\n",
            "No faces found for  /content/drive/MyDrive/course_work/frames/Train/1_4_2/00261.png\n",
            "Too many faces ( 2 ) found for  /content/drive/MyDrive/course_work/frames/Train/2_4_2/00082.png\n",
            "best_iou ( 0.9093669893564441 ) best_bb  [470.39186557 195.93795578 811.89447618 618.64119967   0.99990582]\n",
            "No faces found for  /content/drive/MyDrive/course_work/frames/Train/2_4_2/00120.png\n",
            "No faces found for  /content/drive/MyDrive/course_work/frames/Train/2_4_3/00079.png\n",
            "Too many faces ( 2 ) found for  /content/drive/MyDrive/course_work/frames/Train/3_4_4/00089.png\n",
            "best_iou ( 0.9596439078901083 ) best_bb  [509.56414875 215.28598207 833.36678617 612.1976894    0.99994576]\n",
            "Too many faces ( 2 ) found for  /content/drive/MyDrive/course_work/frames/Train/3_4_4/00090.png\n",
            "best_iou ( 0.9554794938565805 ) best_bb  [517.84190021 215.843871   837.75404403 612.49367124   0.99998331]\n",
            "Too many faces ( 2 ) found for  /content/drive/MyDrive/course_work/frames/Train/3_4_4/00093.png\n",
            "best_iou ( 0.9452478571922115 ) best_bb  [515.0855221  208.66248442 841.74159802 609.59456099   0.99990535]\n"
          ]
        },
        {
          "output_type": "display_data",
          "data": {
            "text/plain": [
              "  0%|          | 0/6 [00:00<?, ?it/s]"
            ],
            "application/vnd.jupyter.widget-view+json": {
              "version_major": 2,
              "version_minor": 0,
              "model_id": "50386823d09f4dfa88b9a96afb450412"
            }
          },
          "metadata": {}
        },
        {
          "output_type": "stream",
          "name": "stdout",
          "text": [
            "No faces found for  /content/drive/MyDrive/course_work/frames/Validation/2_7_5/00029.png\n",
            "No faces found for  /content/drive/MyDrive/course_work/frames/Validation/2_7_5/00030.png\n",
            "No faces found for  /content/drive/MyDrive/course_work/frames/Validation/2_7_5/00031.png\n",
            "No faces found for  /content/drive/MyDrive/course_work/frames/Validation/2_7_5/00032.png\n",
            "No faces found for  /content/drive/MyDrive/course_work/frames/Validation/2_7_5/00033.png\n",
            "No faces found for  /content/drive/MyDrive/course_work/frames/Validation/2_7_5/00034.png\n",
            "No faces found for  /content/drive/MyDrive/course_work/frames/Validation/2_7_5/00035.png\n",
            "No faces found for  /content/drive/MyDrive/course_work/frames/Validation/2_7_5/00036.png\n",
            "No faces found for  /content/drive/MyDrive/course_work/frames/Validation/2_7_5/00037.png\n",
            "No faces found for  /content/drive/MyDrive/course_work/frames/Validation/2_7_5/00038.png\n",
            "No faces found for  /content/drive/MyDrive/course_work/frames/Validation/2_7_5/00039.png\n",
            "No faces found for  /content/drive/MyDrive/course_work/frames/Validation/2_7_5/00040.png\n",
            "No faces found for  /content/drive/MyDrive/course_work/frames/Validation/2_7_5/00041.png\n",
            "No faces found for  /content/drive/MyDrive/course_work/frames/Validation/2_7_5/00042.png\n",
            "No faces found for  /content/drive/MyDrive/course_work/frames/Validation/2_7_5/00043.png\n",
            "No faces found for  /content/drive/MyDrive/course_work/frames/Validation/2_7_5/00050.png\n",
            "No faces found for  /content/drive/MyDrive/course_work/frames/Validation/2_7_5/00083.png\n",
            "No faces found for  /content/drive/MyDrive/course_work/frames/Validation/2_7_5/00115.png\n",
            "No faces found for  /content/drive/MyDrive/course_work/frames/Validation/2_7_6/00016.png\n",
            "No faces found for  /content/drive/MyDrive/course_work/frames/Validation/2_7_6/00017.png\n",
            "No faces found for  /content/drive/MyDrive/course_work/frames/Validation/2_7_6/00018.png\n",
            "No faces found for  /content/drive/MyDrive/course_work/frames/Validation/2_7_6/00019.png\n",
            "No faces found for  /content/drive/MyDrive/course_work/frames/Validation/2_7_6/00020.png\n",
            "No faces found for  /content/drive/MyDrive/course_work/frames/Validation/2_7_6/00021.png\n",
            "No faces found for  /content/drive/MyDrive/course_work/frames/Validation/2_7_6/00022.png\n",
            "No faces found for  /content/drive/MyDrive/course_work/frames/Validation/2_7_6/00023.png\n",
            "No faces found for  /content/drive/MyDrive/course_work/frames/Validation/2_7_6/00046.png\n",
            "No faces found for  /content/drive/MyDrive/course_work/frames/Validation/2_7_6/00047.png\n",
            "No faces found for  /content/drive/MyDrive/course_work/frames/Validation/2_7_6/00048.png\n",
            "No faces found for  /content/drive/MyDrive/course_work/frames/Validation/2_7_6/00049.png\n",
            "No faces found for  /content/drive/MyDrive/course_work/frames/Validation/2_7_6/00050.png\n",
            "No faces found for  /content/drive/MyDrive/course_work/frames/Validation/2_7_6/00051.png\n",
            "No faces found for  /content/drive/MyDrive/course_work/frames/Validation/2_7_6/00052.png\n",
            "No faces found for  /content/drive/MyDrive/course_work/frames/Validation/2_7_6/00053.png\n",
            "No faces found for  /content/drive/MyDrive/course_work/frames/Validation/2_7_6/00054.png\n",
            "No faces found for  /content/drive/MyDrive/course_work/frames/Validation/2_7_6/00063.png\n",
            "No faces found for  /content/drive/MyDrive/course_work/frames/Validation/2_7_6/00064.png\n",
            "No faces found for  /content/drive/MyDrive/course_work/frames/Validation/2_7_6/00065.png\n",
            "No faces found for  /content/drive/MyDrive/course_work/frames/Validation/2_7_6/00066.png\n",
            "No faces found for  /content/drive/MyDrive/course_work/frames/Validation/2_7_6/00067.png\n",
            "No faces found for  /content/drive/MyDrive/course_work/frames/Validation/2_7_6/00068.png\n",
            "No faces found for  /content/drive/MyDrive/course_work/frames/Validation/2_7_6/00069.png\n",
            "No faces found for  /content/drive/MyDrive/course_work/frames/Validation/2_7_6/00070.png\n",
            "No faces found for  /content/drive/MyDrive/course_work/frames/Validation/2_7_6/00071.png\n",
            "No faces found for  /content/drive/MyDrive/course_work/frames/Validation/2_7_6/00102.png\n"
          ]
        }
      ],
      "source": [
        "save_aligned_faces(os.path.join(DATA_DIR,'frames/Test'),os.path.join(DATA_DIR,'cropped/aligned/Test'))\n",
        "save_aligned_faces(os.path.join(DATA_DIR,'frames/Train'),os.path.join(DATA_DIR,'cropped/aligned/Train'))\n",
        "save_aligned_faces(os.path.join(DATA_DIR,'frames/Validation'),os.path.join(DATA_DIR,'cropped/aligned/Validation'))"
      ]
    },
    {
      "cell_type": "code",
      "execution_count": null,
      "metadata": {
        "colab": {
          "base_uri": "https://localhost:8080/",
          "height": 1000,
          "referenced_widgets": [
            "8acf3f048abc42eaa9e3490e7b4a23d4",
            "02c480c7d76d413b8138e7c0e1669590",
            "957451fab95d49749fec00632a5b3f57"
          ]
        },
        "id": "-seUiE_bzYRg",
        "outputId": "9f4c97b9-b7c6-4244-b548-fab4d5d776de"
      },
      "outputs": [
        {
          "data": {
            "application/vnd.jupyter.widget-view+json": {
              "model_id": "8acf3f048abc42eaa9e3490e7b4a23d4",
              "version_major": 2,
              "version_minor": 0
            },
            "text/plain": [
              "  0%|          | 0/18 [00:00<?, ?it/s]"
            ]
          },
          "metadata": {},
          "output_type": "display_data"
        },
        {
          "name": "stdout",
          "output_type": "stream",
          "text": [
            "No faces found for  /content/drive/MyDrive/project/Датасэт/Test/frames/1_6_1/00008.png\n",
            "No faces found for  /content/drive/MyDrive/project/Датасэт/Test/frames/1_7/00046.png\n",
            "No faces found for  /content/drive/MyDrive/project/Датасэт/Test/frames/1_7/00047.png\n",
            "No faces found for  /content/drive/MyDrive/project/Датасэт/Test/frames/1_7/00048.png\n",
            "No faces found for  /content/drive/MyDrive/project/Датасэт/Test/frames/1_7/00049.png\n",
            "No faces found for  /content/drive/MyDrive/project/Датасэт/Test/frames/1_7/00050.png\n",
            "No faces found for  /content/drive/MyDrive/project/Датасэт/Test/frames/1_7/00051.png\n",
            "No faces found for  /content/drive/MyDrive/project/Датасэт/Test/frames/1_7/00052.png\n",
            "No faces found for  /content/drive/MyDrive/project/Датасэт/Test/frames/1_7/00053.png\n",
            "No faces found for  /content/drive/MyDrive/project/Датасэт/Test/frames/1_7_2/00004.png\n",
            "No faces found for  /content/drive/MyDrive/project/Датасэт/Test/frames/1_7_2/00005.png\n",
            "No faces found for  /content/drive/MyDrive/project/Датасэт/Test/frames/1_7_2/00007.png\n",
            "No faces found for  /content/drive/MyDrive/project/Датасэт/Test/frames/1_7_2/00008.png\n",
            "No faces found for  /content/drive/MyDrive/project/Датасэт/Test/frames/1_7_2/00009.png\n",
            "No faces found for  /content/drive/MyDrive/project/Датасэт/Test/frames/1_7_2/00010.png\n",
            "No faces found for  /content/drive/MyDrive/project/Датасэт/Test/frames/1_7_2/00038.png\n",
            "No faces found for  /content/drive/MyDrive/project/Датасэт/Test/frames/1_7_2/00055.png\n",
            "No faces found for  /content/drive/MyDrive/project/Датасэт/Test/frames/1_7_2/00078.png\n",
            "No faces found for  /content/drive/MyDrive/project/Датасэт/Test/frames/1_7_2/00079.png\n",
            "No faces found for  /content/drive/MyDrive/project/Датасэт/Test/frames/1_7_2/00080.png\n",
            "No faces found for  /content/drive/MyDrive/project/Датасэт/Test/frames/1_7_2/00083.png\n",
            "No faces found for  /content/drive/MyDrive/project/Датасэт/Test/frames/1_7_2/00098.png\n",
            "No faces found for  /content/drive/MyDrive/project/Датасэт/Test/frames/3_7/00005.png\n",
            "No faces found for  /content/drive/MyDrive/project/Датасэт/Test/frames/3_7/00046.png\n",
            "No faces found for  /content/drive/MyDrive/project/Датасэт/Test/frames/3_7/00047.png\n",
            "No faces found for  /content/drive/MyDrive/project/Датасэт/Test/frames/3_7/00048.png\n",
            "No faces found for  /content/drive/MyDrive/project/Датасэт/Test/frames/3_7/00049.png\n",
            "No faces found for  /content/drive/MyDrive/project/Датасэт/Test/frames/3_7/00060.png\n",
            "No faces found for  /content/drive/MyDrive/project/Датасэт/Test/frames/2_7_3/00059.png\n"
          ]
        },
        {
          "data": {
            "application/vnd.jupyter.widget-view+json": {
              "model_id": "02c480c7d76d413b8138e7c0e1669590",
              "version_major": 2,
              "version_minor": 0
            },
            "text/plain": [
              "  0%|          | 0/20 [00:00<?, ?it/s]"
            ]
          },
          "metadata": {},
          "output_type": "display_data"
        },
        {
          "name": "stdout",
          "output_type": "stream",
          "text": [
            "No faces found for  /content/drive/MyDrive/project/Датасэт/Train/frames/1_3/00009.png\n",
            "No faces found for  /content/drive/MyDrive/project/Датасэт/Train/frames/0_5_1/00040.png\n",
            "No faces found for  /content/drive/MyDrive/project/Датасэт/Train/frames/0_5_1/00041.png\n",
            "Too many faces ( 2 ) found for  /content/drive/MyDrive/project/Датасэт/Train/frames/3_4_4/00089.png\n",
            "best_iou ( 0.9596440329438631 ) best_bb  [509.56414306 215.2859764  833.36680609 612.19771779   0.99994576]\n",
            "Too many faces ( 2 ) found for  /content/drive/MyDrive/project/Датасэт/Train/frames/3_4_4/00090.png\n",
            "best_iou ( 0.9554795359910803 ) best_bb  [517.84188291 215.84387389 837.75404403 612.49367268   0.99998331]\n",
            "Too many faces ( 2 ) found for  /content/drive/MyDrive/project/Датасэт/Train/frames/3_4_4/00093.png\n",
            "best_iou ( 0.9452478055665529 ) best_bb  [515.08553337 208.66246748 841.74161211 609.59455252   0.99990535]\n",
            "Too many faces ( 2 ) found for  /content/drive/MyDrive/project/Датасэт/Train/frames/1_4_2/00083.png\n",
            "best_iou ( 0.9743002411724132 ) best_bb  [491.08335463 278.55187845 803.50596201 659.00688088   0.99996102]\n",
            "Too many faces ( 2 ) found for  /content/drive/MyDrive/project/Датасэт/Train/frames/1_4_2/00111.png\n",
            "best_iou ( 0.948843335762056 ) best_bb  [544.97242602 296.91688085 847.73392749 690.31636514   0.99997342]\n",
            "Too many faces ( 2 ) found for  /content/drive/MyDrive/project/Датасэт/Train/frames/1_4_2/00122.png\n",
            "best_iou ( 0.973572886243127 ) best_bb  [553.05515131 309.07248041 850.8869176  696.90211559   0.99995816]\n",
            "No faces found for  /content/drive/MyDrive/project/Датасэт/Train/frames/1_4_2/00260.png\n",
            "No faces found for  /content/drive/MyDrive/project/Датасэт/Train/frames/1_4_2/00261.png\n",
            "No faces found for  /content/drive/MyDrive/project/Датасэт/Train/frames/2_4_3/00079.png\n",
            "No faces found for  /content/drive/MyDrive/project/Датасэт/Train/frames/2_8/00062.png\n",
            "No faces found for  /content/drive/MyDrive/project/Датасэт/Train/frames/2_8/00063.png\n",
            "No faces found for  /content/drive/MyDrive/project/Датасэт/Train/frames/2_8/00064.png\n",
            "Too many faces ( 2 ) found for  /content/drive/MyDrive/project/Датасэт/Train/frames/2_4_2/00082.png\n",
            "best_iou ( 0.9093670228458725 ) best_bb  [470.39186871 195.93796524 811.89446674 618.64120913   0.99990582]\n",
            "No faces found for  /content/drive/MyDrive/project/Датасэт/Train/frames/2_4_2/00120.png\n",
            "No faces found for  /content/drive/MyDrive/project/Датасэт/Train/frames/0_1/00014.png\n",
            "No faces found for  /content/drive/MyDrive/project/Датасэт/Train/frames/0_1/00015.png\n",
            "No faces found for  /content/drive/MyDrive/project/Датасэт/Train/frames/0_1/00016.png\n",
            "No faces found for  /content/drive/MyDrive/project/Датасэт/Train/frames/0_1/00048.png\n"
          ]
        },
        {
          "data": {
            "application/vnd.jupyter.widget-view+json": {
              "model_id": "957451fab95d49749fec00632a5b3f57",
              "version_major": 2,
              "version_minor": 0
            },
            "text/plain": [
              "  0%|          | 0/20 [00:00<?, ?it/s]"
            ]
          },
          "metadata": {},
          "output_type": "display_data"
        },
        {
          "name": "stdout",
          "output_type": "stream",
          "text": [
            "Too many faces ( 2 ) found for  /content/drive/MyDrive/project/Датасэт/Validation/frames/3_1_1/00024.png\n",
            "best_iou ( 0.9849174188163964 ) best_bb  [584.75502819 406.25657268 726.22939119 595.35224442   0.99999487]\n",
            "Too many faces ( 2 ) found for  /content/drive/MyDrive/project/Датасэт/Validation/frames/3_1_1/00025.png\n",
            "best_iou ( 0.9508705824101706 ) best_bb  [587.68196878 408.3282536  727.68905687 595.00597186   0.99999821]\n",
            "No faces found for  /content/drive/MyDrive/project/Датасэт/Validation/frames/0_1_4/00102.png\n",
            "No faces found for  /content/drive/MyDrive/project/Датасэт/Validation/frames/2_7_5/00029.png\n",
            "No faces found for  /content/drive/MyDrive/project/Датасэт/Validation/frames/2_7_5/00030.png\n",
            "No faces found for  /content/drive/MyDrive/project/Датасэт/Validation/frames/2_7_5/00031.png\n",
            "No faces found for  /content/drive/MyDrive/project/Датасэт/Validation/frames/2_7_5/00032.png\n",
            "No faces found for  /content/drive/MyDrive/project/Датасэт/Validation/frames/2_7_5/00033.png\n",
            "No faces found for  /content/drive/MyDrive/project/Датасэт/Validation/frames/2_7_5/00034.png\n",
            "No faces found for  /content/drive/MyDrive/project/Датасэт/Validation/frames/2_7_5/00035.png\n",
            "No faces found for  /content/drive/MyDrive/project/Датасэт/Validation/frames/2_7_5/00036.png\n",
            "No faces found for  /content/drive/MyDrive/project/Датасэт/Validation/frames/2_7_5/00037.png\n",
            "No faces found for  /content/drive/MyDrive/project/Датасэт/Validation/frames/2_7_5/00038.png\n",
            "No faces found for  /content/drive/MyDrive/project/Датасэт/Validation/frames/2_7_5/00039.png\n",
            "No faces found for  /content/drive/MyDrive/project/Датасэт/Validation/frames/2_7_5/00040.png\n",
            "No faces found for  /content/drive/MyDrive/project/Датасэт/Validation/frames/2_7_5/00041.png\n",
            "No faces found for  /content/drive/MyDrive/project/Датасэт/Validation/frames/2_7_5/00042.png\n",
            "No faces found for  /content/drive/MyDrive/project/Датасэт/Validation/frames/2_7_5/00043.png\n",
            "No faces found for  /content/drive/MyDrive/project/Датасэт/Validation/frames/2_7_5/00050.png\n",
            "No faces found for  /content/drive/MyDrive/project/Датасэт/Validation/frames/2_7_5/00083.png\n",
            "No faces found for  /content/drive/MyDrive/project/Датасэт/Validation/frames/2_7_5/00115.png\n",
            "No faces found for  /content/drive/MyDrive/project/Датасэт/Validation/frames/2_7_6/00016.png\n",
            "No faces found for  /content/drive/MyDrive/project/Датасэт/Validation/frames/2_7_6/00017.png\n",
            "No faces found for  /content/drive/MyDrive/project/Датасэт/Validation/frames/2_7_6/00018.png\n",
            "No faces found for  /content/drive/MyDrive/project/Датасэт/Validation/frames/2_7_6/00019.png\n",
            "No faces found for  /content/drive/MyDrive/project/Датасэт/Validation/frames/2_7_6/00020.png\n",
            "No faces found for  /content/drive/MyDrive/project/Датасэт/Validation/frames/2_7_6/00021.png\n",
            "No faces found for  /content/drive/MyDrive/project/Датасэт/Validation/frames/2_7_6/00022.png\n",
            "No faces found for  /content/drive/MyDrive/project/Датасэт/Validation/frames/2_7_6/00023.png\n",
            "No faces found for  /content/drive/MyDrive/project/Датасэт/Validation/frames/2_7_6/00046.png\n",
            "No faces found for  /content/drive/MyDrive/project/Датасэт/Validation/frames/2_7_6/00047.png\n",
            "No faces found for  /content/drive/MyDrive/project/Датасэт/Validation/frames/2_7_6/00048.png\n",
            "No faces found for  /content/drive/MyDrive/project/Датасэт/Validation/frames/2_7_6/00049.png\n",
            "No faces found for  /content/drive/MyDrive/project/Датасэт/Validation/frames/2_7_6/00050.png\n",
            "No faces found for  /content/drive/MyDrive/project/Датасэт/Validation/frames/2_7_6/00051.png\n",
            "No faces found for  /content/drive/MyDrive/project/Датасэт/Validation/frames/2_7_6/00052.png\n",
            "No faces found for  /content/drive/MyDrive/project/Датасэт/Validation/frames/2_7_6/00053.png\n",
            "No faces found for  /content/drive/MyDrive/project/Датасэт/Validation/frames/2_7_6/00054.png\n",
            "No faces found for  /content/drive/MyDrive/project/Датасэт/Validation/frames/2_7_6/00063.png\n",
            "No faces found for  /content/drive/MyDrive/project/Датасэт/Validation/frames/2_7_6/00064.png\n",
            "No faces found for  /content/drive/MyDrive/project/Датасэт/Validation/frames/2_7_6/00065.png\n",
            "No faces found for  /content/drive/MyDrive/project/Датасэт/Validation/frames/2_7_6/00066.png\n",
            "No faces found for  /content/drive/MyDrive/project/Датасэт/Validation/frames/2_7_6/00067.png\n",
            "No faces found for  /content/drive/MyDrive/project/Датасэт/Validation/frames/2_7_6/00068.png\n",
            "No faces found for  /content/drive/MyDrive/project/Датасэт/Validation/frames/2_7_6/00069.png\n",
            "No faces found for  /content/drive/MyDrive/project/Датасэт/Validation/frames/2_7_6/00070.png\n",
            "No faces found for  /content/drive/MyDrive/project/Датасэт/Validation/frames/2_7_6/00071.png\n",
            "No faces found for  /content/drive/MyDrive/project/Датасэт/Validation/frames/2_7_6/00102.png\n"
          ]
        }
      ],
      "source": [
        "save_aligned_faces(os.path.join(DATA_DIR,'Test/frames'),os.path.join(DATA_DIR,'cropped/aligned_2/Test'))\n",
        "save_aligned_faces(os.path.join(DATA_DIR,'Train/frames'),os.path.join(DATA_DIR,'cropped/aligned_2/Train'))\n",
        "save_aligned_faces(os.path.join(DATA_DIR,'Validation/frames'),os.path.join(DATA_DIR,'cropped/aligned_2/Validation'))"
      ]
    },
    {
      "cell_type": "code",
      "execution_count": 10,
      "metadata": {
        "id": "FCvdUZSEiFE9"
      },
      "outputs": [],
      "source": [
        "from tensorflow.keras.applications import mobilenet\n",
        "from tensorflow.keras.models import load_model,Model"
      ]
    },
    {
      "cell_type": "markdown",
      "metadata": {
        "id": "tjoePn3aoX5R"
      },
      "source": [
        "# Data preprocessing 2"
      ]
    },
    {
      "cell_type": "code",
      "execution_count": 12,
      "metadata": {
        "id": "RR6hvXm2smja"
      },
      "outputs": [],
      "source": [
        "data_transforms = {\n",
        "    'Train': transforms.Compose([\n",
        "        transforms.RandomResizedCrop(224),\n",
        "        # transforms.RandomHorizontalFlip(),\n",
        "        transforms.ToTensor(),\n",
        "        transforms.Normalize([0.485, 0.456, 0.406], [0.229, 0.224, 0.225])\n",
        "    ]),\n",
        "    'Test': transforms.Compose([\n",
        "        transforms.Resize(256),\n",
        "        transforms.CenterCrop(224),\n",
        "        transforms.ToTensor(),\n",
        "        transforms.Normalize([0.485, 0.456, 0.406], [0.229, 0.224, 0.225])\n",
        "    ]),\n",
        "    'Validation': transforms.Compose([\n",
        "        transforms.Resize(256),\n",
        "        transforms.CenterCrop(224),\n",
        "        transforms.ToTensor(),\n",
        "        transforms.Normalize([0.485, 0.456, 0.406], [0.229, 0.224, 0.225])\n",
        "    ]),\n",
        "}\n",
        "\n",
        "data_dir = '/content/drive/MyDrive/course_work/cropped/aligned/'\n",
        "image_datasets = {x: datasets.ImageFolder(os.path.join(data_dir, x),\n",
        "                                          data_transforms[x])\n",
        "                  for x in ['Train','Test','Validation']}\n",
        "dataloaders = {x: torch.utils.data.DataLoader(image_datasets[x], batch_size=4,\n",
        "                                             shuffle=True, num_workers=2)\n",
        "              for x in ['Train','Test','Validation']}\n",
        "dataset_sizes = {x: len(image_datasets[x]) for x in ['Train','Test','Validation']}"
      ]
    },
    {
      "cell_type": "code",
      "execution_count": 13,
      "metadata": {
        "colab": {
          "base_uri": "https://localhost:8080/"
        },
        "id": "QLSoa5k5G5S3",
        "outputId": "1d6d9b0c-89a6-4adf-951b-44dfcac93d53"
      },
      "outputs": [
        {
          "output_type": "execute_result",
          "data": {
            "text/plain": [
              "{'Test': <torch.utils.data.dataloader.DataLoader at 0x7f6b10562d90>,\n",
              " 'Train': <torch.utils.data.dataloader.DataLoader at 0x7f6b10562b50>,\n",
              " 'Validation': <torch.utils.data.dataloader.DataLoader at 0x7f6b105628d0>}"
            ]
          },
          "metadata": {},
          "execution_count": 13
        }
      ],
      "source": [
        "dataloaders"
      ]
    },
    {
      "cell_type": "code",
      "execution_count": 14,
      "metadata": {
        "colab": {
          "base_uri": "https://localhost:8080/"
        },
        "id": "zGfIjx3ZiARX",
        "outputId": "d5f594b8-2d0c-4a67-9223-dd7451b9fc17"
      },
      "outputs": [
        {
          "output_type": "execute_result",
          "data": {
            "text/plain": [
              "['0', '1', '2', '3']"
            ]
          },
          "metadata": {},
          "execution_count": 14
        }
      ],
      "source": [
        "image_datasets['Test'].classes"
      ]
    },
    {
      "cell_type": "code",
      "execution_count": 15,
      "metadata": {
        "id": "ypaH4KYDwB8e"
      },
      "outputs": [],
      "source": [
        "class_names = image_datasets['Train'].classes\n",
        "\n",
        "device = torch.device(\"cuda:0\" if torch.cuda.is_available() else \"cpu\")"
      ]
    },
    {
      "cell_type": "code",
      "execution_count": 16,
      "metadata": {
        "colab": {
          "base_uri": "https://localhost:8080/",
          "height": 148
        },
        "id": "DJlUVtd8FgmN",
        "outputId": "1c80afac-fa0e-4a77-8df6-003fb8f2d2b1"
      },
      "outputs": [
        {
          "output_type": "display_data",
          "data": {
            "text/plain": [
              "<Figure size 432x288 with 1 Axes>"
            ],
            "image/png": "[encoded data removed]"
          },
          "metadata": {
            "needs_background": "light"
          }
        }
      ],
      "source": [
        "import torchvision\n",
        "\n",
        "\n",
        "def imshow(inp, title=None):\n",
        "    \"\"\"Imshow for Tensor.\"\"\"\n",
        "    inp = inp.numpy().transpose((1, 2, 0))\n",
        "    mean = np.array([0.485, 0.456, 0.406])\n",
        "    std = np.array([0.229, 0.224, 0.225])\n",
        "    inp = std * inp + mean\n",
        "    inp = np.clip(inp, 0, 1)\n",
        "    plt.imshow(inp)\n",
        "    if title is not None:\n",
        "        plt.title(title)\n",
        "    plt.pause(0.001)  # pause a bit so that plots are updated\n",
        "\n",
        "\n",
        "# Get a batch of training data\n",
        "inputs, classes = next(iter(dataloaders['Train']))\n",
        "\n",
        "# Make a grid from batch\n",
        "out = torchvision.utils.make_grid(inputs)\n",
        "\n",
        "imshow(out, title=[class_names[x] for x in classes])"
      ]
    },
    {
      "cell_type": "code",
      "execution_count": 17,
      "metadata": {
        "id": "xMiahvqwJwPM"
      },
      "outputs": [],
      "source": [
        "def train_model(model, criterion, optimizer, scheduler, num_epochs=25):\n",
        "    CUDA_LAUNCH_BLOCKING = \"1\"\n",
        "    since = time.time()\n",
        "\n",
        "    # best_model_wts = copy.deepcopy(model.state_dict())\n",
        "    best_acc = 0.0\n",
        "\n",
        "    for epoch in range(num_epochs):\n",
        "        print(f'Epoch {epoch}/{num_epochs - 1}')\n",
        "        print('-' * 10)\n",
        "\n",
        "        # Each epoch has a training and validation phase\n",
        "        for phase in ['Train', 'Validation']:\n",
        "            if phase == 'Train':\n",
        "                model.train()  # Set model to training mode\n",
        "            else:\n",
        "                model.eval()   # Set model to evaluate mode\n",
        "\n",
        "            running_loss = 0.0\n",
        "            running_corrects = 0\n",
        "\n",
        "            # Iterate over data.\n",
        "            for inputs, labels in dataloaders[phase]:\n",
        "                inputs = inputs.to(device)\n",
        "                labels = labels.to(device)\n",
        "\n",
        "                # zero the parameter gradients\n",
        "                optimizer.zero_grad()\n",
        "\n",
        "                # forward\n",
        "                # track history if only in train\n",
        "                with torch.set_grad_enabled(phase == 'Train'):\n",
        "                    outputs = model(inputs)\n",
        "                    _, preds = torch.max(outputs, 1)\n",
        "                    loss = criterion(outputs, labels)\n",
        "\n",
        "                    # backward + optimize only if in training phase\n",
        "                    if phase == 'Train':\n",
        "                        loss.backward()\n",
        "                        optimizer.step()\n",
        "\n",
        "                # statistics\n",
        "                running_loss += loss.item() * inputs.size(0)\n",
        "                running_corrects += torch.sum(preds == labels.data)\n",
        "            if phase == 'Train':\n",
        "                scheduler.step()\n",
        "\n",
        "            epoch_loss = running_loss / dataset_sizes[phase]\n",
        "            epoch_acc = running_corrects.double() / dataset_sizes[phase]\n",
        "\n",
        "            print(f'{phase} Loss: {epoch_loss:.4f} Acc: {epoch_acc:.4f}')\n",
        "\n",
        "            # deep copy the model\n",
        "            if phase == 'Validation' and epoch_acc > best_acc:\n",
        "                best_acc = epoch_acc\n",
        "                # best_model_wts = copy.deepcopy(model.state_dict())\n",
        "\n",
        "        print()\n",
        "\n",
        "    time_elapsed = time.time() - since\n",
        "    print(f'Training complete in {time_elapsed // 60:.0f}m {time_elapsed % 60:.0f}s')\n",
        "    print(f'Best val Acc: {best_acc:4f}')\n",
        "\n",
        "    # load best model weights\n",
        "    # model.load_state_dict(best_model_wts)\n",
        "    return model"
      ]
    },
    {
      "cell_type": "code",
      "execution_count": 18,
      "metadata": {
        "id": "yc4D2gURikEy"
      },
      "outputs": [],
      "source": [
        "def visualize_model(model, num_images=6):\n",
        "    was_training = model.training\n",
        "    model.eval()\n",
        "    images_so_far = 0\n",
        "    fig = plt.figure()\n",
        "\n",
        "    with torch.no_grad():\n",
        "        for i, (inputs, labels) in enumerate(dataloaders['Test']):\n",
        "            inputs = inputs.to(device)\n",
        "            labels = labels.to(device)\n",
        "\n",
        "            outputs = model(inputs)\n",
        "            _, preds = torch.max(outputs, 1)\n",
        "\n",
        "            for j in range(inputs.size()[0]):\n",
        "                images_so_far += 1\n",
        "                ax = plt.subplot(num_images//2, 4, images_so_far)\n",
        "                ax.axis('off')\n",
        "                ax.set_title(f'predicted: {class_names[preds[j]]}')\n",
        "                imshow(inputs.cpu().data[j])\n",
        "\n",
        "                if images_so_far == num_images:\n",
        "                    model.train(mode=was_training)\n",
        "                    return\n",
        "        model.train(mode=was_training)"
      ]
    },
    {
      "cell_type": "code",
      "execution_count": 19,
      "metadata": {
        "id": "LU9OMBiwqxXk"
      },
      "outputs": [],
      "source": [
        "import torchvision.models as models"
      ]
    },
    {
      "cell_type": "markdown",
      "metadata": {
        "id": "DvcJR9jECm5p"
      },
      "source": [
        "# Resnet"
      ]
    },
    {
      "cell_type": "code",
      "execution_count": 20,
      "metadata": {
        "colab": {
          "base_uri": "https://localhost:8080/",
          "height": 66,
          "referenced_widgets": [
            "d170c4f9f9c845a6b268893a93cf2e23",
            "8c4331e7306e4fb38133821005ab671e",
            "d0e16ed023dd4610b9b9b3d575094b13",
            "77797a7440dd41cd8f9bc0d2d790f18f",
            "d9025166ddf24db4af5942d1b3d200f9",
            "8bb7810972474f6d9a78357c2e919d4a",
            "650ed41257fb46d593d395e5d1f8df90",
            "8987d92892584313b7f8dc4668d5f541",
            "69afc8e6536f4ae3a291fd940633bb0e",
            "9eaa331c54a34c9694f083c3a26f8c4f",
            "aa81bb537e9d4f85baf4c62809773f6f"
          ]
        },
        "id": "b_NE4BfSjXed",
        "outputId": "9b605535-24fc-4c13-ee60-2e90ca9a4320"
      },
      "outputs": [
        {
          "output_type": "stream",
          "name": "stderr",
          "text": [
            "Downloading: \"https://download.pytorch.org/models/resnet18-f37072fd.pth\" to /root/.cache/torch/hub/checkpoints/resnet18-f37072fd.pth\n"
          ]
        },
        {
          "output_type": "display_data",
          "data": {
            "text/plain": [
              "  0%|          | 0.00/44.7M [00:00<?, ?B/s]"
            ],
            "application/vnd.jupyter.widget-view+json": {
              "version_major": 2,
              "version_minor": 0,
              "model_id": "d170c4f9f9c845a6b268893a93cf2e23"
            }
          },
          "metadata": {}
        }
      ],
      "source": [
        "model_ft = models.resnet18(pretrained=True)\n",
        "num_ftrs = model_ft.fc.in_features\n",
        "# Alternatively, it can be generalized to nn.Linear(num_ftrs, len(class_names)).\n",
        "model_ft.fc = nn.Linear(num_ftrs, 4)\n",
        "\n",
        "model_ft = model_ft.to(device)\n",
        "\n",
        "criterion = nn.CrossEntropyLoss()\n",
        "\n",
        "# Observe that all parameters are being optimized\n",
        "optimizer_ft = torch.optim.SGD(model_ft.parameters(), lr=0.001, momentum=0.9)\n",
        "\n",
        "# Decay LR by a factor of 0.1 every 7 epochs\n",
        "exp_lr_scheduler = torch.optim.lr_scheduler.StepLR(optimizer_ft, step_size=7, gamma=0.1)"
      ]
    },
    {
      "cell_type": "code",
      "execution_count": 21,
      "metadata": {
        "colab": {
          "base_uri": "https://localhost:8080/"
        },
        "id": "1Br3y8r1juY1",
        "outputId": "fb470cfe-ec42-47f0-d165-9aa71f6569a3"
      },
      "outputs": [
        {
          "output_type": "stream",
          "name": "stdout",
          "text": [
            "Epoch 0/9\n",
            "----------\n",
            "Train Loss: 1.0233 Acc: 0.5934\n",
            "Validation Loss: 1.1963 Acc: 0.6529\n",
            "\n",
            "Epoch 1/9\n",
            "----------\n",
            "Train Loss: 0.9164 Acc: 0.6508\n",
            "Validation Loss: 1.6363 Acc: 0.5365\n",
            "\n",
            "Epoch 2/9\n",
            "----------\n",
            "Train Loss: 0.7926 Acc: 0.6890\n",
            "Validation Loss: 1.4249 Acc: 0.6371\n",
            "\n",
            "Epoch 3/9\n",
            "----------\n",
            "Train Loss: 0.7507 Acc: 0.7088\n",
            "Validation Loss: 1.7076 Acc: 0.6114\n",
            "\n",
            "Epoch 4/9\n",
            "----------\n",
            "Train Loss: 0.7039 Acc: 0.7328\n",
            "Validation Loss: 1.1650 Acc: 0.6884\n",
            "\n",
            "Epoch 5/9\n",
            "----------\n",
            "Train Loss: 0.6567 Acc: 0.7442\n",
            "Validation Loss: 1.1584 Acc: 0.6785\n",
            "\n",
            "Epoch 6/9\n",
            "----------\n",
            "Train Loss: 0.6730 Acc: 0.7319\n",
            "Validation Loss: 1.0431 Acc: 0.6943\n",
            "\n",
            "Epoch 7/9\n",
            "----------\n",
            "Train Loss: 0.5308 Acc: 0.7890\n",
            "Validation Loss: 0.9079 Acc: 0.7002\n",
            "\n",
            "Epoch 8/9\n",
            "----------\n",
            "Train Loss: 0.4855 Acc: 0.8085\n",
            "Validation Loss: 0.9390 Acc: 0.7160\n",
            "\n",
            "Epoch 9/9\n",
            "----------\n",
            "Train Loss: 0.4654 Acc: 0.8170\n",
            "Validation Loss: 0.8937 Acc: 0.7002\n",
            "\n",
            "Training complete in 10m 12s\n",
            "Best val Acc: 0.715976\n"
          ]
        }
      ],
      "source": [
        "import copy\n",
        "model_ft = train_model(model_ft, criterion, optimizer_ft, exp_lr_scheduler,\n",
        "                       num_epochs=10)"
      ]
    },
    {
      "cell_type": "code",
      "execution_count": 22,
      "metadata": {
        "colab": {
          "base_uri": "https://localhost:8080/",
          "height": 581
        },
        "id": "6mRyXSJbk37n",
        "outputId": "0df26e89-5d05-4017-9d9c-800261814cb9"
      },
      "outputs": [
        {
          "output_type": "display_data",
          "data": {
            "text/plain": [
              "<Figure size 432x288 with 1 Axes>"
            ],
            "image/png": "[encoded data removed]"
          },
          "metadata": {
            "needs_background": "light"
          }
        },
        {
          "output_type": "display_data",
          "data": {
            "text/plain": [
              "<Figure size 432x288 with 1 Axes>"
            ],
            "image/png": "[encoded data removed]"
          },
          "metadata": {
            "needs_background": "light"
          }
        },
        {
          "output_type": "display_data",
          "data": {
            "text/plain": [
              "<Figure size 432x288 with 1 Axes>"
            ],
            "image/png": "[encoded data removed]"
          },
          "metadata": {
            "needs_background": "light"
          }
        },
        {
          "output_type": "display_data",
          "data": {
            "text/plain": [
              "<Figure size 432x288 with 1 Axes>"
            ],
            "image/png": "[encoded data removed]"
          },
          "metadata": {
            "needs_background": "light"
          }
        },
        {
          "output_type": "display_data",
          "data": {
            "text/plain": [
              "<Figure size 432x288 with 1 Axes>"
            ],
            "image/png": "[encoded data removed]"
          },
          "metadata": {
            "needs_background": "light"
          }
        },
        {
          "output_type": "display_data",
          "data": {
            "text/plain": [
              "<Figure size 432x288 with 1 Axes>"
            ],
            "image/png": "[encoded data removed]"
          },
          "metadata": {
            "needs_background": "light"
          }
        }
      ],
      "source": [
        "visualize_model(model_ft)"
      ]
    },
    {
      "cell_type": "code",
      "execution_count": 23,
      "metadata": {
        "id": "N7KetA7tXydH"
      },
      "outputs": [],
      "source": [
        "model_ft = models.resnet18(pretrained=False)\n",
        "num_ftrs = model_ft.fc.in_features\n",
        "# Alternatively, it can be generalized to nn.Linear(num_ftrs, len(class_names)).\n",
        "model_ft.fc = nn.Linear(num_ftrs, 4)\n",
        "\n",
        "model_ft = model_ft.to(device)\n",
        "\n",
        "criterion = nn.CrossEntropyLoss()\n",
        "\n",
        "# Observe that all parameters are being optimized\n",
        "optimizer_ft = torch.optim.SGD(model_ft.parameters(), lr=0.001, momentum=0.9)\n",
        "\n",
        "# Decay LR by a factor of 0.1 every 7 epochs\n",
        "exp_lr_scheduler = torch.optim.lr_scheduler.StepLR(optimizer_ft, step_size=7, gamma=0.1)"
      ]
    },
    {
      "cell_type": "code",
      "execution_count": 24,
      "metadata": {
        "colab": {
          "base_uri": "https://localhost:8080/"
        },
        "id": "SLmGy1xPX2j-",
        "outputId": "7c3529c0-9b07-4ed5-ec77-4f75042b2fb3"
      },
      "outputs": [
        {
          "output_type": "stream",
          "name": "stdout",
          "text": [
            "Epoch 0/24\n",
            "----------\n",
            "Train Loss: 1.2405 Acc: 0.4757\n",
            "Validation Loss: 1.9426 Acc: 0.4694\n",
            "\n",
            "Epoch 1/24\n",
            "----------\n",
            "Train Loss: 1.1878 Acc: 0.5148\n",
            "Validation Loss: 1.7048 Acc: 0.3609\n",
            "\n",
            "Epoch 2/24\n",
            "----------\n",
            "Train Loss: 1.1419 Acc: 0.5315\n",
            "Validation Loss: 1.9273 Acc: 0.4438\n",
            "\n",
            "Epoch 3/24\n",
            "----------\n",
            "Train Loss: 1.0834 Acc: 0.5511\n",
            "Validation Loss: 1.7378 Acc: 0.3629\n",
            "\n",
            "Epoch 4/24\n",
            "----------\n",
            "Train Loss: 1.0755 Acc: 0.5536\n",
            "Validation Loss: 1.9600 Acc: 0.4576\n",
            "\n",
            "Epoch 5/24\n",
            "----------\n",
            "Train Loss: 1.0368 Acc: 0.5798\n",
            "Validation Loss: 1.8506 Acc: 0.3787\n",
            "\n",
            "Epoch 6/24\n",
            "----------\n",
            "Train Loss: 1.0103 Acc: 0.5912\n",
            "Validation Loss: 2.3143 Acc: 0.3728\n",
            "\n",
            "Epoch 7/24\n",
            "----------\n",
            "Train Loss: 0.9078 Acc: 0.6429\n",
            "Validation Loss: 1.4258 Acc: 0.4458\n",
            "\n",
            "Epoch 8/24\n",
            "----------\n",
            "Train Loss: 0.8918 Acc: 0.6404\n",
            "Validation Loss: 1.5728 Acc: 0.3964\n",
            "\n",
            "Epoch 9/24\n",
            "----------\n",
            "Train Loss: 0.8795 Acc: 0.6432\n",
            "Validation Loss: 1.3984 Acc: 0.4576\n",
            "\n",
            "Epoch 10/24\n",
            "----------\n",
            "Train Loss: 0.8790 Acc: 0.6464\n",
            "Validation Loss: 1.3381 Acc: 0.4990\n",
            "\n",
            "Epoch 11/24\n",
            "----------\n",
            "Train Loss: 0.8723 Acc: 0.6451\n",
            "Validation Loss: 1.5292 Acc: 0.5089\n",
            "\n",
            "Epoch 12/24\n",
            "----------\n",
            "Train Loss: 0.8672 Acc: 0.6467\n",
            "Validation Loss: 1.5372 Acc: 0.4418\n",
            "\n",
            "Epoch 13/24\n",
            "----------\n",
            "Train Loss: 0.8741 Acc: 0.6479\n",
            "Validation Loss: 1.4433 Acc: 0.5247\n",
            "\n",
            "Epoch 14/24\n",
            "----------\n",
            "Train Loss: 0.8661 Acc: 0.6489\n",
            "Validation Loss: 1.4437 Acc: 0.4734\n",
            "\n",
            "Epoch 15/24\n",
            "----------\n",
            "Train Loss: 0.8499 Acc: 0.6599\n",
            "Validation Loss: 1.3566 Acc: 0.5247\n",
            "\n",
            "Epoch 16/24\n",
            "----------\n",
            "Train Loss: 0.8427 Acc: 0.6527\n",
            "Validation Loss: 1.2850 Acc: 0.5286\n",
            "\n",
            "Epoch 17/24\n",
            "----------\n",
            "Train Loss: 0.8455 Acc: 0.6495\n",
            "Validation Loss: 1.4026 Acc: 0.5168\n",
            "\n",
            "Epoch 18/24\n",
            "----------\n",
            "Train Loss: 0.8463 Acc: 0.6618\n",
            "Validation Loss: 1.3673 Acc: 0.5227\n",
            "\n",
            "Epoch 19/24\n",
            "----------\n",
            "Train Loss: 0.8322 Acc: 0.6562\n",
            "Validation Loss: 1.4320 Acc: 0.5089\n",
            "\n",
            "Epoch 20/24\n",
            "----------\n",
            "Train Loss: 0.8432 Acc: 0.6656\n",
            "Validation Loss: 1.3146 Acc: 0.5306\n",
            "\n",
            "Epoch 21/24\n",
            "----------\n",
            "Train Loss: 0.8408 Acc: 0.6577\n",
            "Validation Loss: 1.3225 Acc: 0.5148\n",
            "\n",
            "Epoch 22/24\n",
            "----------\n",
            "Train Loss: 0.8376 Acc: 0.6609\n",
            "Validation Loss: 1.3393 Acc: 0.5286\n",
            "\n",
            "Epoch 23/24\n",
            "----------\n",
            "Train Loss: 0.8409 Acc: 0.6656\n",
            "Validation Loss: 1.3773 Acc: 0.5306\n",
            "\n",
            "Epoch 24/24\n",
            "----------\n",
            "Train Loss: 0.8394 Acc: 0.6574\n",
            "Validation Loss: 1.4392 Acc: 0.4773\n",
            "\n",
            "Training complete in 10m 27s\n",
            "Best val Acc: 0.530572\n"
          ]
        }
      ],
      "source": [
        "model_ft = train_model(model_ft, criterion, optimizer_ft, exp_lr_scheduler,\n",
        "                       num_epochs=25)"
      ]
    },
    {
      "cell_type": "code",
      "execution_count": 25,
      "metadata": {
        "colab": {
          "base_uri": "https://localhost:8080/",
          "height": 581
        },
        "id": "jhZJYpUQX7j_",
        "outputId": "730ebb0b-f92b-4904-93ee-7ce9d11a96e2"
      },
      "outputs": [
        {
          "output_type": "display_data",
          "data": {
            "text/plain": [
              "<Figure size 432x288 with 1 Axes>"
            ],
            "image/png": "[encoded data removed]"
          },
          "metadata": {
            "needs_background": "light"
          }
        },
        {
          "output_type": "display_data",
          "data": {
            "text/plain": [
              "<Figure size 432x288 with 1 Axes>"
            ],
            "image/png": "[encoded data removed]"
          },
          "metadata": {
            "needs_background": "light"
          }
        },
        {
          "output_type": "display_data",
          "data": {
            "text/plain": [
              "<Figure size 432x288 with 1 Axes>"
            ],
            "image/png": "[encoded data removed]"
          },
          "metadata": {
            "needs_background": "light"
          }
        },
        {
          "output_type": "display_data",
          "data": {
            "text/plain": [
              "<Figure size 432x288 with 1 Axes>"
            ],
            "image/png": "[encoded data removed]"
          },
          "metadata": {
            "needs_background": "light"
          }
        },
        {
          "output_type": "display_data",
          "data": {
            "text/plain": [
              "<Figure size 432x288 with 1 Axes>"
            ],
            "image/png": "[encoded data removed]"
          },
          "metadata": {
            "needs_background": "light"
          }
        },
        {
          "output_type": "display_data",
          "data": {
            "text/plain": [
              "<Figure size 432x288 with 1 Axes>"
            ],
            "image/png": "[encoded data removed]"
          },
          "metadata": {
            "needs_background": "light"
          }
        }
      ],
      "source": [
        "visualize_model(model_ft)"
      ]
    },
    {
      "cell_type": "code",
      "execution_count": 26,
      "metadata": {
        "colab": {
          "base_uri": "https://localhost:8080/"
        },
        "id": "mqC6DDmK6aCn",
        "outputId": "71555f21-0ad2-4819-9e43-46778faf2802"
      },
      "outputs": [
        {
          "output_type": "stream",
          "name": "stdout",
          "text": [
            "Epoch 0/9\n",
            "----------\n",
            "Train Loss: 1.2310 Acc: 0.4612\n",
            "Validation Loss: 1.4898 Acc: 0.3866\n",
            "\n",
            "Epoch 1/9\n",
            "----------\n",
            "Train Loss: 1.1615 Acc: 0.4811\n",
            "Validation Loss: 1.8198 Acc: 0.4260\n",
            "\n",
            "Epoch 2/9\n",
            "----------\n",
            "Train Loss: 1.1558 Acc: 0.4890\n",
            "Validation Loss: 1.5954 Acc: 0.3215\n",
            "\n",
            "Epoch 3/9\n",
            "----------\n",
            "Train Loss: 1.1296 Acc: 0.5013\n",
            "Validation Loss: 1.6113 Acc: 0.3116\n",
            "\n",
            "Epoch 4/9\n",
            "----------\n",
            "Train Loss: 1.1203 Acc: 0.5126\n",
            "Validation Loss: 1.3792 Acc: 0.3097\n",
            "\n",
            "Epoch 5/9\n",
            "----------\n",
            "Train Loss: 1.0980 Acc: 0.5268\n",
            "Validation Loss: 1.3243 Acc: 0.4714\n",
            "\n",
            "Epoch 6/9\n",
            "----------\n",
            "Train Loss: 1.0832 Acc: 0.5457\n",
            "Validation Loss: 1.3445 Acc: 0.4596\n",
            "\n",
            "Epoch 7/9\n",
            "----------\n",
            "Train Loss: 1.0293 Acc: 0.5782\n",
            "Validation Loss: 1.3972 Acc: 0.4734\n",
            "\n",
            "Epoch 8/9\n",
            "----------\n",
            "Train Loss: 1.0185 Acc: 0.5823\n",
            "Validation Loss: 1.5597 Acc: 0.3787\n",
            "\n",
            "Epoch 9/9\n",
            "----------\n",
            "Train Loss: 1.0034 Acc: 0.6038\n",
            "Validation Loss: 1.4372 Acc: 0.4063\n",
            "\n",
            "Training complete in 4m 27s\n",
            "Best val Acc: 0.473373\n"
          ]
        }
      ],
      "source": [
        "params = [p for p in model_ft.parameters() if p.requires_grad]\n",
        "optimizer_ft = torch.optim.Adam(params, lr=0.001, weight_decay=0.0005)\n",
        "\n",
        "# Decay LR by a factor of 0.1 every 7 epochs\n",
        "exp_lr_scheduler = torch.optim.lr_scheduler.StepLR(optimizer_ft, step_size=7, gamma=0.1)\n",
        "model_ft = train_model(model_ft, criterion, optimizer_ft, exp_lr_scheduler,\n",
        "                       num_epochs=10)"
      ]
    },
    {
      "cell_type": "code",
      "execution_count": 29,
      "metadata": {
        "colab": {
          "base_uri": "https://localhost:8080/",
          "height": 581
        },
        "id": "UmLXDgck78ak",
        "outputId": "6141676b-ce16-49d4-8ddb-4aea62e7c57e"
      },
      "outputs": [
        {
          "output_type": "display_data",
          "data": {
            "text/plain": [
              "<Figure size 432x288 with 1 Axes>"
            ],
            "image/png": "[encoded data removed]"
          },
          "metadata": {
            "needs_background": "light"
          }
        },
        {
          "output_type": "display_data",
          "data": {
            "text/plain": [
              "<Figure size 432x288 with 1 Axes>"
            ],
            "image/png": "[encoded data removed]"
          },
          "metadata": {
            "needs_background": "light"
          }
        },
        {
          "output_type": "display_data",
          "data": {
            "text/plain": [
              "<Figure size 432x288 with 1 Axes>"
            ],
            "image/png": "[encoded data removed]"
          },
          "metadata": {
            "needs_background": "light"
          }
        },
        {
          "output_type": "display_data",
          "data": {
            "text/plain": [
              "<Figure size 432x288 with 1 Axes>"
            ],
            "image/png": "[encoded data removed]"
          },
          "metadata": {
            "needs_background": "light"
          }
        },
        {
          "output_type": "display_data",
          "data": {
            "text/plain": [
              "<Figure size 432x288 with 1 Axes>"
            ],
            "image/png": "[encoded data removed]"
          },
          "metadata": {
            "needs_background": "light"
          }
        },
        {
          "output_type": "display_data",
          "data": {
            "text/plain": [
              "<Figure size 432x288 with 1 Axes>"
            ],
            "image/png": "[encoded data removed]"
          },
          "metadata": {
            "needs_background": "light"
          }
        }
      ],
      "source": [
        "visualize_model(model_ft)"
      ]
    },
    {
      "cell_type": "markdown",
      "metadata": {
        "id": "mDWtaLmaCq1c"
      },
      "source": [
        "#AlexNet"
      ]
    },
    {
      "cell_type": "code",
      "execution_count": 30,
      "metadata": {
        "colab": {
          "base_uri": "https://localhost:8080/",
          "height": 66,
          "referenced_widgets": [
            "1c0eaa0c02cd40f995ed69475ef4621f",
            "7cd07006a88d4b9da24d766c81c1c18e",
            "9db10f5a0b454506af7349483b507da5",
            "de240af51e7045a9be3e2d443355c277",
            "f4269245b7cf4829a896b0b1a9c1417c",
            "949d78a5ec2c48c8895791dfc65f52fa",
            "fc389f6078034113b752409251c87f6e",
            "16a6f60d483349aa9fa4f34c99228cf6",
            "7eee76b13c4a43fa95c2083462a63c68",
            "5faae209223e4b5f839b06be9b0bdbdf",
            "5a248f13a7034b34adb37ee9eb494c5e"
          ]
        },
        "id": "4zj5myBhmt-l",
        "outputId": "88a543ac-038d-4dc2-860b-66cb5e49ac4a"
      },
      "outputs": [
        {
          "output_type": "stream",
          "name": "stderr",
          "text": [
            "Downloading: \"https://download.pytorch.org/models/alexnet-owt-7be5be79.pth\" to /root/.cache/torch/hub/checkpoints/alexnet-owt-7be5be79.pth\n"
          ]
        },
        {
          "output_type": "display_data",
          "data": {
            "text/plain": [
              "  0%|          | 0.00/233M [00:00<?, ?B/s]"
            ],
            "application/vnd.jupyter.widget-view+json": {
              "version_major": 2,
              "version_minor": 0,
              "model_id": "1c0eaa0c02cd40f995ed69475ef4621f"
            }
          },
          "metadata": {}
        }
      ],
      "source": [
        "model_an = models.alexnet(pretrained=True)\n",
        "model_an.classifier[6] = nn.Linear(4096,4)\n",
        "\n",
        "model_an = model_an.to(device)\n",
        "\n",
        "criterion = nn.CrossEntropyLoss()\n",
        "\n",
        "# Observe that all parameters are being optimized\n",
        "optimizer_ft = torch.optim.SGD(model_an.parameters(), lr=0.001, momentum=0.9)\n",
        "\n",
        "# Decay LR by a factor of 0.1 every 7 epochs\n",
        "exp_lr_scheduler = torch.optim.lr_scheduler.StepLR(optimizer_ft, step_size=7, gamma=0.1)"
      ]
    },
    {
      "cell_type": "code",
      "execution_count": 31,
      "metadata": {
        "colab": {
          "base_uri": "https://localhost:8080/"
        },
        "id": "PhDqSdw1rev3",
        "outputId": "131318a3-1d8b-4928-ff0f-53faca550c06"
      },
      "outputs": [
        {
          "output_type": "stream",
          "name": "stdout",
          "text": [
            "Epoch 0/9\n",
            "----------\n",
            "Train Loss: 1.0768 Acc: 0.5467\n",
            "Validation Loss: 1.2147 Acc: 0.4635\n",
            "\n",
            "Epoch 1/9\n",
            "----------\n",
            "Train Loss: 0.8639 Acc: 0.6432\n",
            "Validation Loss: 1.0670 Acc: 0.6095\n",
            "\n",
            "Epoch 2/9\n",
            "----------\n",
            "Train Loss: 0.7681 Acc: 0.6757\n",
            "Validation Loss: 1.1046 Acc: 0.5562\n",
            "\n",
            "Epoch 3/9\n",
            "----------\n",
            "Train Loss: 0.7243 Acc: 0.7076\n",
            "Validation Loss: 0.7785 Acc: 0.6765\n",
            "\n",
            "Epoch 4/9\n",
            "----------\n",
            "Train Loss: 0.6562 Acc: 0.7221\n",
            "Validation Loss: 0.8048 Acc: 0.6746\n",
            "\n",
            "Epoch 5/9\n",
            "----------\n",
            "Train Loss: 0.6468 Acc: 0.7388\n",
            "Validation Loss: 0.7880 Acc: 0.6765\n",
            "\n",
            "Epoch 6/9\n",
            "----------\n",
            "Train Loss: 0.6098 Acc: 0.7489\n",
            "Validation Loss: 0.7493 Acc: 0.6903\n",
            "\n",
            "Epoch 7/9\n",
            "----------\n",
            "Train Loss: 0.5342 Acc: 0.7823\n",
            "Validation Loss: 0.8261 Acc: 0.6943\n",
            "\n",
            "Epoch 8/9\n",
            "----------\n",
            "Train Loss: 0.4907 Acc: 0.7959\n",
            "Validation Loss: 0.7820 Acc: 0.6963\n",
            "\n",
            "Epoch 9/9\n",
            "----------\n",
            "Train Loss: 0.5015 Acc: 0.7924\n",
            "Validation Loss: 0.7787 Acc: 0.6765\n",
            "\n",
            "Training complete in 3m 45s\n",
            "Best val Acc: 0.696252\n"
          ]
        }
      ],
      "source": [
        "import copy\n",
        "model_ft = train_model(model_an, criterion, optimizer_ft, exp_lr_scheduler,\n",
        "                       num_epochs=10)"
      ]
    },
    {
      "cell_type": "code",
      "execution_count": 32,
      "metadata": {
        "colab": {
          "base_uri": "https://localhost:8080/",
          "height": 581
        },
        "id": "XgZ82VZRv-C8",
        "outputId": "fa366ad0-27f1-4207-ef00-41198afb4dd9"
      },
      "outputs": [
        {
          "output_type": "display_data",
          "data": {
            "text/plain": [
              "<Figure size 432x288 with 1 Axes>"
            ],
            "image/png": "[encoded data removed]"
          },
          "metadata": {
            "needs_background": "light"
          }
        },
        {
          "output_type": "display_data",
          "data": {
            "text/plain": [
              "<Figure size 432x288 with 1 Axes>"
            ],
            "image/png": "[encoded data removed]"
          },
          "metadata": {
            "needs_background": "light"
          }
        },
        {
          "output_type": "display_data",
          "data": {
            "text/plain": [
              "<Figure size 432x288 with 1 Axes>"
            ],
            "image/png": "[encoded data removed]"
          },
          "metadata": {
            "needs_background": "light"
          }
        },
        {
          "output_type": "display_data",
          "data": {
            "text/plain": [
              "<Figure size 432x288 with 1 Axes>"
            ],
            "image/png": "[encoded data removed]"
          },
          "metadata": {
            "needs_background": "light"
          }
        },
        {
          "output_type": "display_data",
          "data": {
            "text/plain": [
              "<Figure size 432x288 with 1 Axes>"
            ],
            "image/png": "[encoded data removed]"
          },
          "metadata": {
            "needs_background": "light"
          }
        },
        {
          "output_type": "display_data",
          "data": {
            "text/plain": [
              "<Figure size 432x288 with 1 Axes>"
            ],
            "image/png": "[encoded data removed]"
          },
          "metadata": {
            "needs_background": "light"
          }
        }
      ],
      "source": [
        "visualize_model(model_an)"
      ]
    },
    {
      "cell_type": "markdown",
      "metadata": {
        "id": "bZmt8WZnwJh3"
      },
      "source": [
        "# VGG"
      ]
    },
    {
      "cell_type": "code",
      "execution_count": 33,
      "metadata": {
        "colab": {
          "base_uri": "https://localhost:8080/",
          "height": 66,
          "referenced_widgets": [
            "af7e25b82e994410ae39ad5ac5de22f3",
            "2dc2a427be394b85ad47d5a1ba1fd1e8",
            "35f7935345614f48b8c1e81ea888e266",
            "ee970e663e44409ca3c7d83ae989cf38",
            "1899c6ce1b21419ab1dbfafbd47e3440",
            "976e466f2663467192fce436ba311d22",
            "b7c78224457c43eca5fc140f87feb224",
            "75de7e2d8e2141049bc80f6b85cb4802",
            "11e1a35acb14498daac5fb88105d60ae",
            "b9f98942d38d4acb9e0ab01efc3f41fc",
            "bb91c6bb96e2451084baaaae1d928dc0"
          ]
        },
        "id": "Y9OoaNZ9tuV_",
        "outputId": "9320a956-4763-4fc5-c47f-ffbdb82df5e1"
      },
      "outputs": [
        {
          "output_type": "stream",
          "name": "stderr",
          "text": [
            "Downloading: \"https://download.pytorch.org/models/vgg11-8a719046.pth\" to /root/.cache/torch/hub/checkpoints/vgg11-8a719046.pth\n"
          ]
        },
        {
          "output_type": "display_data",
          "data": {
            "text/plain": [
              "  0%|          | 0.00/507M [00:00<?, ?B/s]"
            ],
            "application/vnd.jupyter.widget-view+json": {
              "version_major": 2,
              "version_minor": 0,
              "model_id": "af7e25b82e994410ae39ad5ac5de22f3"
            }
          },
          "metadata": {}
        }
      ],
      "source": [
        "model_vgg = models.vgg11(pretrained=True)\n",
        "model_vgg.classifier[6] = nn.Linear(4096,4)\n",
        "\n",
        "model_vgg = model_vgg.to(device)\n",
        "\n",
        "criterion = nn.CrossEntropyLoss()\n",
        "\n",
        "# Observe that all parameters are being optimized\n",
        "optimizer_ft = torch.optim.SGD(model_vgg.parameters(), lr=0.001, momentum=0.9)\n",
        "\n",
        "# Decay LR by a factor of 0.1 every 7 epochs\n",
        "exp_lr_scheduler = torch.optim.lr_scheduler.StepLR(optimizer_ft, step_size=7, gamma=0.1)"
      ]
    },
    {
      "cell_type": "code",
      "execution_count": 34,
      "metadata": {
        "colab": {
          "base_uri": "https://localhost:8080/"
        },
        "id": "WALFCiPQwDNS",
        "outputId": "f97df52f-3a04-49cc-bdf7-1cb330b328a2"
      },
      "outputs": [
        {
          "output_type": "stream",
          "name": "stdout",
          "text": [
            "Epoch 0/9\n",
            "----------\n",
            "Train Loss: 0.8947 Acc: 0.6155\n",
            "Validation Loss: 1.3241 Acc: 0.5680\n",
            "\n",
            "Epoch 1/9\n",
            "----------\n",
            "Train Loss: 0.7123 Acc: 0.6968\n",
            "Validation Loss: 0.9147 Acc: 0.6903\n",
            "\n",
            "Epoch 2/9\n",
            "----------\n",
            "Train Loss: 0.6349 Acc: 0.7382\n",
            "Validation Loss: 1.1088 Acc: 0.6746\n",
            "\n",
            "Epoch 3/9\n",
            "----------\n",
            "Train Loss: 0.5791 Acc: 0.7555\n",
            "Validation Loss: 0.9113 Acc: 0.6469\n",
            "\n",
            "Epoch 4/9\n",
            "----------\n",
            "Train Loss: 0.5431 Acc: 0.7842\n",
            "Validation Loss: 0.9608 Acc: 0.5957\n",
            "\n",
            "Epoch 5/9\n",
            "----------\n",
            "Train Loss: 0.5318 Acc: 0.7861\n",
            "Validation Loss: 0.7868 Acc: 0.6903\n",
            "\n",
            "Epoch 6/9\n",
            "----------\n",
            "Train Loss: 0.5085 Acc: 0.8006\n",
            "Validation Loss: 0.9524 Acc: 0.7061\n",
            "\n",
            "Epoch 7/9\n",
            "----------\n",
            "Train Loss: 0.4159 Acc: 0.8394\n",
            "Validation Loss: 0.8191 Acc: 0.7041\n",
            "\n",
            "Epoch 8/9\n",
            "----------\n",
            "Train Loss: 0.3977 Acc: 0.8334\n",
            "Validation Loss: 0.7432 Acc: 0.7179\n",
            "\n",
            "Epoch 9/9\n",
            "----------\n",
            "Train Loss: 0.3869 Acc: 0.8470\n",
            "Validation Loss: 0.8571 Acc: 0.7179\n",
            "\n",
            "Training complete in 9m 58s\n",
            "Best val Acc: 0.717949\n"
          ]
        }
      ],
      "source": [
        "model_vgg = train_model(model_vgg, criterion, optimizer_ft, exp_lr_scheduler,\n",
        "                       num_epochs=10)"
      ]
    },
    {
      "cell_type": "code",
      "execution_count": 35,
      "metadata": {
        "id": "CgXfehFewDVR",
        "colab": {
          "base_uri": "https://localhost:8080/",
          "height": 581
        },
        "outputId": "0f4987a9-3ad1-45da-9502-3682b767f6b4"
      },
      "outputs": [
        {
          "output_type": "display_data",
          "data": {
            "text/plain": [
              "<Figure size 432x288 with 1 Axes>"
            ],
            "image/png": "[encoded data removed]"
          },
          "metadata": {
            "needs_background": "light"
          }
        },
        {
          "output_type": "display_data",
          "data": {
            "text/plain": [
              "<Figure size 432x288 with 1 Axes>"
            ],
            "image/png": "[encoded data removed]"
          },
          "metadata": {
            "needs_background": "light"
          }
        },
        {
          "output_type": "display_data",
          "data": {
            "text/plain": [
              "<Figure size 432x288 with 1 Axes>"
            ],
            "image/png": "[encoded data removed]"
          },
          "metadata": {
            "needs_background": "light"
          }
        },
        {
          "output_type": "display_data",
          "data": {
            "text/plain": [
              "<Figure size 432x288 with 1 Axes>"
            ],
            "image/png": "[encoded data removed]"
          },
          "metadata": {
            "needs_background": "light"
          }
        },
        {
          "output_type": "display_data",
          "data": {
            "text/plain": [
              "<Figure size 432x288 with 1 Axes>"
            ],
            "image/png": "[encoded data removed]"
          },
          "metadata": {
            "needs_background": "light"
          }
        },
        {
          "output_type": "display_data",
          "data": {
            "text/plain": [
              "<Figure size 432x288 with 1 Axes>"
            ],
            "image/png": "[encoded data removed]"
          },
          "metadata": {
            "needs_background": "light"
          }
        }
      ],
      "source": [
        "visualize_model(model_vgg)"
      ]
    },
    {
      "cell_type": "markdown",
      "metadata": {
        "id": "wbsWaC26wMc7"
      },
      "source": [
        "# DenseNet"
      ]
    },
    {
      "cell_type": "code",
      "execution_count": 36,
      "metadata": {
        "colab": {
          "base_uri": "https://localhost:8080/",
          "height": 66,
          "referenced_widgets": [
            "777732199b304bf2a1d5b8426044b8ef",
            "e8a83c43608643ff87abae16366fc88d",
            "15ac8aff52774983b3ebff4211b5a851",
            "5c0c6b2cc4fd45c291b89881748b11e0",
            "0f8876f5c23947db9e0318febaa3c2d1",
            "9a0ad444570c456f8b54a938ec78b94e",
            "aa6f3b8311f94097b0313cc381de513f",
            "029711d124824d049c6325b75aba6ffb",
            "d99ec6364b87456da2f0663cadd66c8d",
            "60dcd27c06074785861bdff069f087a5",
            "c4295510543a4b51a76d38c22b43a2e4"
          ]
        },
        "id": "OtekgIv9wcc4",
        "outputId": "6f4fe5d9-3845-4efd-d438-8387776cacbc"
      },
      "outputs": [
        {
          "output_type": "stream",
          "name": "stderr",
          "text": [
            "Downloading: \"https://download.pytorch.org/models/densenet121-a639ec97.pth\" to /root/.cache/torch/hub/checkpoints/densenet121-a639ec97.pth\n"
          ]
        },
        {
          "output_type": "display_data",
          "data": {
            "text/plain": [
              "  0%|          | 0.00/30.8M [00:00<?, ?B/s]"
            ],
            "application/vnd.jupyter.widget-view+json": {
              "version_major": 2,
              "version_minor": 0,
              "model_id": "777732199b304bf2a1d5b8426044b8ef"
            }
          },
          "metadata": {}
        }
      ],
      "source": [
        "model_dn = models.densenet121(pretrained=True)\n",
        "model_dn.classifier = nn.Linear(1024,4)\n",
        "\n",
        "model_dn = model_dn.to(device)\n",
        "\n",
        "criterion = nn.CrossEntropyLoss()\n",
        "\n",
        "# Observe that all parameters are being optimized\n",
        "optimizer_ft = torch.optim.SGD(model_dn.parameters(), lr=0.001, momentum=0.9)\n",
        "\n",
        "# Decay LR by a factor of 0.1 every 7 epochs\n",
        "exp_lr_scheduler = torch.optim.lr_scheduler.StepLR(optimizer_ft, step_size=7, gamma=0.1)"
      ]
    },
    {
      "cell_type": "code",
      "execution_count": 37,
      "metadata": {
        "colab": {
          "base_uri": "https://localhost:8080/"
        },
        "id": "Te_0tbv4w3fJ",
        "outputId": "ad3e9fce-a859-4965-a8f7-486bf0ecb80b"
      },
      "outputs": [
        {
          "output_type": "stream",
          "name": "stdout",
          "text": [
            "Epoch 0/9\n",
            "----------\n",
            "Train Loss: 1.0635 Acc: 0.5874\n",
            "Validation Loss: 1.5040 Acc: 0.4793\n",
            "\n",
            "Epoch 1/9\n",
            "----------\n",
            "Train Loss: 0.8761 Acc: 0.6615\n",
            "Validation Loss: 1.4826 Acc: 0.6114\n",
            "\n",
            "Epoch 2/9\n",
            "----------\n",
            "Train Loss: 0.8418 Acc: 0.6814\n",
            "Validation Loss: 0.9709 Acc: 0.6647\n",
            "\n",
            "Epoch 3/9\n",
            "----------\n",
            "Train Loss: 0.7766 Acc: 0.6987\n",
            "Validation Loss: 1.5970 Acc: 0.5207\n",
            "\n",
            "Epoch 4/9\n",
            "----------\n",
            "Train Loss: 0.7469 Acc: 0.7126\n",
            "Validation Loss: 0.9235 Acc: 0.6824\n",
            "\n",
            "Epoch 5/9\n",
            "----------\n",
            "Train Loss: 0.6495 Acc: 0.7413\n",
            "Validation Loss: 1.4224 Acc: 0.6410\n",
            "\n",
            "Epoch 6/9\n",
            "----------\n",
            "Train Loss: 0.6501 Acc: 0.7423\n",
            "Validation Loss: 1.3796 Acc: 0.6331\n",
            "\n",
            "Epoch 7/9\n",
            "----------\n",
            "Train Loss: 0.5112 Acc: 0.8000\n",
            "Validation Loss: 0.8562 Acc: 0.6706\n",
            "\n",
            "Epoch 8/9\n",
            "----------\n",
            "Train Loss: 0.4731 Acc: 0.8095\n",
            "Validation Loss: 0.9107 Acc: 0.6529\n",
            "\n",
            "Epoch 9/9\n",
            "----------\n",
            "Train Loss: 0.4687 Acc: 0.8155\n",
            "Validation Loss: 0.7041 Acc: 0.7219\n",
            "\n",
            "Training complete in 14m 23s\n",
            "Best val Acc: 0.721893\n"
          ]
        }
      ],
      "source": [
        "model_dn = train_model(model_dn, criterion, optimizer_ft, exp_lr_scheduler,\n",
        "                       num_epochs=10)"
      ]
    },
    {
      "cell_type": "code",
      "execution_count": 38,
      "metadata": {
        "colab": {
          "base_uri": "https://localhost:8080/",
          "height": 581
        },
        "id": "WPqBKfqkw3w6",
        "outputId": "6d118b17-af59-4ad6-abb4-2b040f07f7d3"
      },
      "outputs": [
        {
          "output_type": "display_data",
          "data": {
            "text/plain": [
              "<Figure size 432x288 with 1 Axes>"
            ],
            "image/png": "[encoded data removed]"
          },
          "metadata": {
            "needs_background": "light"
          }
        },
        {
          "output_type": "display_data",
          "data": {
            "text/plain": [
              "<Figure size 432x288 with 1 Axes>"
            ],
            "image/png": "[encoded data removed]"
          },
          "metadata": {
            "needs_background": "light"
          }
        },
        {
          "output_type": "display_data",
          "data": {
            "text/plain": [
              "<Figure size 432x288 with 1 Axes>"
            ],
            "image/png": "[encoded data removed]"
          },
          "metadata": {
            "needs_background": "light"
          }
        },
        {
          "output_type": "display_data",
          "data": {
            "text/plain": [
              "<Figure size 432x288 with 1 Axes>"
            ],
            "image/png": "[encoded data removed]"
          },
          "metadata": {
            "needs_background": "light"
          }
        },
        {
          "output_type": "display_data",
          "data": {
            "text/plain": [
              "<Figure size 432x288 with 1 Axes>"
            ],
            "image/png": "[encoded data removed]"
          },
          "metadata": {
            "needs_background": "light"
          }
        },
        {
          "output_type": "display_data",
          "data": {
            "text/plain": [
              "<Figure size 432x288 with 1 Axes>"
            ],
            "image/png": "[encoded data removed]"
          },
          "metadata": {
            "needs_background": "light"
          }
        }
      ],
      "source": [
        "visualize_model(model_dn)"
      ]
    },
    {
      "cell_type": "code",
      "execution_count": 39,
      "metadata": {
        "id": "08R-8DI-yxoI"
      },
      "outputs": [],
      "source": [
        "PATH = '/content/drive/MyDrive/course_work/Models/dn_model.pth'\n",
        "torch.save(model_dn.state_dict(),PATH)"
      ]
    },
    {
      "cell_type": "markdown",
      "metadata": {
        "id": "RpfQ8EHdizRZ"
      },
      "source": [
        "# efficientnet_b6"
      ]
    },
    {
      "cell_type": "code",
      "execution_count": 40,
      "metadata": {
        "colab": {
          "base_uri": "https://localhost:8080/",
          "height": 86,
          "referenced_widgets": [
            "72f3126fd8664c7abc70e6d6e0ef4099",
            "47669c13e0934c80ab2f37a4ded3502b",
            "f0cee8233b16462c92c521d74e6a60ee",
            "5c12935f93b74e4e934f12620002502e",
            "8e1308700c4e4e469d1d5e2d4d24e122",
            "b35fdfd1f6de44c281078e4530345126",
            "38cb4130897d41d1a9a982c60a3f5ecf",
            "2966df11d946423ca58bf060942bfce7",
            "b89b2397d7e9408eb80aef49d9e3781a",
            "f24ffc97196345c697acb431a728fc70",
            "d41a9461adee4b42bea2cca7dbfb09a2"
          ]
        },
        "id": "p6VYwsZtxMP5",
        "outputId": "2b4f9601-95c1-4353-c3d5-8eb421c58375"
      },
      "outputs": [
        {
          "output_type": "stream",
          "name": "stderr",
          "text": [
            "Downloading: \"https://download.pytorch.org/models/efficientnet_b6_lukemelas-c76e70fd.pth\" to /root/.cache/torch/hub/checkpoints/efficientnet_b6_lukemelas-c76e70fd.pth\n"
          ]
        },
        {
          "output_type": "display_data",
          "data": {
            "text/plain": [
              "  0%|          | 0.00/165M [00:00<?, ?B/s]"
            ],
            "application/vnd.jupyter.widget-view+json": {
              "version_major": 2,
              "version_minor": 0,
              "model_id": "72f3126fd8664c7abc70e6d6e0ef4099"
            }
          },
          "metadata": {}
        }
      ],
      "source": [
        "model_e = models.efficientnet_b6(pretrained = True)"
      ]
    },
    {
      "cell_type": "code",
      "execution_count": 41,
      "metadata": {
        "id": "7n28VHESmM2t"
      },
      "outputs": [],
      "source": [
        "model_e.classifier[1] = nn.Linear(2304,4)\n",
        "\n",
        "model_e = model_e.to(device)\n",
        "\n",
        "criterion = nn.CrossEntropyLoss()\n",
        "\n",
        "# Observe that all parameters are being optimized\n",
        "optimizer_ft = torch.optim.SGD(model_e.parameters(), lr=0.001, momentum=0.9)\n",
        "\n",
        "# Decay LR by a factor of 0.1 every 7 epochs\n",
        "exp_lr_scheduler = torch.optim.lr_scheduler.StepLR(optimizer_ft, step_size=7, gamma=0.1)"
      ]
    },
    {
      "cell_type": "code",
      "execution_count": 42,
      "metadata": {
        "colab": {
          "base_uri": "https://localhost:8080/"
        },
        "id": "8n-kixKJlSZl",
        "outputId": "a0f00090-ad6a-4725-9680-8df28752ec29"
      },
      "outputs": [
        {
          "output_type": "stream",
          "name": "stdout",
          "text": [
            "Epoch 0/9\n",
            "----------\n",
            "Train Loss: 0.9829 Acc: 0.5883\n",
            "Validation Loss: 0.9755 Acc: 0.5602\n",
            "\n",
            "Epoch 1/9\n",
            "----------\n",
            "Train Loss: 0.7963 Acc: 0.6691\n",
            "Validation Loss: 0.8791 Acc: 0.6075\n",
            "\n",
            "Epoch 2/9\n",
            "----------\n",
            "Train Loss: 0.7380 Acc: 0.7044\n",
            "Validation Loss: 0.8320 Acc: 0.6134\n",
            "\n",
            "Epoch 3/9\n",
            "----------\n",
            "Train Loss: 0.7027 Acc: 0.7170\n",
            "Validation Loss: 0.9010 Acc: 0.6292\n",
            "\n",
            "Epoch 4/9\n",
            "----------\n",
            "Train Loss: 0.6495 Acc: 0.7366\n",
            "Validation Loss: 0.9022 Acc: 0.6272\n",
            "\n",
            "Epoch 5/9\n",
            "----------\n",
            "Train Loss: 0.6316 Acc: 0.7502\n",
            "Validation Loss: 0.7515 Acc: 0.6568\n",
            "\n",
            "Epoch 6/9\n",
            "----------\n",
            "Train Loss: 0.6136 Acc: 0.7511\n",
            "Validation Loss: 0.8325 Acc: 0.6844\n",
            "\n",
            "Epoch 7/9\n",
            "----------\n",
            "Train Loss: 0.5821 Acc: 0.7729\n",
            "Validation Loss: 0.7446 Acc: 0.6903\n",
            "\n",
            "Epoch 8/9\n",
            "----------\n",
            "Train Loss: 0.5592 Acc: 0.7823\n",
            "Validation Loss: 0.7097 Acc: 0.7022\n",
            "\n",
            "Epoch 9/9\n",
            "----------\n",
            "Train Loss: 0.5462 Acc: 0.7836\n",
            "Validation Loss: 0.7180 Acc: 0.6943\n",
            "\n",
            "Training complete in 23m 11s\n",
            "Best val Acc: 0.702170\n"
          ]
        }
      ],
      "source": [
        "model_e = train_model(model_e, criterion, optimizer_ft, exp_lr_scheduler,\n",
        "                       num_epochs=10)"
      ]
    },
    {
      "cell_type": "code",
      "execution_count": 43,
      "metadata": {
        "id": "kr7aw6jgmaCj",
        "colab": {
          "base_uri": "https://localhost:8080/",
          "height": 581
        },
        "outputId": "30210fe0-a417-4893-d222-d91af14e1c19"
      },
      "outputs": [
        {
          "output_type": "display_data",
          "data": {
            "text/plain": [
              "<Figure size 432x288 with 1 Axes>"
            ],
            "image/png": "[encoded data removed]"
          },
          "metadata": {
            "needs_background": "light"
          }
        },
        {
          "output_type": "display_data",
          "data": {
            "text/plain": [
              "<Figure size 432x288 with 1 Axes>"
            ],
            "image/png": "[encoded data removed]"
          },
          "metadata": {
            "needs_background": "light"
          }
        },
        {
          "output_type": "display_data",
          "data": {
            "text/plain": [
              "<Figure size 432x288 with 1 Axes>"
            ],
            "image/png": "[encoded data removed]"
          },
          "metadata": {
            "needs_background": "light"
          }
        },
        {
          "output_type": "display_data",
          "data": {
            "text/plain": [
              "<Figure size 432x288 with 1 Axes>"
            ],
            "image/png": "[encoded data removed]"
          },
          "metadata": {
            "needs_background": "light"
          }
        },
        {
          "output_type": "display_data",
          "data": {
            "text/plain": [
              "<Figure size 432x288 with 1 Axes>"
            ],
            "image/png": "[encoded data removed]"
          },
          "metadata": {
            "needs_background": "light"
          }
        },
        {
          "output_type": "display_data",
          "data": {
            "text/plain": [
              "<Figure size 432x288 with 1 Axes>"
            ],
            "image/png": "[encoded data removed]"
          },
          "metadata": {
            "needs_background": "light"
          }
        }
      ],
      "source": [
        "visualize_model(model_e)"
      ]
    },
    {
      "cell_type": "code",
      "execution_count": 87,
      "metadata": {
        "id": "a5i5Yuos5Uae",
        "outputId": "6ad1d2b4-9e32-4940-c706-71da76d94725",
        "colab": {
          "base_uri": "https://localhost:8080/"
        }
      },
      "outputs": [
        {
          "output_type": "execute_result",
          "data": {
            "text/plain": [
              "0"
            ]
          },
          "metadata": {},
          "execution_count": 87
        }
      ],
      "source": [
        "os.system('ffmpeg   -i \"%05d.png\" vid1.avi')"
      ]
    },
    {
      "cell_type": "code",
      "source": [
        "os.chdir('/content/drive/MyDrive/course_work/frames/Validation/1_8')"
      ],
      "metadata": {
        "id": "Gbzk0M9X7S-q"
      },
      "execution_count": 77,
      "outputs": []
    },
    {
      "cell_type": "code",
      "source": [
        ""
      ],
      "metadata": {
        "id": "68091ToE7Yke"
      },
      "execution_count": null,
      "outputs": []
    }
  ],
  "metadata": {
    "accelerator": "GPU",
    "colab": {
      "collapsed_sections": [
        "ibCjyiqAoQsT",
        "baX6CqaLn7js",
        "EZhLyUPioHDK",
        "DvcJR9jECm5p",
        "mDWtaLmaCq1c",
        "bZmt8WZnwJh3",
        "wbsWaC26wMc7"
      ],
      "name": "course project.ipynb",
      "provenance": [],
      "include_colab_link": true
    },
    "kernelspec": {
      "display_name": "Python 3",
      "name": "python3"
    },
    "language_info": {
      "name": "python"
    },
    "widgets": {
      "application/vnd.jupyter.widget-state+json": {
        "5023a9052e62423c8daeaff4780dcb81": {
          "model_module": "@jupyter-widgets/controls",
          "model_name": "HBoxModel",
          "model_module_version": "1.5.0",
          "state": {
            "_dom_classes": [],
            "_model_module": "@jupyter-widgets/controls",
            "_model_module_version": "1.5.0",
            "_model_name": "HBoxModel",
            "_view_count": null,
            "_view_module": "@jupyter-widgets/controls",
            "_view_module_version": "1.5.0",
            "_view_name": "HBoxView",
            "box_style": "",
            "children": [
              "IPY_MODEL_7f7423222dde4f0495eefbf9a1ea1868",
              "IPY_MODEL_bad9cb8433b34f4d9fa42874fc352614",
              "IPY_MODEL_66b7c3e73b15464688eaf5794bc15c27"
            ],
            "layout": "IPY_MODEL_3e58b1974fd544629591d4bc76802cbb"
          }
        },
        "7f7423222dde4f0495eefbf9a1ea1868": {
          "model_module": "@jupyter-widgets/controls",
          "model_name": "HTMLModel",
          "model_module_version": "1.5.0",
          "state": {
            "_dom_classes": [],
            "_model_module": "@jupyter-widgets/controls",
            "_model_module_version": "1.5.0",
            "_model_name": "HTMLModel",
            "_view_count": null,
            "_view_module": "@jupyter-widgets/controls",
            "_view_module_version": "1.5.0",
            "_view_name": "HTMLView",
            "description": "",
            "description_tooltip": null,
            "layout": "IPY_MODEL_a491c7640c9e446c9618c16eb64429c3",
            "placeholder": "​",
            "style": "IPY_MODEL_5f32a5f9ba1940a88d3babf95848dbcd",
            "value": "100%"
          }
        },
        "bad9cb8433b34f4d9fa42874fc352614": {
          "model_module": "@jupyter-widgets/controls",
          "model_name": "FloatProgressModel",
          "model_module_version": "1.5.0",
          "state": {
            "_dom_classes": [],
            "_model_module": "@jupyter-widgets/controls",
            "_model_module_version": "1.5.0",
            "_model_name": "FloatProgressModel",
            "_view_count": null,
            "_view_module": "@jupyter-widgets/controls",
            "_view_module_version": "1.5.0",
            "_view_name": "ProgressView",
            "bar_style": "success",
            "description": "",
            "description_tooltip": null,
            "layout": "IPY_MODEL_9163ba57693e4803b19efa3c8c9dffca",
            "max": 13,
            "min": 0,
            "orientation": "horizontal",
            "style": "IPY_MODEL_7098b55a122b43a088414dd06ec28002",
            "value": 13
          }
        },
        "66b7c3e73b15464688eaf5794bc15c27": {
          "model_module": "@jupyter-widgets/controls",
          "model_name": "HTMLModel",
          "model_module_version": "1.5.0",
          "state": {
            "_dom_classes": [],
            "_model_module": "@jupyter-widgets/controls",
            "_model_module_version": "1.5.0",
            "_model_name": "HTMLModel",
            "_view_count": null,
            "_view_module": "@jupyter-widgets/controls",
            "_view_module_version": "1.5.0",
            "_view_name": "HTMLView",
            "description": "",
            "description_tooltip": null,
            "layout": "IPY_MODEL_1c74dc32c39c4238bf46eba72df952f8",
            "placeholder": "​",
            "style": "IPY_MODEL_57c8ae70b6114d66a8f208751908dddd",
            "value": " 13/13 [06:32&lt;00:00, 39.10s/it]"
          }
        },
        "3e58b1974fd544629591d4bc76802cbb": {
          "model_module": "@jupyter-widgets/base",
          "model_name": "LayoutModel",
          "model_module_version": "1.2.0",
          "state": {
            "_model_module": "@jupyter-widgets/base",
            "_model_module_version": "1.2.0",
            "_model_name": "LayoutModel",
            "_view_count": null,
            "_view_module": "@jupyter-widgets/base",
            "_view_module_version": "1.2.0",
            "_view_name": "LayoutView",
            "align_content": null,
            "align_items": null,
            "align_self": null,
            "border": null,
            "bottom": null,
            "display": null,
            "flex": null,
            "flex_flow": null,
            "grid_area": null,
            "grid_auto_columns": null,
            "grid_auto_flow": null,
            "grid_auto_rows": null,
            "grid_column": null,
            "grid_gap": null,
            "grid_row": null,
            "grid_template_areas": null,
            "grid_template_columns": null,
            "grid_template_rows": null,
            "height": null,
            "justify_content": null,
            "justify_items": null,
            "left": null,
            "margin": null,
            "max_height": null,
            "max_width": null,
            "min_height": null,
            "min_width": null,
            "object_fit": null,
            "object_position": null,
            "order": null,
            "overflow": null,
            "overflow_x": null,
            "overflow_y": null,
            "padding": null,
            "right": null,
            "top": null,
            "visibility": null,
            "width": null
          }
        },
        "a491c7640c9e446c9618c16eb64429c3": {
          "model_module": "@jupyter-widgets/base",
          "model_name": "LayoutModel",
          "model_module_version": "1.2.0",
          "state": {
            "_model_module": "@jupyter-widgets/base",
            "_model_module_version": "1.2.0",
            "_model_name": "LayoutModel",
            "_view_count": null,
            "_view_module": "@jupyter-widgets/base",
            "_view_module_version": "1.2.0",
            "_view_name": "LayoutView",
            "align_content": null,
            "align_items": null,
            "align_self": null,
            "border": null,
            "bottom": null,
            "display": null,
            "flex": null,
            "flex_flow": null,
            "grid_area": null,
            "grid_auto_columns": null,
            "grid_auto_flow": null,
            "grid_auto_rows": null,
            "grid_column": null,
            "grid_gap": null,
            "grid_row": null,
            "grid_template_areas": null,
            "grid_template_columns": null,
            "grid_template_rows": null,
            "height": null,
            "justify_content": null,
            "justify_items": null,
            "left": null,
            "margin": null,
            "max_height": null,
            "max_width": null,
            "min_height": null,
            "min_width": null,
            "object_fit": null,
            "object_position": null,
            "order": null,
            "overflow": null,
            "overflow_x": null,
            "overflow_y": null,
            "padding": null,
            "right": null,
            "top": null,
            "visibility": null,
            "width": null
          }
        },
        "5f32a5f9ba1940a88d3babf95848dbcd": {
          "model_module": "@jupyter-widgets/controls",
          "model_name": "DescriptionStyleModel",
          "model_module_version": "1.5.0",
          "state": {
            "_model_module": "@jupyter-widgets/controls",
            "_model_module_version": "1.5.0",
            "_model_name": "DescriptionStyleModel",
            "_view_count": null,
            "_view_module": "@jupyter-widgets/base",
            "_view_module_version": "1.2.0",
            "_view_name": "StyleView",
            "description_width": ""
          }
        },
        "9163ba57693e4803b19efa3c8c9dffca": {
          "model_module": "@jupyter-widgets/base",
          "model_name": "LayoutModel",
          "model_module_version": "1.2.0",
          "state": {
            "_model_module": "@jupyter-widgets/base",
            "_model_module_version": "1.2.0",
            "_model_name": "LayoutModel",
            "_view_count": null,
            "_view_module": "@jupyter-widgets/base",
            "_view_module_version": "1.2.0",
            "_view_name": "LayoutView",
            "align_content": null,
            "align_items": null,
            "align_self": null,
            "border": null,
            "bottom": null,
            "display": null,
            "flex": null,
            "flex_flow": null,
            "grid_area": null,
            "grid_auto_columns": null,
            "grid_auto_flow": null,
            "grid_auto_rows": null,
            "grid_column": null,
            "grid_gap": null,
            "grid_row": null,
            "grid_template_areas": null,
            "grid_template_columns": null,
            "grid_template_rows": null,
            "height": null,
            "justify_content": null,
            "justify_items": null,
            "left": null,
            "margin": null,
            "max_height": null,
            "max_width": null,
            "min_height": null,
            "min_width": null,
            "object_fit": null,
            "object_position": null,
            "order": null,
            "overflow": null,
            "overflow_x": null,
            "overflow_y": null,
            "padding": null,
            "right": null,
            "top": null,
            "visibility": null,
            "width": null
          }
        },
        "7098b55a122b43a088414dd06ec28002": {
          "model_module": "@jupyter-widgets/controls",
          "model_name": "ProgressStyleModel",
          "model_module_version": "1.5.0",
          "state": {
            "_model_module": "@jupyter-widgets/controls",
            "_model_module_version": "1.5.0",
            "_model_name": "ProgressStyleModel",
            "_view_count": null,
            "_view_module": "@jupyter-widgets/base",
            "_view_module_version": "1.2.0",
            "_view_name": "StyleView",
            "bar_color": null,
            "description_width": ""
          }
        },
        "1c74dc32c39c4238bf46eba72df952f8": {
          "model_module": "@jupyter-widgets/base",
          "model_name": "LayoutModel",
          "model_module_version": "1.2.0",
          "state": {
            "_model_module": "@jupyter-widgets/base",
            "_model_module_version": "1.2.0",
            "_model_name": "LayoutModel",
            "_view_count": null,
            "_view_module": "@jupyter-widgets/base",
            "_view_module_version": "1.2.0",
            "_view_name": "LayoutView",
            "align_content": null,
            "align_items": null,
            "align_self": null,
            "border": null,
            "bottom": null,
            "display": null,
            "flex": null,
            "flex_flow": null,
            "grid_area": null,
            "grid_auto_columns": null,
            "grid_auto_flow": null,
            "grid_auto_rows": null,
            "grid_column": null,
            "grid_gap": null,
            "grid_row": null,
            "grid_template_areas": null,
            "grid_template_columns": null,
            "grid_template_rows": null,
            "height": null,
            "justify_content": null,
            "justify_items": null,
            "left": null,
            "margin": null,
            "max_height": null,
            "max_width": null,
            "min_height": null,
            "min_width": null,
            "object_fit": null,
            "object_position": null,
            "order": null,
            "overflow": null,
            "overflow_x": null,
            "overflow_y": null,
            "padding": null,
            "right": null,
            "top": null,
            "visibility": null,
            "width": null
          }
        },
        "57c8ae70b6114d66a8f208751908dddd": {
          "model_module": "@jupyter-widgets/controls",
          "model_name": "DescriptionStyleModel",
          "model_module_version": "1.5.0",
          "state": {
            "_model_module": "@jupyter-widgets/controls",
            "_model_module_version": "1.5.0",
            "_model_name": "DescriptionStyleModel",
            "_view_count": null,
            "_view_module": "@jupyter-widgets/base",
            "_view_module_version": "1.2.0",
            "_view_name": "StyleView",
            "description_width": ""
          }
        },
        "9fecdc1395a44b998f238cf6ae991a51": {
          "model_module": "@jupyter-widgets/controls",
          "model_name": "HBoxModel",
          "model_module_version": "1.5.0",
          "state": {
            "_dom_classes": [],
            "_model_module": "@jupyter-widgets/controls",
            "_model_module_version": "1.5.0",
            "_model_name": "HBoxModel",
            "_view_count": null,
            "_view_module": "@jupyter-widgets/controls",
            "_view_module_version": "1.5.0",
            "_view_name": "HBoxView",
            "box_style": "",
            "children": [
              "IPY_MODEL_0eb535d9ab5248469dd01f244e5c3c8e",
              "IPY_MODEL_ec311b769551440ab97f9bb1fbaeba5f",
              "IPY_MODEL_89efb2189d694cfda8dc9eaf48eb871c"
            ],
            "layout": "IPY_MODEL_ff6e8c75ac5b4829b5d8311a73842a5e"
          }
        },
        "0eb535d9ab5248469dd01f244e5c3c8e": {
          "model_module": "@jupyter-widgets/controls",
          "model_name": "HTMLModel",
          "model_module_version": "1.5.0",
          "state": {
            "_dom_classes": [],
            "_model_module": "@jupyter-widgets/controls",
            "_model_module_version": "1.5.0",
            "_model_name": "HTMLModel",
            "_view_count": null,
            "_view_module": "@jupyter-widgets/controls",
            "_view_module_version": "1.5.0",
            "_view_name": "HTMLView",
            "description": "",
            "description_tooltip": null,
            "layout": "IPY_MODEL_164b19ebddc84a6da7d744ad103e276f",
            "placeholder": "​",
            "style": "IPY_MODEL_863bdfdf63c042a485dc801189caa8d7",
            "value": "100%"
          }
        },
        "ec311b769551440ab97f9bb1fbaeba5f": {
          "model_module": "@jupyter-widgets/controls",
          "model_name": "FloatProgressModel",
          "model_module_version": "1.5.0",
          "state": {
            "_dom_classes": [],
            "_model_module": "@jupyter-widgets/controls",
            "_model_module_version": "1.5.0",
            "_model_name": "FloatProgressModel",
            "_view_count": null,
            "_view_module": "@jupyter-widgets/controls",
            "_view_module_version": "1.5.0",
            "_view_name": "ProgressView",
            "bar_style": "success",
            "description": "",
            "description_tooltip": null,
            "layout": "IPY_MODEL_1fdd3dd057274fe2a391d02305f31f18",
            "max": 19,
            "min": 0,
            "orientation": "horizontal",
            "style": "IPY_MODEL_45e709e9c46a418d995a0cc1a5d7ae81",
            "value": 19
          }
        },
        "89efb2189d694cfda8dc9eaf48eb871c": {
          "model_module": "@jupyter-widgets/controls",
          "model_name": "HTMLModel",
          "model_module_version": "1.5.0",
          "state": {
            "_dom_classes": [],
            "_model_module": "@jupyter-widgets/controls",
            "_model_module_version": "1.5.0",
            "_model_name": "HTMLModel",
            "_view_count": null,
            "_view_module": "@jupyter-widgets/controls",
            "_view_module_version": "1.5.0",
            "_view_name": "HTMLView",
            "description": "",
            "description_tooltip": null,
            "layout": "IPY_MODEL_944a2f8163d048c888fc24e62d3ca25e",
            "placeholder": "​",
            "style": "IPY_MODEL_c84ef6ce7e4d47229f0e5358ff7857c6",
            "value": " 19/19 [09:10&lt;00:00, 41.60s/it]"
          }
        },
        "ff6e8c75ac5b4829b5d8311a73842a5e": {
          "model_module": "@jupyter-widgets/base",
          "model_name": "LayoutModel",
          "model_module_version": "1.2.0",
          "state": {
            "_model_module": "@jupyter-widgets/base",
            "_model_module_version": "1.2.0",
            "_model_name": "LayoutModel",
            "_view_count": null,
            "_view_module": "@jupyter-widgets/base",
            "_view_module_version": "1.2.0",
            "_view_name": "LayoutView",
            "align_content": null,
            "align_items": null,
            "align_self": null,
            "border": null,
            "bottom": null,
            "display": null,
            "flex": null,
            "flex_flow": null,
            "grid_area": null,
            "grid_auto_columns": null,
            "grid_auto_flow": null,
            "grid_auto_rows": null,
            "grid_column": null,
            "grid_gap": null,
            "grid_row": null,
            "grid_template_areas": null,
            "grid_template_columns": null,
            "grid_template_rows": null,
            "height": null,
            "justify_content": null,
            "justify_items": null,
            "left": null,
            "margin": null,
            "max_height": null,
            "max_width": null,
            "min_height": null,
            "min_width": null,
            "object_fit": null,
            "object_position": null,
            "order": null,
            "overflow": null,
            "overflow_x": null,
            "overflow_y": null,
            "padding": null,
            "right": null,
            "top": null,
            "visibility": null,
            "width": null
          }
        },
        "164b19ebddc84a6da7d744ad103e276f": {
          "model_module": "@jupyter-widgets/base",
          "model_name": "LayoutModel",
          "model_module_version": "1.2.0",
          "state": {
            "_model_module": "@jupyter-widgets/base",
            "_model_module_version": "1.2.0",
            "_model_name": "LayoutModel",
            "_view_count": null,
            "_view_module": "@jupyter-widgets/base",
            "_view_module_version": "1.2.0",
            "_view_name": "LayoutView",
            "align_content": null,
            "align_items": null,
            "align_self": null,
            "border": null,
            "bottom": null,
            "display": null,
            "flex": null,
            "flex_flow": null,
            "grid_area": null,
            "grid_auto_columns": null,
            "grid_auto_flow": null,
            "grid_auto_rows": null,
            "grid_column": null,
            "grid_gap": null,
            "grid_row": null,
            "grid_template_areas": null,
            "grid_template_columns": null,
            "grid_template_rows": null,
            "height": null,
            "justify_content": null,
            "justify_items": null,
            "left": null,
            "margin": null,
            "max_height": null,
            "max_width": null,
            "min_height": null,
            "min_width": null,
            "object_fit": null,
            "object_position": null,
            "order": null,
            "overflow": null,
            "overflow_x": null,
            "overflow_y": null,
            "padding": null,
            "right": null,
            "top": null,
            "visibility": null,
            "width": null
          }
        },
        "863bdfdf63c042a485dc801189caa8d7": {
          "model_module": "@jupyter-widgets/controls",
          "model_name": "DescriptionStyleModel",
          "model_module_version": "1.5.0",
          "state": {
            "_model_module": "@jupyter-widgets/controls",
            "_model_module_version": "1.5.0",
            "_model_name": "DescriptionStyleModel",
            "_view_count": null,
            "_view_module": "@jupyter-widgets/base",
            "_view_module_version": "1.2.0",
            "_view_name": "StyleView",
            "description_width": ""
          }
        },
        "1fdd3dd057274fe2a391d02305f31f18": {
          "model_module": "@jupyter-widgets/base",
          "model_name": "LayoutModel",
          "model_module_version": "1.2.0",
          "state": {
            "_model_module": "@jupyter-widgets/base",
            "_model_module_version": "1.2.0",
            "_model_name": "LayoutModel",
            "_view_count": null,
            "_view_module": "@jupyter-widgets/base",
            "_view_module_version": "1.2.0",
            "_view_name": "LayoutView",
            "align_content": null,
            "align_items": null,
            "align_self": null,
            "border": null,
            "bottom": null,
            "display": null,
            "flex": null,
            "flex_flow": null,
            "grid_area": null,
            "grid_auto_columns": null,
            "grid_auto_flow": null,
            "grid_auto_rows": null,
            "grid_column": null,
            "grid_gap": null,
            "grid_row": null,
            "grid_template_areas": null,
            "grid_template_columns": null,
            "grid_template_rows": null,
            "height": null,
            "justify_content": null,
            "justify_items": null,
            "left": null,
            "margin": null,
            "max_height": null,
            "max_width": null,
            "min_height": null,
            "min_width": null,
            "object_fit": null,
            "object_position": null,
            "order": null,
            "overflow": null,
            "overflow_x": null,
            "overflow_y": null,
            "padding": null,
            "right": null,
            "top": null,
            "visibility": null,
            "width": null
          }
        },
        "45e709e9c46a418d995a0cc1a5d7ae81": {
          "model_module": "@jupyter-widgets/controls",
          "model_name": "ProgressStyleModel",
          "model_module_version": "1.5.0",
          "state": {
            "_model_module": "@jupyter-widgets/controls",
            "_model_module_version": "1.5.0",
            "_model_name": "ProgressStyleModel",
            "_view_count": null,
            "_view_module": "@jupyter-widgets/base",
            "_view_module_version": "1.2.0",
            "_view_name": "StyleView",
            "bar_color": null,
            "description_width": ""
          }
        },
        "944a2f8163d048c888fc24e62d3ca25e": {
          "model_module": "@jupyter-widgets/base",
          "model_name": "LayoutModel",
          "model_module_version": "1.2.0",
          "state": {
            "_model_module": "@jupyter-widgets/base",
            "_model_module_version": "1.2.0",
            "_model_name": "LayoutModel",
            "_view_count": null,
            "_view_module": "@jupyter-widgets/base",
            "_view_module_version": "1.2.0",
            "_view_name": "LayoutView",
            "align_content": null,
            "align_items": null,
            "align_self": null,
            "border": null,
            "bottom": null,
            "display": null,
            "flex": null,
            "flex_flow": null,
            "grid_area": null,
            "grid_auto_columns": null,
            "grid_auto_flow": null,
            "grid_auto_rows": null,
            "grid_column": null,
            "grid_gap": null,
            "grid_row": null,
            "grid_template_areas": null,
            "grid_template_columns": null,
            "grid_template_rows": null,
            "height": null,
            "justify_content": null,
            "justify_items": null,
            "left": null,
            "margin": null,
            "max_height": null,
            "max_width": null,
            "min_height": null,
            "min_width": null,
            "object_fit": null,
            "object_position": null,
            "order": null,
            "overflow": null,
            "overflow_x": null,
            "overflow_y": null,
            "padding": null,
            "right": null,
            "top": null,
            "visibility": null,
            "width": null
          }
        },
        "c84ef6ce7e4d47229f0e5358ff7857c6": {
          "model_module": "@jupyter-widgets/controls",
          "model_name": "DescriptionStyleModel",
          "model_module_version": "1.5.0",
          "state": {
            "_model_module": "@jupyter-widgets/controls",
            "_model_module_version": "1.5.0",
            "_model_name": "DescriptionStyleModel",
            "_view_count": null,
            "_view_module": "@jupyter-widgets/base",
            "_view_module_version": "1.2.0",
            "_view_name": "StyleView",
            "description_width": ""
          }
        },
        "a90a366276e141b89959e5360bf9eec5": {
          "model_module": "@jupyter-widgets/controls",
          "model_name": "HBoxModel",
          "model_module_version": "1.5.0",
          "state": {
            "_dom_classes": [],
            "_model_module": "@jupyter-widgets/controls",
            "_model_module_version": "1.5.0",
            "_model_name": "HBoxModel",
            "_view_count": null,
            "_view_module": "@jupyter-widgets/controls",
            "_view_module_version": "1.5.0",
            "_view_name": "HBoxView",
            "box_style": "",
            "children": [
              "IPY_MODEL_77ed1041ab1446d1ae6c324187ea019c",
              "IPY_MODEL_9c3c5040861142d58f657bcf9ae6229d",
              "IPY_MODEL_31a78bbdfed3489d96a779718456e82c"
            ],
            "layout": "IPY_MODEL_89415dd4cdd44f58914b97b72a2f2c1f"
          }
        },
        "77ed1041ab1446d1ae6c324187ea019c": {
          "model_module": "@jupyter-widgets/controls",
          "model_name": "HTMLModel",
          "model_module_version": "1.5.0",
          "state": {
            "_dom_classes": [],
            "_model_module": "@jupyter-widgets/controls",
            "_model_module_version": "1.5.0",
            "_model_name": "HTMLModel",
            "_view_count": null,
            "_view_module": "@jupyter-widgets/controls",
            "_view_module_version": "1.5.0",
            "_view_name": "HTMLView",
            "description": "",
            "description_tooltip": null,
            "layout": "IPY_MODEL_28c4c09ab87f40e2bfeca0a03b8ac1de",
            "placeholder": "​",
            "style": "IPY_MODEL_2033768ac55e4565a75c77dcd5ff0a01",
            "value": "100%"
          }
        },
        "9c3c5040861142d58f657bcf9ae6229d": {
          "model_module": "@jupyter-widgets/controls",
          "model_name": "FloatProgressModel",
          "model_module_version": "1.5.0",
          "state": {
            "_dom_classes": [],
            "_model_module": "@jupyter-widgets/controls",
            "_model_module_version": "1.5.0",
            "_model_name": "FloatProgressModel",
            "_view_count": null,
            "_view_module": "@jupyter-widgets/controls",
            "_view_module_version": "1.5.0",
            "_view_name": "ProgressView",
            "bar_style": "success",
            "description": "",
            "description_tooltip": null,
            "layout": "IPY_MODEL_b2d3b271ae56439e8b7d3ae5cb0ae4c2",
            "max": 6,
            "min": 0,
            "orientation": "horizontal",
            "style": "IPY_MODEL_83c1cafe70b6493a81320ca606df7774",
            "value": 6
          }
        },
        "31a78bbdfed3489d96a779718456e82c": {
          "model_module": "@jupyter-widgets/controls",
          "model_name": "HTMLModel",
          "model_module_version": "1.5.0",
          "state": {
            "_dom_classes": [],
            "_model_module": "@jupyter-widgets/controls",
            "_model_module_version": "1.5.0",
            "_model_name": "HTMLModel",
            "_view_count": null,
            "_view_module": "@jupyter-widgets/controls",
            "_view_module_version": "1.5.0",
            "_view_name": "HTMLView",
            "description": "",
            "description_tooltip": null,
            "layout": "IPY_MODEL_2d4644c4bca24948a0e1bc7af8c71837",
            "placeholder": "​",
            "style": "IPY_MODEL_edb70a498bfe47da9bffaa41db760de3",
            "value": " 6/6 [05:08&lt;00:00, 53.27s/it]"
          }
        },
        "89415dd4cdd44f58914b97b72a2f2c1f": {
          "model_module": "@jupyter-widgets/base",
          "model_name": "LayoutModel",
          "model_module_version": "1.2.0",
          "state": {
            "_model_module": "@jupyter-widgets/base",
            "_model_module_version": "1.2.0",
            "_model_name": "LayoutModel",
            "_view_count": null,
            "_view_module": "@jupyter-widgets/base",
            "_view_module_version": "1.2.0",
            "_view_name": "LayoutView",
            "align_content": null,
            "align_items": null,
            "align_self": null,
            "border": null,
            "bottom": null,
            "display": null,
            "flex": null,
            "flex_flow": null,
            "grid_area": null,
            "grid_auto_columns": null,
            "grid_auto_flow": null,
            "grid_auto_rows": null,
            "grid_column": null,
            "grid_gap": null,
            "grid_row": null,
            "grid_template_areas": null,
            "grid_template_columns": null,
            "grid_template_rows": null,
            "height": null,
            "justify_content": null,
            "justify_items": null,
            "left": null,
            "margin": null,
            "max_height": null,
            "max_width": null,
            "min_height": null,
            "min_width": null,
            "object_fit": null,
            "object_position": null,
            "order": null,
            "overflow": null,
            "overflow_x": null,
            "overflow_y": null,
            "padding": null,
            "right": null,
            "top": null,
            "visibility": null,
            "width": null
          }
        },
        "28c4c09ab87f40e2bfeca0a03b8ac1de": {
          "model_module": "@jupyter-widgets/base",
          "model_name": "LayoutModel",
          "model_module_version": "1.2.0",
          "state": {
            "_model_module": "@jupyter-widgets/base",
            "_model_module_version": "1.2.0",
            "_model_name": "LayoutModel",
            "_view_count": null,
            "_view_module": "@jupyter-widgets/base",
            "_view_module_version": "1.2.0",
            "_view_name": "LayoutView",
            "align_content": null,
            "align_items": null,
            "align_self": null,
            "border": null,
            "bottom": null,
            "display": null,
            "flex": null,
            "flex_flow": null,
            "grid_area": null,
            "grid_auto_columns": null,
            "grid_auto_flow": null,
            "grid_auto_rows": null,
            "grid_column": null,
            "grid_gap": null,
            "grid_row": null,
            "grid_template_areas": null,
            "grid_template_columns": null,
            "grid_template_rows": null,
            "height": null,
            "justify_content": null,
            "justify_items": null,
            "left": null,
            "margin": null,
            "max_height": null,
            "max_width": null,
            "min_height": null,
            "min_width": null,
            "object_fit": null,
            "object_position": null,
            "order": null,
            "overflow": null,
            "overflow_x": null,
            "overflow_y": null,
            "padding": null,
            "right": null,
            "top": null,
            "visibility": null,
            "width": null
          }
        },
        "2033768ac55e4565a75c77dcd5ff0a01": {
          "model_module": "@jupyter-widgets/controls",
          "model_name": "DescriptionStyleModel",
          "model_module_version": "1.5.0",
          "state": {
            "_model_module": "@jupyter-widgets/controls",
            "_model_module_version": "1.5.0",
            "_model_name": "DescriptionStyleModel",
            "_view_count": null,
            "_view_module": "@jupyter-widgets/base",
            "_view_module_version": "1.2.0",
            "_view_name": "StyleView",
            "description_width": ""
          }
        },
        "b2d3b271ae56439e8b7d3ae5cb0ae4c2": {
          "model_module": "@jupyter-widgets/base",
          "model_name": "LayoutModel",
          "model_module_version": "1.2.0",
          "state": {
            "_model_module": "@jupyter-widgets/base",
            "_model_module_version": "1.2.0",
            "_model_name": "LayoutModel",
            "_view_count": null,
            "_view_module": "@jupyter-widgets/base",
            "_view_module_version": "1.2.0",
            "_view_name": "LayoutView",
            "align_content": null,
            "align_items": null,
            "align_self": null,
            "border": null,
            "bottom": null,
            "display": null,
            "flex": null,
            "flex_flow": null,
            "grid_area": null,
            "grid_auto_columns": null,
            "grid_auto_flow": null,
            "grid_auto_rows": null,
            "grid_column": null,
            "grid_gap": null,
            "grid_row": null,
            "grid_template_areas": null,
            "grid_template_columns": null,
            "grid_template_rows": null,
            "height": null,
            "justify_content": null,
            "justify_items": null,
            "left": null,
            "margin": null,
            "max_height": null,
            "max_width": null,
            "min_height": null,
            "min_width": null,
            "object_fit": null,
            "object_position": null,
            "order": null,
            "overflow": null,
            "overflow_x": null,
            "overflow_y": null,
            "padding": null,
            "right": null,
            "top": null,
            "visibility": null,
            "width": null
          }
        },
        "83c1cafe70b6493a81320ca606df7774": {
          "model_module": "@jupyter-widgets/controls",
          "model_name": "ProgressStyleModel",
          "model_module_version": "1.5.0",
          "state": {
            "_model_module": "@jupyter-widgets/controls",
            "_model_module_version": "1.5.0",
            "_model_name": "ProgressStyleModel",
            "_view_count": null,
            "_view_module": "@jupyter-widgets/base",
            "_view_module_version": "1.2.0",
            "_view_name": "StyleView",
            "bar_color": null,
            "description_width": ""
          }
        },
        "2d4644c4bca24948a0e1bc7af8c71837": {
          "model_module": "@jupyter-widgets/base",
          "model_name": "LayoutModel",
          "model_module_version": "1.2.0",
          "state": {
            "_model_module": "@jupyter-widgets/base",
            "_model_module_version": "1.2.0",
            "_model_name": "LayoutModel",
            "_view_count": null,
            "_view_module": "@jupyter-widgets/base",
            "_view_module_version": "1.2.0",
            "_view_name": "LayoutView",
            "align_content": null,
            "align_items": null,
            "align_self": null,
            "border": null,
            "bottom": null,
            "display": null,
            "flex": null,
            "flex_flow": null,
            "grid_area": null,
            "grid_auto_columns": null,
            "grid_auto_flow": null,
            "grid_auto_rows": null,
            "grid_column": null,
            "grid_gap": null,
            "grid_row": null,
            "grid_template_areas": null,
            "grid_template_columns": null,
            "grid_template_rows": null,
            "height": null,
            "justify_content": null,
            "justify_items": null,
            "left": null,
            "margin": null,
            "max_height": null,
            "max_width": null,
            "min_height": null,
            "min_width": null,
            "object_fit": null,
            "object_position": null,
            "order": null,
            "overflow": null,
            "overflow_x": null,
            "overflow_y": null,
            "padding": null,
            "right": null,
            "top": null,
            "visibility": null,
            "width": null
          }
        },
        "edb70a498bfe47da9bffaa41db760de3": {
          "model_module": "@jupyter-widgets/controls",
          "model_name": "DescriptionStyleModel",
          "model_module_version": "1.5.0",
          "state": {
            "_model_module": "@jupyter-widgets/controls",
            "_model_module_version": "1.5.0",
            "_model_name": "DescriptionStyleModel",
            "_view_count": null,
            "_view_module": "@jupyter-widgets/base",
            "_view_module_version": "1.2.0",
            "_view_name": "StyleView",
            "description_width": ""
          }
        },
        "b0fcca0022544da9a24be509a0346207": {
          "model_module": "@jupyter-widgets/controls",
          "model_name": "HBoxModel",
          "model_module_version": "1.5.0",
          "state": {
            "_dom_classes": [],
            "_model_module": "@jupyter-widgets/controls",
            "_model_module_version": "1.5.0",
            "_model_name": "HBoxModel",
            "_view_count": null,
            "_view_module": "@jupyter-widgets/controls",
            "_view_module_version": "1.5.0",
            "_view_name": "HBoxView",
            "box_style": "",
            "children": [
              "IPY_MODEL_2ba463cf07e949c487c64421e45cf7f4",
              "IPY_MODEL_1624c24bee9d4b41b21c2a4b0464b6d1",
              "IPY_MODEL_45850743d520429ab9568597c585366d"
            ],
            "layout": "IPY_MODEL_e3c3e16de9af49a2a20fe3cb6427d206"
          }
        },
        "2ba463cf07e949c487c64421e45cf7f4": {
          "model_module": "@jupyter-widgets/controls",
          "model_name": "HTMLModel",
          "model_module_version": "1.5.0",
          "state": {
            "_dom_classes": [],
            "_model_module": "@jupyter-widgets/controls",
            "_model_module_version": "1.5.0",
            "_model_name": "HTMLModel",
            "_view_count": null,
            "_view_module": "@jupyter-widgets/controls",
            "_view_module_version": "1.5.0",
            "_view_name": "HTMLView",
            "description": "",
            "description_tooltip": null,
            "layout": "IPY_MODEL_0e69e6c6d2484a31b92bfa36f5a07cf6",
            "placeholder": "​",
            "style": "IPY_MODEL_96be1210c33e4f35b05b58ae85e6848e",
            "value": "100%"
          }
        },
        "1624c24bee9d4b41b21c2a4b0464b6d1": {
          "model_module": "@jupyter-widgets/controls",
          "model_name": "FloatProgressModel",
          "model_module_version": "1.5.0",
          "state": {
            "_dom_classes": [],
            "_model_module": "@jupyter-widgets/controls",
            "_model_module_version": "1.5.0",
            "_model_name": "FloatProgressModel",
            "_view_count": null,
            "_view_module": "@jupyter-widgets/controls",
            "_view_module_version": "1.5.0",
            "_view_name": "ProgressView",
            "bar_style": "success",
            "description": "",
            "description_tooltip": null,
            "layout": "IPY_MODEL_b19848c5b54a46349454cc360de85529",
            "max": 6,
            "min": 0,
            "orientation": "horizontal",
            "style": "IPY_MODEL_efe9d35760424148bd4625a25a4ee718",
            "value": 6
          }
        },
        "45850743d520429ab9568597c585366d": {
          "model_module": "@jupyter-widgets/controls",
          "model_name": "HTMLModel",
          "model_module_version": "1.5.0",
          "state": {
            "_dom_classes": [],
            "_model_module": "@jupyter-widgets/controls",
            "_model_module_version": "1.5.0",
            "_model_name": "HTMLModel",
            "_view_count": null,
            "_view_module": "@jupyter-widgets/controls",
            "_view_module_version": "1.5.0",
            "_view_name": "HTMLView",
            "description": "",
            "description_tooltip": null,
            "layout": "IPY_MODEL_b7fea1f43caa47de8cd728b248ad02b5",
            "placeholder": "​",
            "style": "IPY_MODEL_2fbcca5b79ce4ee295e59bb0c3811af4",
            "value": " 6/6 [08:09&lt;00:00, 86.96s/it]"
          }
        },
        "e3c3e16de9af49a2a20fe3cb6427d206": {
          "model_module": "@jupyter-widgets/base",
          "model_name": "LayoutModel",
          "model_module_version": "1.2.0",
          "state": {
            "_model_module": "@jupyter-widgets/base",
            "_model_module_version": "1.2.0",
            "_model_name": "LayoutModel",
            "_view_count": null,
            "_view_module": "@jupyter-widgets/base",
            "_view_module_version": "1.2.0",
            "_view_name": "LayoutView",
            "align_content": null,
            "align_items": null,
            "align_self": null,
            "border": null,
            "bottom": null,
            "display": null,
            "flex": null,
            "flex_flow": null,
            "grid_area": null,
            "grid_auto_columns": null,
            "grid_auto_flow": null,
            "grid_auto_rows": null,
            "grid_column": null,
            "grid_gap": null,
            "grid_row": null,
            "grid_template_areas": null,
            "grid_template_columns": null,
            "grid_template_rows": null,
            "height": null,
            "justify_content": null,
            "justify_items": null,
            "left": null,
            "margin": null,
            "max_height": null,
            "max_width": null,
            "min_height": null,
            "min_width": null,
            "object_fit": null,
            "object_position": null,
            "order": null,
            "overflow": null,
            "overflow_x": null,
            "overflow_y": null,
            "padding": null,
            "right": null,
            "top": null,
            "visibility": null,
            "width": null
          }
        },
        "0e69e6c6d2484a31b92bfa36f5a07cf6": {
          "model_module": "@jupyter-widgets/base",
          "model_name": "LayoutModel",
          "model_module_version": "1.2.0",
          "state": {
            "_model_module": "@jupyter-widgets/base",
            "_model_module_version": "1.2.0",
            "_model_name": "LayoutModel",
            "_view_count": null,
            "_view_module": "@jupyter-widgets/base",
            "_view_module_version": "1.2.0",
            "_view_name": "LayoutView",
            "align_content": null,
            "align_items": null,
            "align_self": null,
            "border": null,
            "bottom": null,
            "display": null,
            "flex": null,
            "flex_flow": null,
            "grid_area": null,
            "grid_auto_columns": null,
            "grid_auto_flow": null,
            "grid_auto_rows": null,
            "grid_column": null,
            "grid_gap": null,
            "grid_row": null,
            "grid_template_areas": null,
            "grid_template_columns": null,
            "grid_template_rows": null,
            "height": null,
            "justify_content": null,
            "justify_items": null,
            "left": null,
            "margin": null,
            "max_height": null,
            "max_width": null,
            "min_height": null,
            "min_width": null,
            "object_fit": null,
            "object_position": null,
            "order": null,
            "overflow": null,
            "overflow_x": null,
            "overflow_y": null,
            "padding": null,
            "right": null,
            "top": null,
            "visibility": null,
            "width": null
          }
        },
        "96be1210c33e4f35b05b58ae85e6848e": {
          "model_module": "@jupyter-widgets/controls",
          "model_name": "DescriptionStyleModel",
          "model_module_version": "1.5.0",
          "state": {
            "_model_module": "@jupyter-widgets/controls",
            "_model_module_version": "1.5.0",
            "_model_name": "DescriptionStyleModel",
            "_view_count": null,
            "_view_module": "@jupyter-widgets/base",
            "_view_module_version": "1.2.0",
            "_view_name": "StyleView",
            "description_width": ""
          }
        },
        "b19848c5b54a46349454cc360de85529": {
          "model_module": "@jupyter-widgets/base",
          "model_name": "LayoutModel",
          "model_module_version": "1.2.0",
          "state": {
            "_model_module": "@jupyter-widgets/base",
            "_model_module_version": "1.2.0",
            "_model_name": "LayoutModel",
            "_view_count": null,
            "_view_module": "@jupyter-widgets/base",
            "_view_module_version": "1.2.0",
            "_view_name": "LayoutView",
            "align_content": null,
            "align_items": null,
            "align_self": null,
            "border": null,
            "bottom": null,
            "display": null,
            "flex": null,
            "flex_flow": null,
            "grid_area": null,
            "grid_auto_columns": null,
            "grid_auto_flow": null,
            "grid_auto_rows": null,
            "grid_column": null,
            "grid_gap": null,
            "grid_row": null,
            "grid_template_areas": null,
            "grid_template_columns": null,
            "grid_template_rows": null,
            "height": null,
            "justify_content": null,
            "justify_items": null,
            "left": null,
            "margin": null,
            "max_height": null,
            "max_width": null,
            "min_height": null,
            "min_width": null,
            "object_fit": null,
            "object_position": null,
            "order": null,
            "overflow": null,
            "overflow_x": null,
            "overflow_y": null,
            "padding": null,
            "right": null,
            "top": null,
            "visibility": null,
            "width": null
          }
        },
        "efe9d35760424148bd4625a25a4ee718": {
          "model_module": "@jupyter-widgets/controls",
          "model_name": "ProgressStyleModel",
          "model_module_version": "1.5.0",
          "state": {
            "_model_module": "@jupyter-widgets/controls",
            "_model_module_version": "1.5.0",
            "_model_name": "ProgressStyleModel",
            "_view_count": null,
            "_view_module": "@jupyter-widgets/base",
            "_view_module_version": "1.2.0",
            "_view_name": "StyleView",
            "bar_color": null,
            "description_width": ""
          }
        },
        "b7fea1f43caa47de8cd728b248ad02b5": {
          "model_module": "@jupyter-widgets/base",
          "model_name": "LayoutModel",
          "model_module_version": "1.2.0",
          "state": {
            "_model_module": "@jupyter-widgets/base",
            "_model_module_version": "1.2.0",
            "_model_name": "LayoutModel",
            "_view_count": null,
            "_view_module": "@jupyter-widgets/base",
            "_view_module_version": "1.2.0",
            "_view_name": "LayoutView",
            "align_content": null,
            "align_items": null,
            "align_self": null,
            "border": null,
            "bottom": null,
            "display": null,
            "flex": null,
            "flex_flow": null,
            "grid_area": null,
            "grid_auto_columns": null,
            "grid_auto_flow": null,
            "grid_auto_rows": null,
            "grid_column": null,
            "grid_gap": null,
            "grid_row": null,
            "grid_template_areas": null,
            "grid_template_columns": null,
            "grid_template_rows": null,
            "height": null,
            "justify_content": null,
            "justify_items": null,
            "left": null,
            "margin": null,
            "max_height": null,
            "max_width": null,
            "min_height": null,
            "min_width": null,
            "object_fit": null,
            "object_position": null,
            "order": null,
            "overflow": null,
            "overflow_x": null,
            "overflow_y": null,
            "padding": null,
            "right": null,
            "top": null,
            "visibility": null,
            "width": null
          }
        },
        "2fbcca5b79ce4ee295e59bb0c3811af4": {
          "model_module": "@jupyter-widgets/controls",
          "model_name": "DescriptionStyleModel",
          "model_module_version": "1.5.0",
          "state": {
            "_model_module": "@jupyter-widgets/controls",
            "_model_module_version": "1.5.0",
            "_model_name": "DescriptionStyleModel",
            "_view_count": null,
            "_view_module": "@jupyter-widgets/base",
            "_view_module_version": "1.2.0",
            "_view_name": "StyleView",
            "description_width": ""
          }
        },
        "e0f415361351496cbb5f3131bc3d4400": {
          "model_module": "@jupyter-widgets/controls",
          "model_name": "HBoxModel",
          "model_module_version": "1.5.0",
          "state": {
            "_dom_classes": [],
            "_model_module": "@jupyter-widgets/controls",
            "_model_module_version": "1.5.0",
            "_model_name": "HBoxModel",
            "_view_count": null,
            "_view_module": "@jupyter-widgets/controls",
            "_view_module_version": "1.5.0",
            "_view_name": "HBoxView",
            "box_style": "",
            "children": [
              "IPY_MODEL_0f9a7f3dcfed49a999bd38a94dc45689",
              "IPY_MODEL_927f5d2a3538489a81e826e079c52d66",
              "IPY_MODEL_68204d9db9654b43b5685fe4ca6ca2ab"
            ],
            "layout": "IPY_MODEL_16bc6be9ac264f7d9a209ac26e84157d"
          }
        },
        "0f9a7f3dcfed49a999bd38a94dc45689": {
          "model_module": "@jupyter-widgets/controls",
          "model_name": "HTMLModel",
          "model_module_version": "1.5.0",
          "state": {
            "_dom_classes": [],
            "_model_module": "@jupyter-widgets/controls",
            "_model_module_version": "1.5.0",
            "_model_name": "HTMLModel",
            "_view_count": null,
            "_view_module": "@jupyter-widgets/controls",
            "_view_module_version": "1.5.0",
            "_view_name": "HTMLView",
            "description": "",
            "description_tooltip": null,
            "layout": "IPY_MODEL_63a0c036c4ff40c5a3861e9491b280f1",
            "placeholder": "​",
            "style": "IPY_MODEL_fa72115cea624bcb9ec96956e4f18160",
            "value": "100%"
          }
        },
        "927f5d2a3538489a81e826e079c52d66": {
          "model_module": "@jupyter-widgets/controls",
          "model_name": "FloatProgressModel",
          "model_module_version": "1.5.0",
          "state": {
            "_dom_classes": [],
            "_model_module": "@jupyter-widgets/controls",
            "_model_module_version": "1.5.0",
            "_model_name": "FloatProgressModel",
            "_view_count": null,
            "_view_module": "@jupyter-widgets/controls",
            "_view_module_version": "1.5.0",
            "_view_name": "ProgressView",
            "bar_style": "success",
            "description": "",
            "description_tooltip": null,
            "layout": "IPY_MODEL_b609444f34374d1abe3c0c7b5c97bc15",
            "max": 19,
            "min": 0,
            "orientation": "horizontal",
            "style": "IPY_MODEL_1e3801f8af4e40ef9e2560b26d189752",
            "value": 19
          }
        },
        "68204d9db9654b43b5685fe4ca6ca2ab": {
          "model_module": "@jupyter-widgets/controls",
          "model_name": "HTMLModel",
          "model_module_version": "1.5.0",
          "state": {
            "_dom_classes": [],
            "_model_module": "@jupyter-widgets/controls",
            "_model_module_version": "1.5.0",
            "_model_name": "HTMLModel",
            "_view_count": null,
            "_view_module": "@jupyter-widgets/controls",
            "_view_module_version": "1.5.0",
            "_view_name": "HTMLView",
            "description": "",
            "description_tooltip": null,
            "layout": "IPY_MODEL_e36ff5ce3c594556b449e360edee8dd2",
            "placeholder": "​",
            "style": "IPY_MODEL_517b132739084f119d70731f5ff636d6",
            "value": " 19/19 [22:57&lt;00:00, 124.98s/it]"
          }
        },
        "16bc6be9ac264f7d9a209ac26e84157d": {
          "model_module": "@jupyter-widgets/base",
          "model_name": "LayoutModel",
          "model_module_version": "1.2.0",
          "state": {
            "_model_module": "@jupyter-widgets/base",
            "_model_module_version": "1.2.0",
            "_model_name": "LayoutModel",
            "_view_count": null,
            "_view_module": "@jupyter-widgets/base",
            "_view_module_version": "1.2.0",
            "_view_name": "LayoutView",
            "align_content": null,
            "align_items": null,
            "align_self": null,
            "border": null,
            "bottom": null,
            "display": null,
            "flex": null,
            "flex_flow": null,
            "grid_area": null,
            "grid_auto_columns": null,
            "grid_auto_flow": null,
            "grid_auto_rows": null,
            "grid_column": null,
            "grid_gap": null,
            "grid_row": null,
            "grid_template_areas": null,
            "grid_template_columns": null,
            "grid_template_rows": null,
            "height": null,
            "justify_content": null,
            "justify_items": null,
            "left": null,
            "margin": null,
            "max_height": null,
            "max_width": null,
            "min_height": null,
            "min_width": null,
            "object_fit": null,
            "object_position": null,
            "order": null,
            "overflow": null,
            "overflow_x": null,
            "overflow_y": null,
            "padding": null,
            "right": null,
            "top": null,
            "visibility": null,
            "width": null
          }
        },
        "63a0c036c4ff40c5a3861e9491b280f1": {
          "model_module": "@jupyter-widgets/base",
          "model_name": "LayoutModel",
          "model_module_version": "1.2.0",
          "state": {
            "_model_module": "@jupyter-widgets/base",
            "_model_module_version": "1.2.0",
            "_model_name": "LayoutModel",
            "_view_count": null,
            "_view_module": "@jupyter-widgets/base",
            "_view_module_version": "1.2.0",
            "_view_name": "LayoutView",
            "align_content": null,
            "align_items": null,
            "align_self": null,
            "border": null,
            "bottom": null,
            "display": null,
            "flex": null,
            "flex_flow": null,
            "grid_area": null,
            "grid_auto_columns": null,
            "grid_auto_flow": null,
            "grid_auto_rows": null,
            "grid_column": null,
            "grid_gap": null,
            "grid_row": null,
            "grid_template_areas": null,
            "grid_template_columns": null,
            "grid_template_rows": null,
            "height": null,
            "justify_content": null,
            "justify_items": null,
            "left": null,
            "margin": null,
            "max_height": null,
            "max_width": null,
            "min_height": null,
            "min_width": null,
            "object_fit": null,
            "object_position": null,
            "order": null,
            "overflow": null,
            "overflow_x": null,
            "overflow_y": null,
            "padding": null,
            "right": null,
            "top": null,
            "visibility": null,
            "width": null
          }
        },
        "fa72115cea624bcb9ec96956e4f18160": {
          "model_module": "@jupyter-widgets/controls",
          "model_name": "DescriptionStyleModel",
          "model_module_version": "1.5.0",
          "state": {
            "_model_module": "@jupyter-widgets/controls",
            "_model_module_version": "1.5.0",
            "_model_name": "DescriptionStyleModel",
            "_view_count": null,
            "_view_module": "@jupyter-widgets/base",
            "_view_module_version": "1.2.0",
            "_view_name": "StyleView",
            "description_width": ""
          }
        },
        "b609444f34374d1abe3c0c7b5c97bc15": {
          "model_module": "@jupyter-widgets/base",
          "model_name": "LayoutModel",
          "model_module_version": "1.2.0",
          "state": {
            "_model_module": "@jupyter-widgets/base",
            "_model_module_version": "1.2.0",
            "_model_name": "LayoutModel",
            "_view_count": null,
            "_view_module": "@jupyter-widgets/base",
            "_view_module_version": "1.2.0",
            "_view_name": "LayoutView",
            "align_content": null,
            "align_items": null,
            "align_self": null,
            "border": null,
            "bottom": null,
            "display": null,
            "flex": null,
            "flex_flow": null,
            "grid_area": null,
            "grid_auto_columns": null,
            "grid_auto_flow": null,
            "grid_auto_rows": null,
            "grid_column": null,
            "grid_gap": null,
            "grid_row": null,
            "grid_template_areas": null,
            "grid_template_columns": null,
            "grid_template_rows": null,
            "height": null,
            "justify_content": null,
            "justify_items": null,
            "left": null,
            "margin": null,
            "max_height": null,
            "max_width": null,
            "min_height": null,
            "min_width": null,
            "object_fit": null,
            "object_position": null,
            "order": null,
            "overflow": null,
            "overflow_x": null,
            "overflow_y": null,
            "padding": null,
            "right": null,
            "top": null,
            "visibility": null,
            "width": null
          }
        },
        "1e3801f8af4e40ef9e2560b26d189752": {
          "model_module": "@jupyter-widgets/controls",
          "model_name": "ProgressStyleModel",
          "model_module_version": "1.5.0",
          "state": {
            "_model_module": "@jupyter-widgets/controls",
            "_model_module_version": "1.5.0",
            "_model_name": "ProgressStyleModel",
            "_view_count": null,
            "_view_module": "@jupyter-widgets/base",
            "_view_module_version": "1.2.0",
            "_view_name": "StyleView",
            "bar_color": null,
            "description_width": ""
          }
        },
        "e36ff5ce3c594556b449e360edee8dd2": {
          "model_module": "@jupyter-widgets/base",
          "model_name": "LayoutModel",
          "model_module_version": "1.2.0",
          "state": {
            "_model_module": "@jupyter-widgets/base",
            "_model_module_version": "1.2.0",
            "_model_name": "LayoutModel",
            "_view_count": null,
            "_view_module": "@jupyter-widgets/base",
            "_view_module_version": "1.2.0",
            "_view_name": "LayoutView",
            "align_content": null,
            "align_items": null,
            "align_self": null,
            "border": null,
            "bottom": null,
            "display": null,
            "flex": null,
            "flex_flow": null,
            "grid_area": null,
            "grid_auto_columns": null,
            "grid_auto_flow": null,
            "grid_auto_rows": null,
            "grid_column": null,
            "grid_gap": null,
            "grid_row": null,
            "grid_template_areas": null,
            "grid_template_columns": null,
            "grid_template_rows": null,
            "height": null,
            "justify_content": null,
            "justify_items": null,
            "left": null,
            "margin": null,
            "max_height": null,
            "max_width": null,
            "min_height": null,
            "min_width": null,
            "object_fit": null,
            "object_position": null,
            "order": null,
            "overflow": null,
            "overflow_x": null,
            "overflow_y": null,
            "padding": null,
            "right": null,
            "top": null,
            "visibility": null,
            "width": null
          }
        },
        "517b132739084f119d70731f5ff636d6": {
          "model_module": "@jupyter-widgets/controls",
          "model_name": "DescriptionStyleModel",
          "model_module_version": "1.5.0",
          "state": {
            "_model_module": "@jupyter-widgets/controls",
            "_model_module_version": "1.5.0",
            "_model_name": "DescriptionStyleModel",
            "_view_count": null,
            "_view_module": "@jupyter-widgets/base",
            "_view_module_version": "1.2.0",
            "_view_name": "StyleView",
            "description_width": ""
          }
        },
        "114b77ad844c4a3f828c7be80568004f": {
          "model_module": "@jupyter-widgets/controls",
          "model_name": "HBoxModel",
          "model_module_version": "1.5.0",
          "state": {
            "_dom_classes": [],
            "_model_module": "@jupyter-widgets/controls",
            "_model_module_version": "1.5.0",
            "_model_name": "HBoxModel",
            "_view_count": null,
            "_view_module": "@jupyter-widgets/controls",
            "_view_module_version": "1.5.0",
            "_view_name": "HBoxView",
            "box_style": "",
            "children": [
              "IPY_MODEL_2fa3bc68cf784a6b98b123a4022b7b70",
              "IPY_MODEL_cc3b2687d51a489ebc8d1c91a4f53581",
              "IPY_MODEL_e9c41fe7e11f4f5880c77f46588789ab"
            ],
            "layout": "IPY_MODEL_c735f5d3a277486fb74d98ddbceca455"
          }
        },
        "2fa3bc68cf784a6b98b123a4022b7b70": {
          "model_module": "@jupyter-widgets/controls",
          "model_name": "HTMLModel",
          "model_module_version": "1.5.0",
          "state": {
            "_dom_classes": [],
            "_model_module": "@jupyter-widgets/controls",
            "_model_module_version": "1.5.0",
            "_model_name": "HTMLModel",
            "_view_count": null,
            "_view_module": "@jupyter-widgets/controls",
            "_view_module_version": "1.5.0",
            "_view_name": "HTMLView",
            "description": "",
            "description_tooltip": null,
            "layout": "IPY_MODEL_6079daaa367c483aa3485a46b9861e60",
            "placeholder": "​",
            "style": "IPY_MODEL_30039b1e3fc84696ad742693e6e43cf6",
            "value": "100%"
          }
        },
        "cc3b2687d51a489ebc8d1c91a4f53581": {
          "model_module": "@jupyter-widgets/controls",
          "model_name": "FloatProgressModel",
          "model_module_version": "1.5.0",
          "state": {
            "_dom_classes": [],
            "_model_module": "@jupyter-widgets/controls",
            "_model_module_version": "1.5.0",
            "_model_name": "FloatProgressModel",
            "_view_count": null,
            "_view_module": "@jupyter-widgets/controls",
            "_view_module_version": "1.5.0",
            "_view_name": "ProgressView",
            "bar_style": "success",
            "description": "",
            "description_tooltip": null,
            "layout": "IPY_MODEL_9292b69c05c74c72b87134a2e651e556",
            "max": 13,
            "min": 0,
            "orientation": "horizontal",
            "style": "IPY_MODEL_1b49fa3676944e48ba04fb9f7468f174",
            "value": 13
          }
        },
        "e9c41fe7e11f4f5880c77f46588789ab": {
          "model_module": "@jupyter-widgets/controls",
          "model_name": "HTMLModel",
          "model_module_version": "1.5.0",
          "state": {
            "_dom_classes": [],
            "_model_module": "@jupyter-widgets/controls",
            "_model_module_version": "1.5.0",
            "_model_name": "HTMLModel",
            "_view_count": null,
            "_view_module": "@jupyter-widgets/controls",
            "_view_module_version": "1.5.0",
            "_view_name": "HTMLView",
            "description": "",
            "description_tooltip": null,
            "layout": "IPY_MODEL_58cd817bb76f4c0bba89bba6d1159136",
            "placeholder": "​",
            "style": "IPY_MODEL_83c44966d14b44ff85cd62dadc6af4dd",
            "value": " 13/13 [13:48&lt;00:00, 108.93s/it]"
          }
        },
        "c735f5d3a277486fb74d98ddbceca455": {
          "model_module": "@jupyter-widgets/base",
          "model_name": "LayoutModel",
          "model_module_version": "1.2.0",
          "state": {
            "_model_module": "@jupyter-widgets/base",
            "_model_module_version": "1.2.0",
            "_model_name": "LayoutModel",
            "_view_count": null,
            "_view_module": "@jupyter-widgets/base",
            "_view_module_version": "1.2.0",
            "_view_name": "LayoutView",
            "align_content": null,
            "align_items": null,
            "align_self": null,
            "border": null,
            "bottom": null,
            "display": null,
            "flex": null,
            "flex_flow": null,
            "grid_area": null,
            "grid_auto_columns": null,
            "grid_auto_flow": null,
            "grid_auto_rows": null,
            "grid_column": null,
            "grid_gap": null,
            "grid_row": null,
            "grid_template_areas": null,
            "grid_template_columns": null,
            "grid_template_rows": null,
            "height": null,
            "justify_content": null,
            "justify_items": null,
            "left": null,
            "margin": null,
            "max_height": null,
            "max_width": null,
            "min_height": null,
            "min_width": null,
            "object_fit": null,
            "object_position": null,
            "order": null,
            "overflow": null,
            "overflow_x": null,
            "overflow_y": null,
            "padding": null,
            "right": null,
            "top": null,
            "visibility": null,
            "width": null
          }
        },
        "6079daaa367c483aa3485a46b9861e60": {
          "model_module": "@jupyter-widgets/base",
          "model_name": "LayoutModel",
          "model_module_version": "1.2.0",
          "state": {
            "_model_module": "@jupyter-widgets/base",
            "_model_module_version": "1.2.0",
            "_model_name": "LayoutModel",
            "_view_count": null,
            "_view_module": "@jupyter-widgets/base",
            "_view_module_version": "1.2.0",
            "_view_name": "LayoutView",
            "align_content": null,
            "align_items": null,
            "align_self": null,
            "border": null,
            "bottom": null,
            "display": null,
            "flex": null,
            "flex_flow": null,
            "grid_area": null,
            "grid_auto_columns": null,
            "grid_auto_flow": null,
            "grid_auto_rows": null,
            "grid_column": null,
            "grid_gap": null,
            "grid_row": null,
            "grid_template_areas": null,
            "grid_template_columns": null,
            "grid_template_rows": null,
            "height": null,
            "justify_content": null,
            "justify_items": null,
            "left": null,
            "margin": null,
            "max_height": null,
            "max_width": null,
            "min_height": null,
            "min_width": null,
            "object_fit": null,
            "object_position": null,
            "order": null,
            "overflow": null,
            "overflow_x": null,
            "overflow_y": null,
            "padding": null,
            "right": null,
            "top": null,
            "visibility": null,
            "width": null
          }
        },
        "30039b1e3fc84696ad742693e6e43cf6": {
          "model_module": "@jupyter-widgets/controls",
          "model_name": "DescriptionStyleModel",
          "model_module_version": "1.5.0",
          "state": {
            "_model_module": "@jupyter-widgets/controls",
            "_model_module_version": "1.5.0",
            "_model_name": "DescriptionStyleModel",
            "_view_count": null,
            "_view_module": "@jupyter-widgets/base",
            "_view_module_version": "1.2.0",
            "_view_name": "StyleView",
            "description_width": ""
          }
        },
        "9292b69c05c74c72b87134a2e651e556": {
          "model_module": "@jupyter-widgets/base",
          "model_name": "LayoutModel",
          "model_module_version": "1.2.0",
          "state": {
            "_model_module": "@jupyter-widgets/base",
            "_model_module_version": "1.2.0",
            "_model_name": "LayoutModel",
            "_view_count": null,
            "_view_module": "@jupyter-widgets/base",
            "_view_module_version": "1.2.0",
            "_view_name": "LayoutView",
            "align_content": null,
            "align_items": null,
            "align_self": null,
            "border": null,
            "bottom": null,
            "display": null,
            "flex": null,
            "flex_flow": null,
            "grid_area": null,
            "grid_auto_columns": null,
            "grid_auto_flow": null,
            "grid_auto_rows": null,
            "grid_column": null,
            "grid_gap": null,
            "grid_row": null,
            "grid_template_areas": null,
            "grid_template_columns": null,
            "grid_template_rows": null,
            "height": null,
            "justify_content": null,
            "justify_items": null,
            "left": null,
            "margin": null,
            "max_height": null,
            "max_width": null,
            "min_height": null,
            "min_width": null,
            "object_fit": null,
            "object_position": null,
            "order": null,
            "overflow": null,
            "overflow_x": null,
            "overflow_y": null,
            "padding": null,
            "right": null,
            "top": null,
            "visibility": null,
            "width": null
          }
        },
        "1b49fa3676944e48ba04fb9f7468f174": {
          "model_module": "@jupyter-widgets/controls",
          "model_name": "ProgressStyleModel",
          "model_module_version": "1.5.0",
          "state": {
            "_model_module": "@jupyter-widgets/controls",
            "_model_module_version": "1.5.0",
            "_model_name": "ProgressStyleModel",
            "_view_count": null,
            "_view_module": "@jupyter-widgets/base",
            "_view_module_version": "1.2.0",
            "_view_name": "StyleView",
            "bar_color": null,
            "description_width": ""
          }
        },
        "58cd817bb76f4c0bba89bba6d1159136": {
          "model_module": "@jupyter-widgets/base",
          "model_name": "LayoutModel",
          "model_module_version": "1.2.0",
          "state": {
            "_model_module": "@jupyter-widgets/base",
            "_model_module_version": "1.2.0",
            "_model_name": "LayoutModel",
            "_view_count": null,
            "_view_module": "@jupyter-widgets/base",
            "_view_module_version": "1.2.0",
            "_view_name": "LayoutView",
            "align_content": null,
            "align_items": null,
            "align_self": null,
            "border": null,
            "bottom": null,
            "display": null,
            "flex": null,
            "flex_flow": null,
            "grid_area": null,
            "grid_auto_columns": null,
            "grid_auto_flow": null,
            "grid_auto_rows": null,
            "grid_column": null,
            "grid_gap": null,
            "grid_row": null,
            "grid_template_areas": null,
            "grid_template_columns": null,
            "grid_template_rows": null,
            "height": null,
            "justify_content": null,
            "justify_items": null,
            "left": null,
            "margin": null,
            "max_height": null,
            "max_width": null,
            "min_height": null,
            "min_width": null,
            "object_fit": null,
            "object_position": null,
            "order": null,
            "overflow": null,
            "overflow_x": null,
            "overflow_y": null,
            "padding": null,
            "right": null,
            "top": null,
            "visibility": null,
            "width": null
          }
        },
        "83c44966d14b44ff85cd62dadc6af4dd": {
          "model_module": "@jupyter-widgets/controls",
          "model_name": "DescriptionStyleModel",
          "model_module_version": "1.5.0",
          "state": {
            "_model_module": "@jupyter-widgets/controls",
            "_model_module_version": "1.5.0",
            "_model_name": "DescriptionStyleModel",
            "_view_count": null,
            "_view_module": "@jupyter-widgets/base",
            "_view_module_version": "1.2.0",
            "_view_name": "StyleView",
            "description_width": ""
          }
        },
        "1bfca825c46a44e8a1dbbddc488909ab": {
          "model_module": "@jupyter-widgets/controls",
          "model_name": "HBoxModel",
          "model_module_version": "1.5.0",
          "state": {
            "_dom_classes": [],
            "_model_module": "@jupyter-widgets/controls",
            "_model_module_version": "1.5.0",
            "_model_name": "HBoxModel",
            "_view_count": null,
            "_view_module": "@jupyter-widgets/controls",
            "_view_module_version": "1.5.0",
            "_view_name": "HBoxView",
            "box_style": "",
            "children": [
              "IPY_MODEL_849aec036bf04fc2a1de97bfe941fd54",
              "IPY_MODEL_b5684a37cfac43d49716627dfc87a0dc",
              "IPY_MODEL_4474e860ae4549718d1f251f1237dfdc"
            ],
            "layout": "IPY_MODEL_f30c3f463a784ebaa5ee0245baceccc3"
          }
        },
        "849aec036bf04fc2a1de97bfe941fd54": {
          "model_module": "@jupyter-widgets/controls",
          "model_name": "HTMLModel",
          "model_module_version": "1.5.0",
          "state": {
            "_dom_classes": [],
            "_model_module": "@jupyter-widgets/controls",
            "_model_module_version": "1.5.0",
            "_model_name": "HTMLModel",
            "_view_count": null,
            "_view_module": "@jupyter-widgets/controls",
            "_view_module_version": "1.5.0",
            "_view_name": "HTMLView",
            "description": "",
            "description_tooltip": null,
            "layout": "IPY_MODEL_c268c6b9ff6f4fe599e513bf623c92d4",
            "placeholder": "​",
            "style": "IPY_MODEL_e25c7c674f10420ea2ecba743587e017",
            "value": "100%"
          }
        },
        "b5684a37cfac43d49716627dfc87a0dc": {
          "model_module": "@jupyter-widgets/controls",
          "model_name": "FloatProgressModel",
          "model_module_version": "1.5.0",
          "state": {
            "_dom_classes": [],
            "_model_module": "@jupyter-widgets/controls",
            "_model_module_version": "1.5.0",
            "_model_name": "FloatProgressModel",
            "_view_count": null,
            "_view_module": "@jupyter-widgets/controls",
            "_view_module_version": "1.5.0",
            "_view_name": "ProgressView",
            "bar_style": "success",
            "description": "",
            "description_tooltip": null,
            "layout": "IPY_MODEL_f037195f2e044e1bb97a19391675a9fb",
            "max": 13,
            "min": 0,
            "orientation": "horizontal",
            "style": "IPY_MODEL_c66a518454764f3ab9e3b579b338fcb2",
            "value": 13
          }
        },
        "4474e860ae4549718d1f251f1237dfdc": {
          "model_module": "@jupyter-widgets/controls",
          "model_name": "HTMLModel",
          "model_module_version": "1.5.0",
          "state": {
            "_dom_classes": [],
            "_model_module": "@jupyter-widgets/controls",
            "_model_module_version": "1.5.0",
            "_model_name": "HTMLModel",
            "_view_count": null,
            "_view_module": "@jupyter-widgets/controls",
            "_view_module_version": "1.5.0",
            "_view_name": "HTMLView",
            "description": "",
            "description_tooltip": null,
            "layout": "IPY_MODEL_487f67b4d2854a0eb98b16d589fcf6c2",
            "placeholder": "​",
            "style": "IPY_MODEL_96e7f1d132ae4e6aa1dd13195c1b4d26",
            "value": " 13/13 [13:38&lt;00:00, 106.69s/it]"
          }
        },
        "f30c3f463a784ebaa5ee0245baceccc3": {
          "model_module": "@jupyter-widgets/base",
          "model_name": "LayoutModel",
          "model_module_version": "1.2.0",
          "state": {
            "_model_module": "@jupyter-widgets/base",
            "_model_module_version": "1.2.0",
            "_model_name": "LayoutModel",
            "_view_count": null,
            "_view_module": "@jupyter-widgets/base",
            "_view_module_version": "1.2.0",
            "_view_name": "LayoutView",
            "align_content": null,
            "align_items": null,
            "align_self": null,
            "border": null,
            "bottom": null,
            "display": null,
            "flex": null,
            "flex_flow": null,
            "grid_area": null,
            "grid_auto_columns": null,
            "grid_auto_flow": null,
            "grid_auto_rows": null,
            "grid_column": null,
            "grid_gap": null,
            "grid_row": null,
            "grid_template_areas": null,
            "grid_template_columns": null,
            "grid_template_rows": null,
            "height": null,
            "justify_content": null,
            "justify_items": null,
            "left": null,
            "margin": null,
            "max_height": null,
            "max_width": null,
            "min_height": null,
            "min_width": null,
            "object_fit": null,
            "object_position": null,
            "order": null,
            "overflow": null,
            "overflow_x": null,
            "overflow_y": null,
            "padding": null,
            "right": null,
            "top": null,
            "visibility": null,
            "width": null
          }
        },
        "c268c6b9ff6f4fe599e513bf623c92d4": {
          "model_module": "@jupyter-widgets/base",
          "model_name": "LayoutModel",
          "model_module_version": "1.2.0",
          "state": {
            "_model_module": "@jupyter-widgets/base",
            "_model_module_version": "1.2.0",
            "_model_name": "LayoutModel",
            "_view_count": null,
            "_view_module": "@jupyter-widgets/base",
            "_view_module_version": "1.2.0",
            "_view_name": "LayoutView",
            "align_content": null,
            "align_items": null,
            "align_self": null,
            "border": null,
            "bottom": null,
            "display": null,
            "flex": null,
            "flex_flow": null,
            "grid_area": null,
            "grid_auto_columns": null,
            "grid_auto_flow": null,
            "grid_auto_rows": null,
            "grid_column": null,
            "grid_gap": null,
            "grid_row": null,
            "grid_template_areas": null,
            "grid_template_columns": null,
            "grid_template_rows": null,
            "height": null,
            "justify_content": null,
            "justify_items": null,
            "left": null,
            "margin": null,
            "max_height": null,
            "max_width": null,
            "min_height": null,
            "min_width": null,
            "object_fit": null,
            "object_position": null,
            "order": null,
            "overflow": null,
            "overflow_x": null,
            "overflow_y": null,
            "padding": null,
            "right": null,
            "top": null,
            "visibility": null,
            "width": null
          }
        },
        "e25c7c674f10420ea2ecba743587e017": {
          "model_module": "@jupyter-widgets/controls",
          "model_name": "DescriptionStyleModel",
          "model_module_version": "1.5.0",
          "state": {
            "_model_module": "@jupyter-widgets/controls",
            "_model_module_version": "1.5.0",
            "_model_name": "DescriptionStyleModel",
            "_view_count": null,
            "_view_module": "@jupyter-widgets/base",
            "_view_module_version": "1.2.0",
            "_view_name": "StyleView",
            "description_width": ""
          }
        },
        "f037195f2e044e1bb97a19391675a9fb": {
          "model_module": "@jupyter-widgets/base",
          "model_name": "LayoutModel",
          "model_module_version": "1.2.0",
          "state": {
            "_model_module": "@jupyter-widgets/base",
            "_model_module_version": "1.2.0",
            "_model_name": "LayoutModel",
            "_view_count": null,
            "_view_module": "@jupyter-widgets/base",
            "_view_module_version": "1.2.0",
            "_view_name": "LayoutView",
            "align_content": null,
            "align_items": null,
            "align_self": null,
            "border": null,
            "bottom": null,
            "display": null,
            "flex": null,
            "flex_flow": null,
            "grid_area": null,
            "grid_auto_columns": null,
            "grid_auto_flow": null,
            "grid_auto_rows": null,
            "grid_column": null,
            "grid_gap": null,
            "grid_row": null,
            "grid_template_areas": null,
            "grid_template_columns": null,
            "grid_template_rows": null,
            "height": null,
            "justify_content": null,
            "justify_items": null,
            "left": null,
            "margin": null,
            "max_height": null,
            "max_width": null,
            "min_height": null,
            "min_width": null,
            "object_fit": null,
            "object_position": null,
            "order": null,
            "overflow": null,
            "overflow_x": null,
            "overflow_y": null,
            "padding": null,
            "right": null,
            "top": null,
            "visibility": null,
            "width": null
          }
        },
        "c66a518454764f3ab9e3b579b338fcb2": {
          "model_module": "@jupyter-widgets/controls",
          "model_name": "ProgressStyleModel",
          "model_module_version": "1.5.0",
          "state": {
            "_model_module": "@jupyter-widgets/controls",
            "_model_module_version": "1.5.0",
            "_model_name": "ProgressStyleModel",
            "_view_count": null,
            "_view_module": "@jupyter-widgets/base",
            "_view_module_version": "1.2.0",
            "_view_name": "StyleView",
            "bar_color": null,
            "description_width": ""
          }
        },
        "487f67b4d2854a0eb98b16d589fcf6c2": {
          "model_module": "@jupyter-widgets/base",
          "model_name": "LayoutModel",
          "model_module_version": "1.2.0",
          "state": {
            "_model_module": "@jupyter-widgets/base",
            "_model_module_version": "1.2.0",
            "_model_name": "LayoutModel",
            "_view_count": null,
            "_view_module": "@jupyter-widgets/base",
            "_view_module_version": "1.2.0",
            "_view_name": "LayoutView",
            "align_content": null,
            "align_items": null,
            "align_self": null,
            "border": null,
            "bottom": null,
            "display": null,
            "flex": null,
            "flex_flow": null,
            "grid_area": null,
            "grid_auto_columns": null,
            "grid_auto_flow": null,
            "grid_auto_rows": null,
            "grid_column": null,
            "grid_gap": null,
            "grid_row": null,
            "grid_template_areas": null,
            "grid_template_columns": null,
            "grid_template_rows": null,
            "height": null,
            "justify_content": null,
            "justify_items": null,
            "left": null,
            "margin": null,
            "max_height": null,
            "max_width": null,
            "min_height": null,
            "min_width": null,
            "object_fit": null,
            "object_position": null,
            "order": null,
            "overflow": null,
            "overflow_x": null,
            "overflow_y": null,
            "padding": null,
            "right": null,
            "top": null,
            "visibility": null,
            "width": null
          }
        },
        "96e7f1d132ae4e6aa1dd13195c1b4d26": {
          "model_module": "@jupyter-widgets/controls",
          "model_name": "DescriptionStyleModel",
          "model_module_version": "1.5.0",
          "state": {
            "_model_module": "@jupyter-widgets/controls",
            "_model_module_version": "1.5.0",
            "_model_name": "DescriptionStyleModel",
            "_view_count": null,
            "_view_module": "@jupyter-widgets/base",
            "_view_module_version": "1.2.0",
            "_view_name": "StyleView",
            "description_width": ""
          }
        },
        "a360c0825ac14386a2a4fd42dbaba8a3": {
          "model_module": "@jupyter-widgets/controls",
          "model_name": "HBoxModel",
          "model_module_version": "1.5.0",
          "state": {
            "_dom_classes": [],
            "_model_module": "@jupyter-widgets/controls",
            "_model_module_version": "1.5.0",
            "_model_name": "HBoxModel",
            "_view_count": null,
            "_view_module": "@jupyter-widgets/controls",
            "_view_module_version": "1.5.0",
            "_view_name": "HBoxView",
            "box_style": "",
            "children": [
              "IPY_MODEL_e54efb4cd0764c13bc2127ec9dcccb6e",
              "IPY_MODEL_8e5cd5926a9945df937e8885b5ce90c1",
              "IPY_MODEL_141c26f1dd69470683d0ed7080adfa47"
            ],
            "layout": "IPY_MODEL_c87541043d4b46588dc168991d4afe15"
          }
        },
        "e54efb4cd0764c13bc2127ec9dcccb6e": {
          "model_module": "@jupyter-widgets/controls",
          "model_name": "HTMLModel",
          "model_module_version": "1.5.0",
          "state": {
            "_dom_classes": [],
            "_model_module": "@jupyter-widgets/controls",
            "_model_module_version": "1.5.0",
            "_model_name": "HTMLModel",
            "_view_count": null,
            "_view_module": "@jupyter-widgets/controls",
            "_view_module_version": "1.5.0",
            "_view_name": "HTMLView",
            "description": "",
            "description_tooltip": null,
            "layout": "IPY_MODEL_481ac5d76f314c27b71db697dff762b8",
            "placeholder": "​",
            "style": "IPY_MODEL_2a71390dc1c94031a783262e437353f4",
            "value": "100%"
          }
        },
        "8e5cd5926a9945df937e8885b5ce90c1": {
          "model_module": "@jupyter-widgets/controls",
          "model_name": "FloatProgressModel",
          "model_module_version": "1.5.0",
          "state": {
            "_dom_classes": [],
            "_model_module": "@jupyter-widgets/controls",
            "_model_module_version": "1.5.0",
            "_model_name": "FloatProgressModel",
            "_view_count": null,
            "_view_module": "@jupyter-widgets/controls",
            "_view_module_version": "1.5.0",
            "_view_name": "ProgressView",
            "bar_style": "success",
            "description": "",
            "description_tooltip": null,
            "layout": "IPY_MODEL_42e55d827840418ba9d5dfbbb8f24221",
            "max": 19,
            "min": 0,
            "orientation": "horizontal",
            "style": "IPY_MODEL_bc07204d284a4a1cad7780eed40eed39",
            "value": 19
          }
        },
        "141c26f1dd69470683d0ed7080adfa47": {
          "model_module": "@jupyter-widgets/controls",
          "model_name": "HTMLModel",
          "model_module_version": "1.5.0",
          "state": {
            "_dom_classes": [],
            "_model_module": "@jupyter-widgets/controls",
            "_model_module_version": "1.5.0",
            "_model_name": "HTMLModel",
            "_view_count": null,
            "_view_module": "@jupyter-widgets/controls",
            "_view_module_version": "1.5.0",
            "_view_name": "HTMLView",
            "description": "",
            "description_tooltip": null,
            "layout": "IPY_MODEL_a8a6a0c164444975bd31d81f75e7ab5b",
            "placeholder": "​",
            "style": "IPY_MODEL_5e639d6b067f40fb83deea4d992dc310",
            "value": " 19/19 [23:18&lt;00:00, 131.61s/it]"
          }
        },
        "c87541043d4b46588dc168991d4afe15": {
          "model_module": "@jupyter-widgets/base",
          "model_name": "LayoutModel",
          "model_module_version": "1.2.0",
          "state": {
            "_model_module": "@jupyter-widgets/base",
            "_model_module_version": "1.2.0",
            "_model_name": "LayoutModel",
            "_view_count": null,
            "_view_module": "@jupyter-widgets/base",
            "_view_module_version": "1.2.0",
            "_view_name": "LayoutView",
            "align_content": null,
            "align_items": null,
            "align_self": null,
            "border": null,
            "bottom": null,
            "display": null,
            "flex": null,
            "flex_flow": null,
            "grid_area": null,
            "grid_auto_columns": null,
            "grid_auto_flow": null,
            "grid_auto_rows": null,
            "grid_column": null,
            "grid_gap": null,
            "grid_row": null,
            "grid_template_areas": null,
            "grid_template_columns": null,
            "grid_template_rows": null,
            "height": null,
            "justify_content": null,
            "justify_items": null,
            "left": null,
            "margin": null,
            "max_height": null,
            "max_width": null,
            "min_height": null,
            "min_width": null,
            "object_fit": null,
            "object_position": null,
            "order": null,
            "overflow": null,
            "overflow_x": null,
            "overflow_y": null,
            "padding": null,
            "right": null,
            "top": null,
            "visibility": null,
            "width": null
          }
        },
        "481ac5d76f314c27b71db697dff762b8": {
          "model_module": "@jupyter-widgets/base",
          "model_name": "LayoutModel",
          "model_module_version": "1.2.0",
          "state": {
            "_model_module": "@jupyter-widgets/base",
            "_model_module_version": "1.2.0",
            "_model_name": "LayoutModel",
            "_view_count": null,
            "_view_module": "@jupyter-widgets/base",
            "_view_module_version": "1.2.0",
            "_view_name": "LayoutView",
            "align_content": null,
            "align_items": null,
            "align_self": null,
            "border": null,
            "bottom": null,
            "display": null,
            "flex": null,
            "flex_flow": null,
            "grid_area": null,
            "grid_auto_columns": null,
            "grid_auto_flow": null,
            "grid_auto_rows": null,
            "grid_column": null,
            "grid_gap": null,
            "grid_row": null,
            "grid_template_areas": null,
            "grid_template_columns": null,
            "grid_template_rows": null,
            "height": null,
            "justify_content": null,
            "justify_items": null,
            "left": null,
            "margin": null,
            "max_height": null,
            "max_width": null,
            "min_height": null,
            "min_width": null,
            "object_fit": null,
            "object_position": null,
            "order": null,
            "overflow": null,
            "overflow_x": null,
            "overflow_y": null,
            "padding": null,
            "right": null,
            "top": null,
            "visibility": null,
            "width": null
          }
        },
        "2a71390dc1c94031a783262e437353f4": {
          "model_module": "@jupyter-widgets/controls",
          "model_name": "DescriptionStyleModel",
          "model_module_version": "1.5.0",
          "state": {
            "_model_module": "@jupyter-widgets/controls",
            "_model_module_version": "1.5.0",
            "_model_name": "DescriptionStyleModel",
            "_view_count": null,
            "_view_module": "@jupyter-widgets/base",
            "_view_module_version": "1.2.0",
            "_view_name": "StyleView",
            "description_width": ""
          }
        },
        "42e55d827840418ba9d5dfbbb8f24221": {
          "model_module": "@jupyter-widgets/base",
          "model_name": "LayoutModel",
          "model_module_version": "1.2.0",
          "state": {
            "_model_module": "@jupyter-widgets/base",
            "_model_module_version": "1.2.0",
            "_model_name": "LayoutModel",
            "_view_count": null,
            "_view_module": "@jupyter-widgets/base",
            "_view_module_version": "1.2.0",
            "_view_name": "LayoutView",
            "align_content": null,
            "align_items": null,
            "align_self": null,
            "border": null,
            "bottom": null,
            "display": null,
            "flex": null,
            "flex_flow": null,
            "grid_area": null,
            "grid_auto_columns": null,
            "grid_auto_flow": null,
            "grid_auto_rows": null,
            "grid_column": null,
            "grid_gap": null,
            "grid_row": null,
            "grid_template_areas": null,
            "grid_template_columns": null,
            "grid_template_rows": null,
            "height": null,
            "justify_content": null,
            "justify_items": null,
            "left": null,
            "margin": null,
            "max_height": null,
            "max_width": null,
            "min_height": null,
            "min_width": null,
            "object_fit": null,
            "object_position": null,
            "order": null,
            "overflow": null,
            "overflow_x": null,
            "overflow_y": null,
            "padding": null,
            "right": null,
            "top": null,
            "visibility": null,
            "width": null
          }
        },
        "bc07204d284a4a1cad7780eed40eed39": {
          "model_module": "@jupyter-widgets/controls",
          "model_name": "ProgressStyleModel",
          "model_module_version": "1.5.0",
          "state": {
            "_model_module": "@jupyter-widgets/controls",
            "_model_module_version": "1.5.0",
            "_model_name": "ProgressStyleModel",
            "_view_count": null,
            "_view_module": "@jupyter-widgets/base",
            "_view_module_version": "1.2.0",
            "_view_name": "StyleView",
            "bar_color": null,
            "description_width": ""
          }
        },
        "a8a6a0c164444975bd31d81f75e7ab5b": {
          "model_module": "@jupyter-widgets/base",
          "model_name": "LayoutModel",
          "model_module_version": "1.2.0",
          "state": {
            "_model_module": "@jupyter-widgets/base",
            "_model_module_version": "1.2.0",
            "_model_name": "LayoutModel",
            "_view_count": null,
            "_view_module": "@jupyter-widgets/base",
            "_view_module_version": "1.2.0",
            "_view_name": "LayoutView",
            "align_content": null,
            "align_items": null,
            "align_self": null,
            "border": null,
            "bottom": null,
            "display": null,
            "flex": null,
            "flex_flow": null,
            "grid_area": null,
            "grid_auto_columns": null,
            "grid_auto_flow": null,
            "grid_auto_rows": null,
            "grid_column": null,
            "grid_gap": null,
            "grid_row": null,
            "grid_template_areas": null,
            "grid_template_columns": null,
            "grid_template_rows": null,
            "height": null,
            "justify_content": null,
            "justify_items": null,
            "left": null,
            "margin": null,
            "max_height": null,
            "max_width": null,
            "min_height": null,
            "min_width": null,
            "object_fit": null,
            "object_position": null,
            "order": null,
            "overflow": null,
            "overflow_x": null,
            "overflow_y": null,
            "padding": null,
            "right": null,
            "top": null,
            "visibility": null,
            "width": null
          }
        },
        "5e639d6b067f40fb83deea4d992dc310": {
          "model_module": "@jupyter-widgets/controls",
          "model_name": "DescriptionStyleModel",
          "model_module_version": "1.5.0",
          "state": {
            "_model_module": "@jupyter-widgets/controls",
            "_model_module_version": "1.5.0",
            "_model_name": "DescriptionStyleModel",
            "_view_count": null,
            "_view_module": "@jupyter-widgets/base",
            "_view_module_version": "1.2.0",
            "_view_name": "StyleView",
            "description_width": ""
          }
        },
        "50386823d09f4dfa88b9a96afb450412": {
          "model_module": "@jupyter-widgets/controls",
          "model_name": "HBoxModel",
          "model_module_version": "1.5.0",
          "state": {
            "_dom_classes": [],
            "_model_module": "@jupyter-widgets/controls",
            "_model_module_version": "1.5.0",
            "_model_name": "HBoxModel",
            "_view_count": null,
            "_view_module": "@jupyter-widgets/controls",
            "_view_module_version": "1.5.0",
            "_view_name": "HBoxView",
            "box_style": "",
            "children": [
              "IPY_MODEL_e0009b031604477d99829feba8aeb68a",
              "IPY_MODEL_93bf5d7dcaa148b396953fd1bed0941c",
              "IPY_MODEL_34b91daea8d74fbe9701e6f44767aa05"
            ],
            "layout": "IPY_MODEL_bbf83de5571042dd8580a9532e9486ad"
          }
        },
        "e0009b031604477d99829feba8aeb68a": {
          "model_module": "@jupyter-widgets/controls",
          "model_name": "HTMLModel",
          "model_module_version": "1.5.0",
          "state": {
            "_dom_classes": [],
            "_model_module": "@jupyter-widgets/controls",
            "_model_module_version": "1.5.0",
            "_model_name": "HTMLModel",
            "_view_count": null,
            "_view_module": "@jupyter-widgets/controls",
            "_view_module_version": "1.5.0",
            "_view_name": "HTMLView",
            "description": "",
            "description_tooltip": null,
            "layout": "IPY_MODEL_f8fa091a62a545c0a61ff6e67a3761dd",
            "placeholder": "​",
            "style": "IPY_MODEL_d633141b15ff4fc584448c8935ba1786",
            "value": "100%"
          }
        },
        "93bf5d7dcaa148b396953fd1bed0941c": {
          "model_module": "@jupyter-widgets/controls",
          "model_name": "FloatProgressModel",
          "model_module_version": "1.5.0",
          "state": {
            "_dom_classes": [],
            "_model_module": "@jupyter-widgets/controls",
            "_model_module_version": "1.5.0",
            "_model_name": "FloatProgressModel",
            "_view_count": null,
            "_view_module": "@jupyter-widgets/controls",
            "_view_module_version": "1.5.0",
            "_view_name": "ProgressView",
            "bar_style": "success",
            "description": "",
            "description_tooltip": null,
            "layout": "IPY_MODEL_c07572c617f9409d8be66245aeb76987",
            "max": 6,
            "min": 0,
            "orientation": "horizontal",
            "style": "IPY_MODEL_2c0d3f8ba0204dcda6d6f243df9a5fa6",
            "value": 6
          }
        },
        "34b91daea8d74fbe9701e6f44767aa05": {
          "model_module": "@jupyter-widgets/controls",
          "model_name": "HTMLModel",
          "model_module_version": "1.5.0",
          "state": {
            "_dom_classes": [],
            "_model_module": "@jupyter-widgets/controls",
            "_model_module_version": "1.5.0",
            "_model_name": "HTMLModel",
            "_view_count": null,
            "_view_module": "@jupyter-widgets/controls",
            "_view_module_version": "1.5.0",
            "_view_name": "HTMLView",
            "description": "",
            "description_tooltip": null,
            "layout": "IPY_MODEL_767f153140d546c79114b4f267934957",
            "placeholder": "​",
            "style": "IPY_MODEL_77bdb0219354442b9ffe9556b02c6156",
            "value": " 6/6 [08:51&lt;00:00, 93.85s/it]"
          }
        },
        "bbf83de5571042dd8580a9532e9486ad": {
          "model_module": "@jupyter-widgets/base",
          "model_name": "LayoutModel",
          "model_module_version": "1.2.0",
          "state": {
            "_model_module": "@jupyter-widgets/base",
            "_model_module_version": "1.2.0",
            "_model_name": "LayoutModel",
            "_view_count": null,
            "_view_module": "@jupyter-widgets/base",
            "_view_module_version": "1.2.0",
            "_view_name": "LayoutView",
            "align_content": null,
            "align_items": null,
            "align_self": null,
            "border": null,
            "bottom": null,
            "display": null,
            "flex": null,
            "flex_flow": null,
            "grid_area": null,
            "grid_auto_columns": null,
            "grid_auto_flow": null,
            "grid_auto_rows": null,
            "grid_column": null,
            "grid_gap": null,
            "grid_row": null,
            "grid_template_areas": null,
            "grid_template_columns": null,
            "grid_template_rows": null,
            "height": null,
            "justify_content": null,
            "justify_items": null,
            "left": null,
            "margin": null,
            "max_height": null,
            "max_width": null,
            "min_height": null,
            "min_width": null,
            "object_fit": null,
            "object_position": null,
            "order": null,
            "overflow": null,
            "overflow_x": null,
            "overflow_y": null,
            "padding": null,
            "right": null,
            "top": null,
            "visibility": null,
            "width": null
          }
        },
        "f8fa091a62a545c0a61ff6e67a3761dd": {
          "model_module": "@jupyter-widgets/base",
          "model_name": "LayoutModel",
          "model_module_version": "1.2.0",
          "state": {
            "_model_module": "@jupyter-widgets/base",
            "_model_module_version": "1.2.0",
            "_model_name": "LayoutModel",
            "_view_count": null,
            "_view_module": "@jupyter-widgets/base",
            "_view_module_version": "1.2.0",
            "_view_name": "LayoutView",
            "align_content": null,
            "align_items": null,
            "align_self": null,
            "border": null,
            "bottom": null,
            "display": null,
            "flex": null,
            "flex_flow": null,
            "grid_area": null,
            "grid_auto_columns": null,
            "grid_auto_flow": null,
            "grid_auto_rows": null,
            "grid_column": null,
            "grid_gap": null,
            "grid_row": null,
            "grid_template_areas": null,
            "grid_template_columns": null,
            "grid_template_rows": null,
            "height": null,
            "justify_content": null,
            "justify_items": null,
            "left": null,
            "margin": null,
            "max_height": null,
            "max_width": null,
            "min_height": null,
            "min_width": null,
            "object_fit": null,
            "object_position": null,
            "order": null,
            "overflow": null,
            "overflow_x": null,
            "overflow_y": null,
            "padding": null,
            "right": null,
            "top": null,
            "visibility": null,
            "width": null
          }
        },
        "d633141b15ff4fc584448c8935ba1786": {
          "model_module": "@jupyter-widgets/controls",
          "model_name": "DescriptionStyleModel",
          "model_module_version": "1.5.0",
          "state": {
            "_model_module": "@jupyter-widgets/controls",
            "_model_module_version": "1.5.0",
            "_model_name": "DescriptionStyleModel",
            "_view_count": null,
            "_view_module": "@jupyter-widgets/base",
            "_view_module_version": "1.2.0",
            "_view_name": "StyleView",
            "description_width": ""
          }
        },
        "c07572c617f9409d8be66245aeb76987": {
          "model_module": "@jupyter-widgets/base",
          "model_name": "LayoutModel",
          "model_module_version": "1.2.0",
          "state": {
            "_model_module": "@jupyter-widgets/base",
            "_model_module_version": "1.2.0",
            "_model_name": "LayoutModel",
            "_view_count": null,
            "_view_module": "@jupyter-widgets/base",
            "_view_module_version": "1.2.0",
            "_view_name": "LayoutView",
            "align_content": null,
            "align_items": null,
            "align_self": null,
            "border": null,
            "bottom": null,
            "display": null,
            "flex": null,
            "flex_flow": null,
            "grid_area": null,
            "grid_auto_columns": null,
            "grid_auto_flow": null,
            "grid_auto_rows": null,
            "grid_column": null,
            "grid_gap": null,
            "grid_row": null,
            "grid_template_areas": null,
            "grid_template_columns": null,
            "grid_template_rows": null,
            "height": null,
            "justify_content": null,
            "justify_items": null,
            "left": null,
            "margin": null,
            "max_height": null,
            "max_width": null,
            "min_height": null,
            "min_width": null,
            "object_fit": null,
            "object_position": null,
            "order": null,
            "overflow": null,
            "overflow_x": null,
            "overflow_y": null,
            "padding": null,
            "right": null,
            "top": null,
            "visibility": null,
            "width": null
          }
        },
        "2c0d3f8ba0204dcda6d6f243df9a5fa6": {
          "model_module": "@jupyter-widgets/controls",
          "model_name": "ProgressStyleModel",
          "model_module_version": "1.5.0",
          "state": {
            "_model_module": "@jupyter-widgets/controls",
            "_model_module_version": "1.5.0",
            "_model_name": "ProgressStyleModel",
            "_view_count": null,
            "_view_module": "@jupyter-widgets/base",
            "_view_module_version": "1.2.0",
            "_view_name": "StyleView",
            "bar_color": null,
            "description_width": ""
          }
        },
        "767f153140d546c79114b4f267934957": {
          "model_module": "@jupyter-widgets/base",
          "model_name": "LayoutModel",
          "model_module_version": "1.2.0",
          "state": {
            "_model_module": "@jupyter-widgets/base",
            "_model_module_version": "1.2.0",
            "_model_name": "LayoutModel",
            "_view_count": null,
            "_view_module": "@jupyter-widgets/base",
            "_view_module_version": "1.2.0",
            "_view_name": "LayoutView",
            "align_content": null,
            "align_items": null,
            "align_self": null,
            "border": null,
            "bottom": null,
            "display": null,
            "flex": null,
            "flex_flow": null,
            "grid_area": null,
            "grid_auto_columns": null,
            "grid_auto_flow": null,
            "grid_auto_rows": null,
            "grid_column": null,
            "grid_gap": null,
            "grid_row": null,
            "grid_template_areas": null,
            "grid_template_columns": null,
            "grid_template_rows": null,
            "height": null,
            "justify_content": null,
            "justify_items": null,
            "left": null,
            "margin": null,
            "max_height": null,
            "max_width": null,
            "min_height": null,
            "min_width": null,
            "object_fit": null,
            "object_position": null,
            "order": null,
            "overflow": null,
            "overflow_x": null,
            "overflow_y": null,
            "padding": null,
            "right": null,
            "top": null,
            "visibility": null,
            "width": null
          }
        },
        "77bdb0219354442b9ffe9556b02c6156": {
          "model_module": "@jupyter-widgets/controls",
          "model_name": "DescriptionStyleModel",
          "model_module_version": "1.5.0",
          "state": {
            "_model_module": "@jupyter-widgets/controls",
            "_model_module_version": "1.5.0",
            "_model_name": "DescriptionStyleModel",
            "_view_count": null,
            "_view_module": "@jupyter-widgets/base",
            "_view_module_version": "1.2.0",
            "_view_name": "StyleView",
            "description_width": ""
          }
        },
        "d170c4f9f9c845a6b268893a93cf2e23": {
          "model_module": "@jupyter-widgets/controls",
          "model_name": "HBoxModel",
          "model_module_version": "1.5.0",
          "state": {
            "_dom_classes": [],
            "_model_module": "@jupyter-widgets/controls",
            "_model_module_version": "1.5.0",
            "_model_name": "HBoxModel",
            "_view_count": null,
            "_view_module": "@jupyter-widgets/controls",
            "_view_module_version": "1.5.0",
            "_view_name": "HBoxView",
            "box_style": "",
            "children": [
              "IPY_MODEL_8c4331e7306e4fb38133821005ab671e",
              "IPY_MODEL_d0e16ed023dd4610b9b9b3d575094b13",
              "IPY_MODEL_77797a7440dd41cd8f9bc0d2d790f18f"
            ],
            "layout": "IPY_MODEL_d9025166ddf24db4af5942d1b3d200f9"
          }
        },
        "8c4331e7306e4fb38133821005ab671e": {
          "model_module": "@jupyter-widgets/controls",
          "model_name": "HTMLModel",
          "model_module_version": "1.5.0",
          "state": {
            "_dom_classes": [],
            "_model_module": "@jupyter-widgets/controls",
            "_model_module_version": "1.5.0",
            "_model_name": "HTMLModel",
            "_view_count": null,
            "_view_module": "@jupyter-widgets/controls",
            "_view_module_version": "1.5.0",
            "_view_name": "HTMLView",
            "description": "",
            "description_tooltip": null,
            "layout": "IPY_MODEL_8bb7810972474f6d9a78357c2e919d4a",
            "placeholder": "​",
            "style": "IPY_MODEL_650ed41257fb46d593d395e5d1f8df90",
            "value": "100%"
          }
        },
        "d0e16ed023dd4610b9b9b3d575094b13": {
          "model_module": "@jupyter-widgets/controls",
          "model_name": "FloatProgressModel",
          "model_module_version": "1.5.0",
          "state": {
            "_dom_classes": [],
            "_model_module": "@jupyter-widgets/controls",
            "_model_module_version": "1.5.0",
            "_model_name": "FloatProgressModel",
            "_view_count": null,
            "_view_module": "@jupyter-widgets/controls",
            "_view_module_version": "1.5.0",
            "_view_name": "ProgressView",
            "bar_style": "success",
            "description": "",
            "description_tooltip": null,
            "layout": "IPY_MODEL_8987d92892584313b7f8dc4668d5f541",
            "max": 46830571,
            "min": 0,
            "orientation": "horizontal",
            "style": "IPY_MODEL_69afc8e6536f4ae3a291fd940633bb0e",
            "value": 46830571
          }
        },
        "77797a7440dd41cd8f9bc0d2d790f18f": {
          "model_module": "@jupyter-widgets/controls",
          "model_name": "HTMLModel",
          "model_module_version": "1.5.0",
          "state": {
            "_dom_classes": [],
            "_model_module": "@jupyter-widgets/controls",
            "_model_module_version": "1.5.0",
            "_model_name": "HTMLModel",
            "_view_count": null,
            "_view_module": "@jupyter-widgets/controls",
            "_view_module_version": "1.5.0",
            "_view_name": "HTMLView",
            "description": "",
            "description_tooltip": null,
            "layout": "IPY_MODEL_9eaa331c54a34c9694f083c3a26f8c4f",
            "placeholder": "​",
            "style": "IPY_MODEL_aa81bb537e9d4f85baf4c62809773f6f",
            "value": " 44.7M/44.7M [00:00&lt;00:00, 71.6MB/s]"
          }
        },
        "d9025166ddf24db4af5942d1b3d200f9": {
          "model_module": "@jupyter-widgets/base",
          "model_name": "LayoutModel",
          "model_module_version": "1.2.0",
          "state": {
            "_model_module": "@jupyter-widgets/base",
            "_model_module_version": "1.2.0",
            "_model_name": "LayoutModel",
            "_view_count": null,
            "_view_module": "@jupyter-widgets/base",
            "_view_module_version": "1.2.0",
            "_view_name": "LayoutView",
            "align_content": null,
            "align_items": null,
            "align_self": null,
            "border": null,
            "bottom": null,
            "display": null,
            "flex": null,
            "flex_flow": null,
            "grid_area": null,
            "grid_auto_columns": null,
            "grid_auto_flow": null,
            "grid_auto_rows": null,
            "grid_column": null,
            "grid_gap": null,
            "grid_row": null,
            "grid_template_areas": null,
            "grid_template_columns": null,
            "grid_template_rows": null,
            "height": null,
            "justify_content": null,
            "justify_items": null,
            "left": null,
            "margin": null,
            "max_height": null,
            "max_width": null,
            "min_height": null,
            "min_width": null,
            "object_fit": null,
            "object_position": null,
            "order": null,
            "overflow": null,
            "overflow_x": null,
            "overflow_y": null,
            "padding": null,
            "right": null,
            "top": null,
            "visibility": null,
            "width": null
          }
        },
        "8bb7810972474f6d9a78357c2e919d4a": {
          "model_module": "@jupyter-widgets/base",
          "model_name": "LayoutModel",
          "model_module_version": "1.2.0",
          "state": {
            "_model_module": "@jupyter-widgets/base",
            "_model_module_version": "1.2.0",
            "_model_name": "LayoutModel",
            "_view_count": null,
            "_view_module": "@jupyter-widgets/base",
            "_view_module_version": "1.2.0",
            "_view_name": "LayoutView",
            "align_content": null,
            "align_items": null,
            "align_self": null,
            "border": null,
            "bottom": null,
            "display": null,
            "flex": null,
            "flex_flow": null,
            "grid_area": null,
            "grid_auto_columns": null,
            "grid_auto_flow": null,
            "grid_auto_rows": null,
            "grid_column": null,
            "grid_gap": null,
            "grid_row": null,
            "grid_template_areas": null,
            "grid_template_columns": null,
            "grid_template_rows": null,
            "height": null,
            "justify_content": null,
            "justify_items": null,
            "left": null,
            "margin": null,
            "max_height": null,
            "max_width": null,
            "min_height": null,
            "min_width": null,
            "object_fit": null,
            "object_position": null,
            "order": null,
            "overflow": null,
            "overflow_x": null,
            "overflow_y": null,
            "padding": null,
            "right": null,
            "top": null,
            "visibility": null,
            "width": null
          }
        },
        "650ed41257fb46d593d395e5d1f8df90": {
          "model_module": "@jupyter-widgets/controls",
          "model_name": "DescriptionStyleModel",
          "model_module_version": "1.5.0",
          "state": {
            "_model_module": "@jupyter-widgets/controls",
            "_model_module_version": "1.5.0",
            "_model_name": "DescriptionStyleModel",
            "_view_count": null,
            "_view_module": "@jupyter-widgets/base",
            "_view_module_version": "1.2.0",
            "_view_name": "StyleView",
            "description_width": ""
          }
        },
        "8987d92892584313b7f8dc4668d5f541": {
          "model_module": "@jupyter-widgets/base",
          "model_name": "LayoutModel",
          "model_module_version": "1.2.0",
          "state": {
            "_model_module": "@jupyter-widgets/base",
            "_model_module_version": "1.2.0",
            "_model_name": "LayoutModel",
            "_view_count": null,
            "_view_module": "@jupyter-widgets/base",
            "_view_module_version": "1.2.0",
            "_view_name": "LayoutView",
            "align_content": null,
            "align_items": null,
            "align_self": null,
            "border": null,
            "bottom": null,
            "display": null,
            "flex": null,
            "flex_flow": null,
            "grid_area": null,
            "grid_auto_columns": null,
            "grid_auto_flow": null,
            "grid_auto_rows": null,
            "grid_column": null,
            "grid_gap": null,
            "grid_row": null,
            "grid_template_areas": null,
            "grid_template_columns": null,
            "grid_template_rows": null,
            "height": null,
            "justify_content": null,
            "justify_items": null,
            "left": null,
            "margin": null,
            "max_height": null,
            "max_width": null,
            "min_height": null,
            "min_width": null,
            "object_fit": null,
            "object_position": null,
            "order": null,
            "overflow": null,
            "overflow_x": null,
            "overflow_y": null,
            "padding": null,
            "right": null,
            "top": null,
            "visibility": null,
            "width": null
          }
        },
        "69afc8e6536f4ae3a291fd940633bb0e": {
          "model_module": "@jupyter-widgets/controls",
          "model_name": "ProgressStyleModel",
          "model_module_version": "1.5.0",
          "state": {
            "_model_module": "@jupyter-widgets/controls",
            "_model_module_version": "1.5.0",
            "_model_name": "ProgressStyleModel",
            "_view_count": null,
            "_view_module": "@jupyter-widgets/base",
            "_view_module_version": "1.2.0",
            "_view_name": "StyleView",
            "bar_color": null,
            "description_width": ""
          }
        },
        "9eaa331c54a34c9694f083c3a26f8c4f": {
          "model_module": "@jupyter-widgets/base",
          "model_name": "LayoutModel",
          "model_module_version": "1.2.0",
          "state": {
            "_model_module": "@jupyter-widgets/base",
            "_model_module_version": "1.2.0",
            "_model_name": "LayoutModel",
            "_view_count": null,
            "_view_module": "@jupyter-widgets/base",
            "_view_module_version": "1.2.0",
            "_view_name": "LayoutView",
            "align_content": null,
            "align_items": null,
            "align_self": null,
            "border": null,
            "bottom": null,
            "display": null,
            "flex": null,
            "flex_flow": null,
            "grid_area": null,
            "grid_auto_columns": null,
            "grid_auto_flow": null,
            "grid_auto_rows": null,
            "grid_column": null,
            "grid_gap": null,
            "grid_row": null,
            "grid_template_areas": null,
            "grid_template_columns": null,
            "grid_template_rows": null,
            "height": null,
            "justify_content": null,
            "justify_items": null,
            "left": null,
            "margin": null,
            "max_height": null,
            "max_width": null,
            "min_height": null,
            "min_width": null,
            "object_fit": null,
            "object_position": null,
            "order": null,
            "overflow": null,
            "overflow_x": null,
            "overflow_y": null,
            "padding": null,
            "right": null,
            "top": null,
            "visibility": null,
            "width": null
          }
        },
        "aa81bb537e9d4f85baf4c62809773f6f": {
          "model_module": "@jupyter-widgets/controls",
          "model_name": "DescriptionStyleModel",
          "model_module_version": "1.5.0",
          "state": {
            "_model_module": "@jupyter-widgets/controls",
            "_model_module_version": "1.5.0",
            "_model_name": "DescriptionStyleModel",
            "_view_count": null,
            "_view_module": "@jupyter-widgets/base",
            "_view_module_version": "1.2.0",
            "_view_name": "StyleView",
            "description_width": ""
          }
        },
        "1c0eaa0c02cd40f995ed69475ef4621f": {
          "model_module": "@jupyter-widgets/controls",
          "model_name": "HBoxModel",
          "model_module_version": "1.5.0",
          "state": {
            "_dom_classes": [],
            "_model_module": "@jupyter-widgets/controls",
            "_model_module_version": "1.5.0",
            "_model_name": "HBoxModel",
            "_view_count": null,
            "_view_module": "@jupyter-widgets/controls",
            "_view_module_version": "1.5.0",
            "_view_name": "HBoxView",
            "box_style": "",
            "children": [
              "IPY_MODEL_7cd07006a88d4b9da24d766c81c1c18e",
              "IPY_MODEL_9db10f5a0b454506af7349483b507da5",
              "IPY_MODEL_de240af51e7045a9be3e2d443355c277"
            ],
            "layout": "IPY_MODEL_f4269245b7cf4829a896b0b1a9c1417c"
          }
        },
        "7cd07006a88d4b9da24d766c81c1c18e": {
          "model_module": "@jupyter-widgets/controls",
          "model_name": "HTMLModel",
          "model_module_version": "1.5.0",
          "state": {
            "_dom_classes": [],
            "_model_module": "@jupyter-widgets/controls",
            "_model_module_version": "1.5.0",
            "_model_name": "HTMLModel",
            "_view_count": null,
            "_view_module": "@jupyter-widgets/controls",
            "_view_module_version": "1.5.0",
            "_view_name": "HTMLView",
            "description": "",
            "description_tooltip": null,
            "layout": "IPY_MODEL_949d78a5ec2c48c8895791dfc65f52fa",
            "placeholder": "​",
            "style": "IPY_MODEL_fc389f6078034113b752409251c87f6e",
            "value": "100%"
          }
        },
        "9db10f5a0b454506af7349483b507da5": {
          "model_module": "@jupyter-widgets/controls",
          "model_name": "FloatProgressModel",
          "model_module_version": "1.5.0",
          "state": {
            "_dom_classes": [],
            "_model_module": "@jupyter-widgets/controls",
            "_model_module_version": "1.5.0",
            "_model_name": "FloatProgressModel",
            "_view_count": null,
            "_view_module": "@jupyter-widgets/controls",
            "_view_module_version": "1.5.0",
            "_view_name": "ProgressView",
            "bar_style": "success",
            "description": "",
            "description_tooltip": null,
            "layout": "IPY_MODEL_16a6f60d483349aa9fa4f34c99228cf6",
            "max": 244408911,
            "min": 0,
            "orientation": "horizontal",
            "style": "IPY_MODEL_7eee76b13c4a43fa95c2083462a63c68",
            "value": 244408911
          }
        },
        "de240af51e7045a9be3e2d443355c277": {
          "model_module": "@jupyter-widgets/controls",
          "model_name": "HTMLModel",
          "model_module_version": "1.5.0",
          "state": {
            "_dom_classes": [],
            "_model_module": "@jupyter-widgets/controls",
            "_model_module_version": "1.5.0",
            "_model_name": "HTMLModel",
            "_view_count": null,
            "_view_module": "@jupyter-widgets/controls",
            "_view_module_version": "1.5.0",
            "_view_name": "HTMLView",
            "description": "",
            "description_tooltip": null,
            "layout": "IPY_MODEL_5faae209223e4b5f839b06be9b0bdbdf",
            "placeholder": "​",
            "style": "IPY_MODEL_5a248f13a7034b34adb37ee9eb494c5e",
            "value": " 233M/233M [00:03&lt;00:00, 71.6MB/s]"
          }
        },
        "f4269245b7cf4829a896b0b1a9c1417c": {
          "model_module": "@jupyter-widgets/base",
          "model_name": "LayoutModel",
          "model_module_version": "1.2.0",
          "state": {
            "_model_module": "@jupyter-widgets/base",
            "_model_module_version": "1.2.0",
            "_model_name": "LayoutModel",
            "_view_count": null,
            "_view_module": "@jupyter-widgets/base",
            "_view_module_version": "1.2.0",
            "_view_name": "LayoutView",
            "align_content": null,
            "align_items": null,
            "align_self": null,
            "border": null,
            "bottom": null,
            "display": null,
            "flex": null,
            "flex_flow": null,
            "grid_area": null,
            "grid_auto_columns": null,
            "grid_auto_flow": null,
            "grid_auto_rows": null,
            "grid_column": null,
            "grid_gap": null,
            "grid_row": null,
            "grid_template_areas": null,
            "grid_template_columns": null,
            "grid_template_rows": null,
            "height": null,
            "justify_content": null,
            "justify_items": null,
            "left": null,
            "margin": null,
            "max_height": null,
            "max_width": null,
            "min_height": null,
            "min_width": null,
            "object_fit": null,
            "object_position": null,
            "order": null,
            "overflow": null,
            "overflow_x": null,
            "overflow_y": null,
            "padding": null,
            "right": null,
            "top": null,
            "visibility": null,
            "width": null
          }
        },
        "949d78a5ec2c48c8895791dfc65f52fa": {
          "model_module": "@jupyter-widgets/base",
          "model_name": "LayoutModel",
          "model_module_version": "1.2.0",
          "state": {
            "_model_module": "@jupyter-widgets/base",
            "_model_module_version": "1.2.0",
            "_model_name": "LayoutModel",
            "_view_count": null,
            "_view_module": "@jupyter-widgets/base",
            "_view_module_version": "1.2.0",
            "_view_name": "LayoutView",
            "align_content": null,
            "align_items": null,
            "align_self": null,
            "border": null,
            "bottom": null,
            "display": null,
            "flex": null,
            "flex_flow": null,
            "grid_area": null,
            "grid_auto_columns": null,
            "grid_auto_flow": null,
            "grid_auto_rows": null,
            "grid_column": null,
            "grid_gap": null,
            "grid_row": null,
            "grid_template_areas": null,
            "grid_template_columns": null,
            "grid_template_rows": null,
            "height": null,
            "justify_content": null,
            "justify_items": null,
            "left": null,
            "margin": null,
            "max_height": null,
            "max_width": null,
            "min_height": null,
            "min_width": null,
            "object_fit": null,
            "object_position": null,
            "order": null,
            "overflow": null,
            "overflow_x": null,
            "overflow_y": null,
            "padding": null,
            "right": null,
            "top": null,
            "visibility": null,
            "width": null
          }
        },
        "fc389f6078034113b752409251c87f6e": {
          "model_module": "@jupyter-widgets/controls",
          "model_name": "DescriptionStyleModel",
          "model_module_version": "1.5.0",
          "state": {
            "_model_module": "@jupyter-widgets/controls",
            "_model_module_version": "1.5.0",
            "_model_name": "DescriptionStyleModel",
            "_view_count": null,
            "_view_module": "@jupyter-widgets/base",
            "_view_module_version": "1.2.0",
            "_view_name": "StyleView",
            "description_width": ""
          }
        },
        "16a6f60d483349aa9fa4f34c99228cf6": {
          "model_module": "@jupyter-widgets/base",
          "model_name": "LayoutModel",
          "model_module_version": "1.2.0",
          "state": {
            "_model_module": "@jupyter-widgets/base",
            "_model_module_version": "1.2.0",
            "_model_name": "LayoutModel",
            "_view_count": null,
            "_view_module": "@jupyter-widgets/base",
            "_view_module_version": "1.2.0",
            "_view_name": "LayoutView",
            "align_content": null,
            "align_items": null,
            "align_self": null,
            "border": null,
            "bottom": null,
            "display": null,
            "flex": null,
            "flex_flow": null,
            "grid_area": null,
            "grid_auto_columns": null,
            "grid_auto_flow": null,
            "grid_auto_rows": null,
            "grid_column": null,
            "grid_gap": null,
            "grid_row": null,
            "grid_template_areas": null,
            "grid_template_columns": null,
            "grid_template_rows": null,
            "height": null,
            "justify_content": null,
            "justify_items": null,
            "left": null,
            "margin": null,
            "max_height": null,
            "max_width": null,
            "min_height": null,
            "min_width": null,
            "object_fit": null,
            "object_position": null,
            "order": null,
            "overflow": null,
            "overflow_x": null,
            "overflow_y": null,
            "padding": null,
            "right": null,
            "top": null,
            "visibility": null,
            "width": null
          }
        },
        "7eee76b13c4a43fa95c2083462a63c68": {
          "model_module": "@jupyter-widgets/controls",
          "model_name": "ProgressStyleModel",
          "model_module_version": "1.5.0",
          "state": {
            "_model_module": "@jupyter-widgets/controls",
            "_model_module_version": "1.5.0",
            "_model_name": "ProgressStyleModel",
            "_view_count": null,
            "_view_module": "@jupyter-widgets/base",
            "_view_module_version": "1.2.0",
            "_view_name": "StyleView",
            "bar_color": null,
            "description_width": ""
          }
        },
        "5faae209223e4b5f839b06be9b0bdbdf": {
          "model_module": "@jupyter-widgets/base",
          "model_name": "LayoutModel",
          "model_module_version": "1.2.0",
          "state": {
            "_model_module": "@jupyter-widgets/base",
            "_model_module_version": "1.2.0",
            "_model_name": "LayoutModel",
            "_view_count": null,
            "_view_module": "@jupyter-widgets/base",
            "_view_module_version": "1.2.0",
            "_view_name": "LayoutView",
            "align_content": null,
            "align_items": null,
            "align_self": null,
            "border": null,
            "bottom": null,
            "display": null,
            "flex": null,
            "flex_flow": null,
            "grid_area": null,
            "grid_auto_columns": null,
            "grid_auto_flow": null,
            "grid_auto_rows": null,
            "grid_column": null,
            "grid_gap": null,
            "grid_row": null,
            "grid_template_areas": null,
            "grid_template_columns": null,
            "grid_template_rows": null,
            "height": null,
            "justify_content": null,
            "justify_items": null,
            "left": null,
            "margin": null,
            "max_height": null,
            "max_width": null,
            "min_height": null,
            "min_width": null,
            "object_fit": null,
            "object_position": null,
            "order": null,
            "overflow": null,
            "overflow_x": null,
            "overflow_y": null,
            "padding": null,
            "right": null,
            "top": null,
            "visibility": null,
            "width": null
          }
        },
        "5a248f13a7034b34adb37ee9eb494c5e": {
          "model_module": "@jupyter-widgets/controls",
          "model_name": "DescriptionStyleModel",
          "model_module_version": "1.5.0",
          "state": {
            "_model_module": "@jupyter-widgets/controls",
            "_model_module_version": "1.5.0",
            "_model_name": "DescriptionStyleModel",
            "_view_count": null,
            "_view_module": "@jupyter-widgets/base",
            "_view_module_version": "1.2.0",
            "_view_name": "StyleView",
            "description_width": ""
          }
        },
        "af7e25b82e994410ae39ad5ac5de22f3": {
          "model_module": "@jupyter-widgets/controls",
          "model_name": "HBoxModel",
          "model_module_version": "1.5.0",
          "state": {
            "_dom_classes": [],
            "_model_module": "@jupyter-widgets/controls",
            "_model_module_version": "1.5.0",
            "_model_name": "HBoxModel",
            "_view_count": null,
            "_view_module": "@jupyter-widgets/controls",
            "_view_module_version": "1.5.0",
            "_view_name": "HBoxView",
            "box_style": "",
            "children": [
              "IPY_MODEL_2dc2a427be394b85ad47d5a1ba1fd1e8",
              "IPY_MODEL_35f7935345614f48b8c1e81ea888e266",
              "IPY_MODEL_ee970e663e44409ca3c7d83ae989cf38"
            ],
            "layout": "IPY_MODEL_1899c6ce1b21419ab1dbfafbd47e3440"
          }
        },
        "2dc2a427be394b85ad47d5a1ba1fd1e8": {
          "model_module": "@jupyter-widgets/controls",
          "model_name": "HTMLModel",
          "model_module_version": "1.5.0",
          "state": {
            "_dom_classes": [],
            "_model_module": "@jupyter-widgets/controls",
            "_model_module_version": "1.5.0",
            "_model_name": "HTMLModel",
            "_view_count": null,
            "_view_module": "@jupyter-widgets/controls",
            "_view_module_version": "1.5.0",
            "_view_name": "HTMLView",
            "description": "",
            "description_tooltip": null,
            "layout": "IPY_MODEL_976e466f2663467192fce436ba311d22",
            "placeholder": "​",
            "style": "IPY_MODEL_b7c78224457c43eca5fc140f87feb224",
            "value": "100%"
          }
        },
        "35f7935345614f48b8c1e81ea888e266": {
          "model_module": "@jupyter-widgets/controls",
          "model_name": "FloatProgressModel",
          "model_module_version": "1.5.0",
          "state": {
            "_dom_classes": [],
            "_model_module": "@jupyter-widgets/controls",
            "_model_module_version": "1.5.0",
            "_model_name": "FloatProgressModel",
            "_view_count": null,
            "_view_module": "@jupyter-widgets/controls",
            "_view_module_version": "1.5.0",
            "_view_name": "ProgressView",
            "bar_style": "success",
            "description": "",
            "description_tooltip": null,
            "layout": "IPY_MODEL_75de7e2d8e2141049bc80f6b85cb4802",
            "max": 531460341,
            "min": 0,
            "orientation": "horizontal",
            "style": "IPY_MODEL_11e1a35acb14498daac5fb88105d60ae",
            "value": 531460341
          }
        },
        "ee970e663e44409ca3c7d83ae989cf38": {
          "model_module": "@jupyter-widgets/controls",
          "model_name": "HTMLModel",
          "model_module_version": "1.5.0",
          "state": {
            "_dom_classes": [],
            "_model_module": "@jupyter-widgets/controls",
            "_model_module_version": "1.5.0",
            "_model_name": "HTMLModel",
            "_view_count": null,
            "_view_module": "@jupyter-widgets/controls",
            "_view_module_version": "1.5.0",
            "_view_name": "HTMLView",
            "description": "",
            "description_tooltip": null,
            "layout": "IPY_MODEL_b9f98942d38d4acb9e0ab01efc3f41fc",
            "placeholder": "​",
            "style": "IPY_MODEL_bb91c6bb96e2451084baaaae1d928dc0",
            "value": " 507M/507M [00:08&lt;00:00, 65.4MB/s]"
          }
        },
        "1899c6ce1b21419ab1dbfafbd47e3440": {
          "model_module": "@jupyter-widgets/base",
          "model_name": "LayoutModel",
          "model_module_version": "1.2.0",
          "state": {
            "_model_module": "@jupyter-widgets/base",
            "_model_module_version": "1.2.0",
            "_model_name": "LayoutModel",
            "_view_count": null,
            "_view_module": "@jupyter-widgets/base",
            "_view_module_version": "1.2.0",
            "_view_name": "LayoutView",
            "align_content": null,
            "align_items": null,
            "align_self": null,
            "border": null,
            "bottom": null,
            "display": null,
            "flex": null,
            "flex_flow": null,
            "grid_area": null,
            "grid_auto_columns": null,
            "grid_auto_flow": null,
            "grid_auto_rows": null,
            "grid_column": null,
            "grid_gap": null,
            "grid_row": null,
            "grid_template_areas": null,
            "grid_template_columns": null,
            "grid_template_rows": null,
            "height": null,
            "justify_content": null,
            "justify_items": null,
            "left": null,
            "margin": null,
            "max_height": null,
            "max_width": null,
            "min_height": null,
            "min_width": null,
            "object_fit": null,
            "object_position": null,
            "order": null,
            "overflow": null,
            "overflow_x": null,
            "overflow_y": null,
            "padding": null,
            "right": null,
            "top": null,
            "visibility": null,
            "width": null
          }
        },
        "976e466f2663467192fce436ba311d22": {
          "model_module": "@jupyter-widgets/base",
          "model_name": "LayoutModel",
          "model_module_version": "1.2.0",
          "state": {
            "_model_module": "@jupyter-widgets/base",
            "_model_module_version": "1.2.0",
            "_model_name": "LayoutModel",
            "_view_count": null,
            "_view_module": "@jupyter-widgets/base",
            "_view_module_version": "1.2.0",
            "_view_name": "LayoutView",
            "align_content": null,
            "align_items": null,
            "align_self": null,
            "border": null,
            "bottom": null,
            "display": null,
            "flex": null,
            "flex_flow": null,
            "grid_area": null,
            "grid_auto_columns": null,
            "grid_auto_flow": null,
            "grid_auto_rows": null,
            "grid_column": null,
            "grid_gap": null,
            "grid_row": null,
            "grid_template_areas": null,
            "grid_template_columns": null,
            "grid_template_rows": null,
            "height": null,
            "justify_content": null,
            "justify_items": null,
            "left": null,
            "margin": null,
            "max_height": null,
            "max_width": null,
            "min_height": null,
            "min_width": null,
            "object_fit": null,
            "object_position": null,
            "order": null,
            "overflow": null,
            "overflow_x": null,
            "overflow_y": null,
            "padding": null,
            "right": null,
            "top": null,
            "visibility": null,
            "width": null
          }
        },
        "b7c78224457c43eca5fc140f87feb224": {
          "model_module": "@jupyter-widgets/controls",
          "model_name": "DescriptionStyleModel",
          "model_module_version": "1.5.0",
          "state": {
            "_model_module": "@jupyter-widgets/controls",
            "_model_module_version": "1.5.0",
            "_model_name": "DescriptionStyleModel",
            "_view_count": null,
            "_view_module": "@jupyter-widgets/base",
            "_view_module_version": "1.2.0",
            "_view_name": "StyleView",
            "description_width": ""
          }
        },
        "75de7e2d8e2141049bc80f6b85cb4802": {
          "model_module": "@jupyter-widgets/base",
          "model_name": "LayoutModel",
          "model_module_version": "1.2.0",
          "state": {
            "_model_module": "@jupyter-widgets/base",
            "_model_module_version": "1.2.0",
            "_model_name": "LayoutModel",
            "_view_count": null,
            "_view_module": "@jupyter-widgets/base",
            "_view_module_version": "1.2.0",
            "_view_name": "LayoutView",
            "align_content": null,
            "align_items": null,
            "align_self": null,
            "border": null,
            "bottom": null,
            "display": null,
            "flex": null,
            "flex_flow": null,
            "grid_area": null,
            "grid_auto_columns": null,
            "grid_auto_flow": null,
            "grid_auto_rows": null,
            "grid_column": null,
            "grid_gap": null,
            "grid_row": null,
            "grid_template_areas": null,
            "grid_template_columns": null,
            "grid_template_rows": null,
            "height": null,
            "justify_content": null,
            "justify_items": null,
            "left": null,
            "margin": null,
            "max_height": null,
            "max_width": null,
            "min_height": null,
            "min_width": null,
            "object_fit": null,
            "object_position": null,
            "order": null,
            "overflow": null,
            "overflow_x": null,
            "overflow_y": null,
            "padding": null,
            "right": null,
            "top": null,
            "visibility": null,
            "width": null
          }
        },
        "11e1a35acb14498daac5fb88105d60ae": {
          "model_module": "@jupyter-widgets/controls",
          "model_name": "ProgressStyleModel",
          "model_module_version": "1.5.0",
          "state": {
            "_model_module": "@jupyter-widgets/controls",
            "_model_module_version": "1.5.0",
            "_model_name": "ProgressStyleModel",
            "_view_count": null,
            "_view_module": "@jupyter-widgets/base",
            "_view_module_version": "1.2.0",
            "_view_name": "StyleView",
            "bar_color": null,
            "description_width": ""
          }
        },
        "b9f98942d38d4acb9e0ab01efc3f41fc": {
          "model_module": "@jupyter-widgets/base",
          "model_name": "LayoutModel",
          "model_module_version": "1.2.0",
          "state": {
            "_model_module": "@jupyter-widgets/base",
            "_model_module_version": "1.2.0",
            "_model_name": "LayoutModel",
            "_view_count": null,
            "_view_module": "@jupyter-widgets/base",
            "_view_module_version": "1.2.0",
            "_view_name": "LayoutView",
            "align_content": null,
            "align_items": null,
            "align_self": null,
            "border": null,
            "bottom": null,
            "display": null,
            "flex": null,
            "flex_flow": null,
            "grid_area": null,
            "grid_auto_columns": null,
            "grid_auto_flow": null,
            "grid_auto_rows": null,
            "grid_column": null,
            "grid_gap": null,
            "grid_row": null,
            "grid_template_areas": null,
            "grid_template_columns": null,
            "grid_template_rows": null,
            "height": null,
            "justify_content": null,
            "justify_items": null,
            "left": null,
            "margin": null,
            "max_height": null,
            "max_width": null,
            "min_height": null,
            "min_width": null,
            "object_fit": null,
            "object_position": null,
            "order": null,
            "overflow": null,
            "overflow_x": null,
            "overflow_y": null,
            "padding": null,
            "right": null,
            "top": null,
            "visibility": null,
            "width": null
          }
        },
        "bb91c6bb96e2451084baaaae1d928dc0": {
          "model_module": "@jupyter-widgets/controls",
          "model_name": "DescriptionStyleModel",
          "model_module_version": "1.5.0",
          "state": {
            "_model_module": "@jupyter-widgets/controls",
            "_model_module_version": "1.5.0",
            "_model_name": "DescriptionStyleModel",
            "_view_count": null,
            "_view_module": "@jupyter-widgets/base",
            "_view_module_version": "1.2.0",
            "_view_name": "StyleView",
            "description_width": ""
          }
        },
        "777732199b304bf2a1d5b8426044b8ef": {
          "model_module": "@jupyter-widgets/controls",
          "model_name": "HBoxModel",
          "model_module_version": "1.5.0",
          "state": {
            "_dom_classes": [],
            "_model_module": "@jupyter-widgets/controls",
            "_model_module_version": "1.5.0",
            "_model_name": "HBoxModel",
            "_view_count": null,
            "_view_module": "@jupyter-widgets/controls",
            "_view_module_version": "1.5.0",
            "_view_name": "HBoxView",
            "box_style": "",
            "children": [
              "IPY_MODEL_e8a83c43608643ff87abae16366fc88d",
              "IPY_MODEL_15ac8aff52774983b3ebff4211b5a851",
              "IPY_MODEL_5c0c6b2cc4fd45c291b89881748b11e0"
            ],
            "layout": "IPY_MODEL_0f8876f5c23947db9e0318febaa3c2d1"
          }
        },
        "e8a83c43608643ff87abae16366fc88d": {
          "model_module": "@jupyter-widgets/controls",
          "model_name": "HTMLModel",
          "model_module_version": "1.5.0",
          "state": {
            "_dom_classes": [],
            "_model_module": "@jupyter-widgets/controls",
            "_model_module_version": "1.5.0",
            "_model_name": "HTMLModel",
            "_view_count": null,
            "_view_module": "@jupyter-widgets/controls",
            "_view_module_version": "1.5.0",
            "_view_name": "HTMLView",
            "description": "",
            "description_tooltip": null,
            "layout": "IPY_MODEL_9a0ad444570c456f8b54a938ec78b94e",
            "placeholder": "​",
            "style": "IPY_MODEL_aa6f3b8311f94097b0313cc381de513f",
            "value": "100%"
          }
        },
        "15ac8aff52774983b3ebff4211b5a851": {
          "model_module": "@jupyter-widgets/controls",
          "model_name": "FloatProgressModel",
          "model_module_version": "1.5.0",
          "state": {
            "_dom_classes": [],
            "_model_module": "@jupyter-widgets/controls",
            "_model_module_version": "1.5.0",
            "_model_name": "FloatProgressModel",
            "_view_count": null,
            "_view_module": "@jupyter-widgets/controls",
            "_view_module_version": "1.5.0",
            "_view_name": "ProgressView",
            "bar_style": "success",
            "description": "",
            "description_tooltip": null,
            "layout": "IPY_MODEL_029711d124824d049c6325b75aba6ffb",
            "max": 32342954,
            "min": 0,
            "orientation": "horizontal",
            "style": "IPY_MODEL_d99ec6364b87456da2f0663cadd66c8d",
            "value": 32342954
          }
        },
        "5c0c6b2cc4fd45c291b89881748b11e0": {
          "model_module": "@jupyter-widgets/controls",
          "model_name": "HTMLModel",
          "model_module_version": "1.5.0",
          "state": {
            "_dom_classes": [],
            "_model_module": "@jupyter-widgets/controls",
            "_model_module_version": "1.5.0",
            "_model_name": "HTMLModel",
            "_view_count": null,
            "_view_module": "@jupyter-widgets/controls",
            "_view_module_version": "1.5.0",
            "_view_name": "HTMLView",
            "description": "",
            "description_tooltip": null,
            "layout": "IPY_MODEL_60dcd27c06074785861bdff069f087a5",
            "placeholder": "​",
            "style": "IPY_MODEL_c4295510543a4b51a76d38c22b43a2e4",
            "value": " 30.8M/30.8M [00:00&lt;00:00, 75.8MB/s]"
          }
        },
        "0f8876f5c23947db9e0318febaa3c2d1": {
          "model_module": "@jupyter-widgets/base",
          "model_name": "LayoutModel",
          "model_module_version": "1.2.0",
          "state": {
            "_model_module": "@jupyter-widgets/base",
            "_model_module_version": "1.2.0",
            "_model_name": "LayoutModel",
            "_view_count": null,
            "_view_module": "@jupyter-widgets/base",
            "_view_module_version": "1.2.0",
            "_view_name": "LayoutView",
            "align_content": null,
            "align_items": null,
            "align_self": null,
            "border": null,
            "bottom": null,
            "display": null,
            "flex": null,
            "flex_flow": null,
            "grid_area": null,
            "grid_auto_columns": null,
            "grid_auto_flow": null,
            "grid_auto_rows": null,
            "grid_column": null,
            "grid_gap": null,
            "grid_row": null,
            "grid_template_areas": null,
            "grid_template_columns": null,
            "grid_template_rows": null,
            "height": null,
            "justify_content": null,
            "justify_items": null,
            "left": null,
            "margin": null,
            "max_height": null,
            "max_width": null,
            "min_height": null,
            "min_width": null,
            "object_fit": null,
            "object_position": null,
            "order": null,
            "overflow": null,
            "overflow_x": null,
            "overflow_y": null,
            "padding": null,
            "right": null,
            "top": null,
            "visibility": null,
            "width": null
          }
        },
        "9a0ad444570c456f8b54a938ec78b94e": {
          "model_module": "@jupyter-widgets/base",
          "model_name": "LayoutModel",
          "model_module_version": "1.2.0",
          "state": {
            "_model_module": "@jupyter-widgets/base",
            "_model_module_version": "1.2.0",
            "_model_name": "LayoutModel",
            "_view_count": null,
            "_view_module": "@jupyter-widgets/base",
            "_view_module_version": "1.2.0",
            "_view_name": "LayoutView",
            "align_content": null,
            "align_items": null,
            "align_self": null,
            "border": null,
            "bottom": null,
            "display": null,
            "flex": null,
            "flex_flow": null,
            "grid_area": null,
            "grid_auto_columns": null,
            "grid_auto_flow": null,
            "grid_auto_rows": null,
            "grid_column": null,
            "grid_gap": null,
            "grid_row": null,
            "grid_template_areas": null,
            "grid_template_columns": null,
            "grid_template_rows": null,
            "height": null,
            "justify_content": null,
            "justify_items": null,
            "left": null,
            "margin": null,
            "max_height": null,
            "max_width": null,
            "min_height": null,
            "min_width": null,
            "object_fit": null,
            "object_position": null,
            "order": null,
            "overflow": null,
            "overflow_x": null,
            "overflow_y": null,
            "padding": null,
            "right": null,
            "top": null,
            "visibility": null,
            "width": null
          }
        },
        "aa6f3b8311f94097b0313cc381de513f": {
          "model_module": "@jupyter-widgets/controls",
          "model_name": "DescriptionStyleModel",
          "model_module_version": "1.5.0",
          "state": {
            "_model_module": "@jupyter-widgets/controls",
            "_model_module_version": "1.5.0",
            "_model_name": "DescriptionStyleModel",
            "_view_count": null,
            "_view_module": "@jupyter-widgets/base",
            "_view_module_version": "1.2.0",
            "_view_name": "StyleView",
            "description_width": ""
          }
        },
        "029711d124824d049c6325b75aba6ffb": {
          "model_module": "@jupyter-widgets/base",
          "model_name": "LayoutModel",
          "model_module_version": "1.2.0",
          "state": {
            "_model_module": "@jupyter-widgets/base",
            "_model_module_version": "1.2.0",
            "_model_name": "LayoutModel",
            "_view_count": null,
            "_view_module": "@jupyter-widgets/base",
            "_view_module_version": "1.2.0",
            "_view_name": "LayoutView",
            "align_content": null,
            "align_items": null,
            "align_self": null,
            "border": null,
            "bottom": null,
            "display": null,
            "flex": null,
            "flex_flow": null,
            "grid_area": null,
            "grid_auto_columns": null,
            "grid_auto_flow": null,
            "grid_auto_rows": null,
            "grid_column": null,
            "grid_gap": null,
            "grid_row": null,
            "grid_template_areas": null,
            "grid_template_columns": null,
            "grid_template_rows": null,
            "height": null,
            "justify_content": null,
            "justify_items": null,
            "left": null,
            "margin": null,
            "max_height": null,
            "max_width": null,
            "min_height": null,
            "min_width": null,
            "object_fit": null,
            "object_position": null,
            "order": null,
            "overflow": null,
            "overflow_x": null,
            "overflow_y": null,
            "padding": null,
            "right": null,
            "top": null,
            "visibility": null,
            "width": null
          }
        },
        "d99ec6364b87456da2f0663cadd66c8d": {
          "model_module": "@jupyter-widgets/controls",
          "model_name": "ProgressStyleModel",
          "model_module_version": "1.5.0",
          "state": {
            "_model_module": "@jupyter-widgets/controls",
            "_model_module_version": "1.5.0",
            "_model_name": "ProgressStyleModel",
            "_view_count": null,
            "_view_module": "@jupyter-widgets/base",
            "_view_module_version": "1.2.0",
            "_view_name": "StyleView",
            "bar_color": null,
            "description_width": ""
          }
        },
        "60dcd27c06074785861bdff069f087a5": {
          "model_module": "@jupyter-widgets/base",
          "model_name": "LayoutModel",
          "model_module_version": "1.2.0",
          "state": {
            "_model_module": "@jupyter-widgets/base",
            "_model_module_version": "1.2.0",
            "_model_name": "LayoutModel",
            "_view_count": null,
            "_view_module": "@jupyter-widgets/base",
            "_view_module_version": "1.2.0",
            "_view_name": "LayoutView",
            "align_content": null,
            "align_items": null,
            "align_self": null,
            "border": null,
            "bottom": null,
            "display": null,
            "flex": null,
            "flex_flow": null,
            "grid_area": null,
            "grid_auto_columns": null,
            "grid_auto_flow": null,
            "grid_auto_rows": null,
            "grid_column": null,
            "grid_gap": null,
            "grid_row": null,
            "grid_template_areas": null,
            "grid_template_columns": null,
            "grid_template_rows": null,
            "height": null,
            "justify_content": null,
            "justify_items": null,
            "left": null,
            "margin": null,
            "max_height": null,
            "max_width": null,
            "min_height": null,
            "min_width": null,
            "object_fit": null,
            "object_position": null,
            "order": null,
            "overflow": null,
            "overflow_x": null,
            "overflow_y": null,
            "padding": null,
            "right": null,
            "top": null,
            "visibility": null,
            "width": null
          }
        },
        "c4295510543a4b51a76d38c22b43a2e4": {
          "model_module": "@jupyter-widgets/controls",
          "model_name": "DescriptionStyleModel",
          "model_module_version": "1.5.0",
          "state": {
            "_model_module": "@jupyter-widgets/controls",
            "_model_module_version": "1.5.0",
            "_model_name": "DescriptionStyleModel",
            "_view_count": null,
            "_view_module": "@jupyter-widgets/base",
            "_view_module_version": "1.2.0",
            "_view_name": "StyleView",
            "description_width": ""
          }
        },
        "72f3126fd8664c7abc70e6d6e0ef4099": {
          "model_module": "@jupyter-widgets/controls",
          "model_name": "HBoxModel",
          "model_module_version": "1.5.0",
          "state": {
            "_dom_classes": [],
            "_model_module": "@jupyter-widgets/controls",
            "_model_module_version": "1.5.0",
            "_model_name": "HBoxModel",
            "_view_count": null,
            "_view_module": "@jupyter-widgets/controls",
            "_view_module_version": "1.5.0",
            "_view_name": "HBoxView",
            "box_style": "",
            "children": [
              "IPY_MODEL_47669c13e0934c80ab2f37a4ded3502b",
              "IPY_MODEL_f0cee8233b16462c92c521d74e6a60ee",
              "IPY_MODEL_5c12935f93b74e4e934f12620002502e"
            ],
            "layout": "IPY_MODEL_8e1308700c4e4e469d1d5e2d4d24e122"
          }
        },
        "47669c13e0934c80ab2f37a4ded3502b": {
          "model_module": "@jupyter-widgets/controls",
          "model_name": "HTMLModel",
          "model_module_version": "1.5.0",
          "state": {
            "_dom_classes": [],
            "_model_module": "@jupyter-widgets/controls",
            "_model_module_version": "1.5.0",
            "_model_name": "HTMLModel",
            "_view_count": null,
            "_view_module": "@jupyter-widgets/controls",
            "_view_module_version": "1.5.0",
            "_view_name": "HTMLView",
            "description": "",
            "description_tooltip": null,
            "layout": "IPY_MODEL_b35fdfd1f6de44c281078e4530345126",
            "placeholder": "​",
            "style": "IPY_MODEL_38cb4130897d41d1a9a982c60a3f5ecf",
            "value": "100%"
          }
        },
        "f0cee8233b16462c92c521d74e6a60ee": {
          "model_module": "@jupyter-widgets/controls",
          "model_name": "FloatProgressModel",
          "model_module_version": "1.5.0",
          "state": {
            "_dom_classes": [],
            "_model_module": "@jupyter-widgets/controls",
            "_model_module_version": "1.5.0",
            "_model_name": "FloatProgressModel",
            "_view_count": null,
            "_view_module": "@jupyter-widgets/controls",
            "_view_module_version": "1.5.0",
            "_view_name": "ProgressView",
            "bar_style": "success",
            "description": "",
            "description_tooltip": null,
            "layout": "IPY_MODEL_2966df11d946423ca58bf060942bfce7",
            "max": 173394125,
            "min": 0,
            "orientation": "horizontal",
            "style": "IPY_MODEL_b89b2397d7e9408eb80aef49d9e3781a",
            "value": 173394125
          }
        },
        "5c12935f93b74e4e934f12620002502e": {
          "model_module": "@jupyter-widgets/controls",
          "model_name": "HTMLModel",
          "model_module_version": "1.5.0",
          "state": {
            "_dom_classes": [],
            "_model_module": "@jupyter-widgets/controls",
            "_model_module_version": "1.5.0",
            "_model_name": "HTMLModel",
            "_view_count": null,
            "_view_module": "@jupyter-widgets/controls",
            "_view_module_version": "1.5.0",
            "_view_name": "HTMLView",
            "description": "",
            "description_tooltip": null,
            "layout": "IPY_MODEL_f24ffc97196345c697acb431a728fc70",
            "placeholder": "​",
            "style": "IPY_MODEL_d41a9461adee4b42bea2cca7dbfb09a2",
            "value": " 165M/165M [00:02&lt;00:00, 81.2MB/s]"
          }
        },
        "8e1308700c4e4e469d1d5e2d4d24e122": {
          "model_module": "@jupyter-widgets/base",
          "model_name": "LayoutModel",
          "model_module_version": "1.2.0",
          "state": {
            "_model_module": "@jupyter-widgets/base",
            "_model_module_version": "1.2.0",
            "_model_name": "LayoutModel",
            "_view_count": null,
            "_view_module": "@jupyter-widgets/base",
            "_view_module_version": "1.2.0",
            "_view_name": "LayoutView",
            "align_content": null,
            "align_items": null,
            "align_self": null,
            "border": null,
            "bottom": null,
            "display": null,
            "flex": null,
            "flex_flow": null,
            "grid_area": null,
            "grid_auto_columns": null,
            "grid_auto_flow": null,
            "grid_auto_rows": null,
            "grid_column": null,
            "grid_gap": null,
            "grid_row": null,
            "grid_template_areas": null,
            "grid_template_columns": null,
            "grid_template_rows": null,
            "height": null,
            "justify_content": null,
            "justify_items": null,
            "left": null,
            "margin": null,
            "max_height": null,
            "max_width": null,
            "min_height": null,
            "min_width": null,
            "object_fit": null,
            "object_position": null,
            "order": null,
            "overflow": null,
            "overflow_x": null,
            "overflow_y": null,
            "padding": null,
            "right": null,
            "top": null,
            "visibility": null,
            "width": null
          }
        },
        "b35fdfd1f6de44c281078e4530345126": {
          "model_module": "@jupyter-widgets/base",
          "model_name": "LayoutModel",
          "model_module_version": "1.2.0",
          "state": {
            "_model_module": "@jupyter-widgets/base",
            "_model_module_version": "1.2.0",
            "_model_name": "LayoutModel",
            "_view_count": null,
            "_view_module": "@jupyter-widgets/base",
            "_view_module_version": "1.2.0",
            "_view_name": "LayoutView",
            "align_content": null,
            "align_items": null,
            "align_self": null,
            "border": null,
            "bottom": null,
            "display": null,
            "flex": null,
            "flex_flow": null,
            "grid_area": null,
            "grid_auto_columns": null,
            "grid_auto_flow": null,
            "grid_auto_rows": null,
            "grid_column": null,
            "grid_gap": null,
            "grid_row": null,
            "grid_template_areas": null,
            "grid_template_columns": null,
            "grid_template_rows": null,
            "height": null,
            "justify_content": null,
            "justify_items": null,
            "left": null,
            "margin": null,
            "max_height": null,
            "max_width": null,
            "min_height": null,
            "min_width": null,
            "object_fit": null,
            "object_position": null,
            "order": null,
            "overflow": null,
            "overflow_x": null,
            "overflow_y": null,
            "padding": null,
            "right": null,
            "top": null,
            "visibility": null,
            "width": null
          }
        },
        "38cb4130897d41d1a9a982c60a3f5ecf": {
          "model_module": "@jupyter-widgets/controls",
          "model_name": "DescriptionStyleModel",
          "model_module_version": "1.5.0",
          "state": {
            "_model_module": "@jupyter-widgets/controls",
            "_model_module_version": "1.5.0",
            "_model_name": "DescriptionStyleModel",
            "_view_count": null,
            "_view_module": "@jupyter-widgets/base",
            "_view_module_version": "1.2.0",
            "_view_name": "StyleView",
            "description_width": ""
          }
        },
        "2966df11d946423ca58bf060942bfce7": {
          "model_module": "@jupyter-widgets/base",
          "model_name": "LayoutModel",
          "model_module_version": "1.2.0",
          "state": {
            "_model_module": "@jupyter-widgets/base",
            "_model_module_version": "1.2.0",
            "_model_name": "LayoutModel",
            "_view_count": null,
            "_view_module": "@jupyter-widgets/base",
            "_view_module_version": "1.2.0",
            "_view_name": "LayoutView",
            "align_content": null,
            "align_items": null,
            "align_self": null,
            "border": null,
            "bottom": null,
            "display": null,
            "flex": null,
            "flex_flow": null,
            "grid_area": null,
            "grid_auto_columns": null,
            "grid_auto_flow": null,
            "grid_auto_rows": null,
            "grid_column": null,
            "grid_gap": null,
            "grid_row": null,
            "grid_template_areas": null,
            "grid_template_columns": null,
            "grid_template_rows": null,
            "height": null,
            "justify_content": null,
            "justify_items": null,
            "left": null,
            "margin": null,
            "max_height": null,
            "max_width": null,
            "min_height": null,
            "min_width": null,
            "object_fit": null,
            "object_position": null,
            "order": null,
            "overflow": null,
            "overflow_x": null,
            "overflow_y": null,
            "padding": null,
            "right": null,
            "top": null,
            "visibility": null,
            "width": null
          }
        },
        "b89b2397d7e9408eb80aef49d9e3781a": {
          "model_module": "@jupyter-widgets/controls",
          "model_name": "ProgressStyleModel",
          "model_module_version": "1.5.0",
          "state": {
            "_model_module": "@jupyter-widgets/controls",
            "_model_module_version": "1.5.0",
            "_model_name": "ProgressStyleModel",
            "_view_count": null,
            "_view_module": "@jupyter-widgets/base",
            "_view_module_version": "1.2.0",
            "_view_name": "StyleView",
            "bar_color": null,
            "description_width": ""
          }
        },
        "f24ffc97196345c697acb431a728fc70": {
          "model_module": "@jupyter-widgets/base",
          "model_name": "LayoutModel",
          "model_module_version": "1.2.0",
          "state": {
            "_model_module": "@jupyter-widgets/base",
            "_model_module_version": "1.2.0",
            "_model_name": "LayoutModel",
            "_view_count": null,
            "_view_module": "@jupyter-widgets/base",
            "_view_module_version": "1.2.0",
            "_view_name": "LayoutView",
            "align_content": null,
            "align_items": null,
            "align_self": null,
            "border": null,
            "bottom": null,
            "display": null,
            "flex": null,
            "flex_flow": null,
            "grid_area": null,
            "grid_auto_columns": null,
            "grid_auto_flow": null,
            "grid_auto_rows": null,
            "grid_column": null,
            "grid_gap": null,
            "grid_row": null,
            "grid_template_areas": null,
            "grid_template_columns": null,
            "grid_template_rows": null,
            "height": null,
            "justify_content": null,
            "justify_items": null,
            "left": null,
            "margin": null,
            "max_height": null,
            "max_width": null,
            "min_height": null,
            "min_width": null,
            "object_fit": null,
            "object_position": null,
            "order": null,
            "overflow": null,
            "overflow_x": null,
            "overflow_y": null,
            "padding": null,
            "right": null,
            "top": null,
            "visibility": null,
            "width": null
          }
        },
        "d41a9461adee4b42bea2cca7dbfb09a2": {
          "model_module": "@jupyter-widgets/controls",
          "model_name": "DescriptionStyleModel",
          "model_module_version": "1.5.0",
          "state": {
            "_model_module": "@jupyter-widgets/controls",
            "_model_module_version": "1.5.0",
            "_model_name": "DescriptionStyleModel",
            "_view_count": null,
            "_view_module": "@jupyter-widgets/base",
            "_view_module_version": "1.2.0",
            "_view_name": "StyleView",
            "description_width": ""
          }
        }
      }
    }
  },
  "nbformat": 4,
  "nbformat_minor": 0
}